{
  "nbformat": 4,
  "nbformat_minor": 0,
  "metadata": {
    "colab": {
      "provenance": [],
      "authorship_tag": "ABX9TyOO5Xgop+Zch4GVEYj/2J8K",
      "include_colab_link": true
    },
    "kernelspec": {
      "name": "python3",
      "display_name": "Python 3"
    },
    "language_info": {
      "name": "python"
    }
  },
  "cells": [
    {
      "cell_type": "markdown",
      "metadata": {
        "id": "view-in-github",
        "colab_type": "text"
      },
      "source": [
        "<a href=\"https://colab.research.google.com/github/SvetlanaSel/oop/blob/main/lab1_2.ipynb\" target=\"_parent\"><img src=\"https://colab.research.google.com/assets/colab-badge.svg\" alt=\"Open In Colab\"/></a>"
      ]
    },
    {
      "cell_type": "markdown",
      "source": [
        "#1.2.1 \n",
        "Создание новых экземпляров объектов класса может быть отличным способом отслеживания значений с помощью атрибутов, связанных с объектом. Значения этих атрибутов можно легко изменить на уровне объекта. Следующий код иллюстрирует знаменитую цитату Джорджа Бернарда Шоу, в которой объекты используются для представления людей.\n",
        "\n",
        "---\n",
        "Заполните пробелы, чтобы код соответствовал поведению, описанному в цитате ниже\n",
        "\n",
        "\n"
      ],
      "metadata": {
        "id": "fZkSDhw7uLHR"
      }
    },
    {
      "cell_type": "code",
      "source": [
        "#lab_1_2_1\n",
        "\n",
        "# “Если у тебя есть яблоко, а у меня есть яблоко, и мы\n",
        "# обменяемся этими яблоками, тогда\n",
        "# у нас с тобой по-прежнему будет по одному яблоку. Но если у\n",
        "# вас есть идея, а у меня есть\n",
        "# идея, и мы обмениваемся этими идеями, тогда у каждого из нас\n",
        "# будет по две идеи”.\n",
        "# Джордж Бернард Шоу\n",
        "class Person:\n",
        "  apples = 0\n",
        "  ideas = 0\n",
        "johanna = Person()\n",
        "johanna.apples = 1\n",
        "johanna.ideas = 1\n",
        "martin = Person()\n",
        "martin.apples = 2\n",
        "martin.ideas = 1\n",
        "\n",
        "def exchange_apples(you, me):\n",
        "# Здесь, несмотря на цитату Дж.Б. Шоу, наши персонажи начали с\n",
        "# разного количества яблок, чтобы лучше понять результат.\n",
        "# Мы собираемся попросить Мартина и Джоанну обменяться ВСЕМИ своими яблоками друг с другом.\n",
        "  exchange = you.apples\n",
        "  you.apples = me.apples\n",
        "  me.apples = exchange\n",
        "  return you.apples, me.apples\n",
        "def exchange_ideas(you, me):\n",
        "# \"ты\" и \"я\" обменяемся своими идеями друг с другом.\n",
        "# Какие операции необходимо выполнить, чтобы каждый объект получал\n",
        "# общее количество идей?\n",
        "# Подсказка: как бы вы распределили общее количество идей по\n",
        "# атрибут каждой идеи? Вам нужна временная переменная для хранения\n",
        "# суммы идей, или вы можете найти другой способ?\n",
        "# Используйте здесь столько строк кода, сколько вам нужно.\n",
        "  exchange = you.ideas\n",
        "  you.ideas = me.ideas + exchange\n",
        "  me.ideas += exchange \n",
        "  return you.ideas, me.ideas\n",
        "\n",
        "exchange_apples(johanna, martin)\n",
        "print(\"Johanna has {} apples and Martin has {} apples\".format(johanna.apples, martin.apples))\n",
        "\n",
        "exchange_ideas(johanna, martin)\n",
        "print(\"Johanna has {} ideas and Martin has {} ideas\".format(johanna.ideas, martin.ideas))"
      ],
      "metadata": {
        "colab": {
          "base_uri": "https://localhost:8080/"
        },
        "id": "YcgHhCz1s3gi",
        "outputId": "f73fc567-854f-4e7e-f7bc-acf4553ffd8d"
      },
      "execution_count": 8,
      "outputs": [
        {
          "output_type": "stream",
          "name": "stdout",
          "text": [
            "Johanna has 2 apples and Martin has 1 apples\n",
            "Johanna has 2 ideas and Martin has 2 ideas\n"
          ]
        }
      ]
    },
    {
      "cell_type": "markdown",
      "source": [
        "#1.2.2\n",
        "Класс City имеет следующие атрибуты: имя, страна (где расположен город), высота (измеряется в метрах) и население (приблизительно, согласно недавней статистике). Заполните пробелы в функции max_elevation_city, чтобы вернуть название города и его страну (разделенные запятой) при сравнении трех определенных экземпляров для указанной минимальной численности населения. Например, вызов функции для минимального населения в 1 миллион: max_elevation_city (1000000) должен вернуть «София, Болгария»."
      ],
      "metadata": {
        "id": "CoE934D2uphA"
      }
    },
    {
      "cell_type": "code",
      "source": [
        "# определите базовый класс города\n",
        "class City:\n",
        "  name = \"\"\n",
        "  country = \"\"\n",
        "  elevation = 0\n",
        "  population = 0\n",
        "# создайте новый экземпляр класса City и\n",
        "# определите каждый атрибут\n",
        "city1 = City()\n",
        "city1.name = \"Cusco\"\n",
        "city1.country = \"Peru\"\n",
        "city1.elevation = 3399\n",
        "city1.population = 358052\n",
        "# создайте новый экземпляр класса City и определите каждый атрибут\n",
        "city2 = City()\n",
        "city2.name = \"Sofia\"\n",
        "city2.country = \"Bulgaria\"\n",
        "city2.elevation = 2290\n",
        "city2.population = 1241675\n",
        "# создайте новый экземпляр класса City и определите каждый атрибут\n",
        "city3 = City()\n",
        "city3.name = \"Seoul\"\n",
        "city3.country = \"South Korea\"\n",
        "city3.elevation = 38\n",
        "city3.population = 9733509\n",
        "def max_elevation_city(min_population):\n",
        " # Инициализируйте переменную, которая будет содержать\n",
        "# информация о городе с\n",
        "# самой высокой возвышенностью\n",
        "  return_city = City()\n",
        "  return_city.population = min_population\n",
        " # Оцените 1-й экземпляр на соответствие требованиям:\n",
        "# есть ли в городе #1 хотя бы минимальное население и\n",
        "# является ли его возвышенность самой высокой из оцененных на данный момент?\n",
        "  if (city1.population >= min_population) and (city1.elevation > return_city.elevation):\n",
        "    return_city = city1\n",
        "# Оцените 2-й экземпляр на соответствие требованиям:\n",
        "# есть ли в городе #2 хотя бы минимальное население и\n",
        "# является ли его возвышенность самой высокой из оцененных на данный момент?\n",
        "  if (city2.population >= min_population) and (city2.elevation > return_city.elevation):\n",
        "    return_city = city2\n",
        "# Оцените 3-й экземпляр на соответствие требованиям:\n",
        "# есть ли в городе #3 хотя бы минимальное население и\n",
        "# является ли его возвышенность самой высокой из оцененных на данный момент?\n",
        "  if (city3.population >= min_population) and (city3.elevation > return_city.elevation):\n",
        "    return_city = city3\n",
        " #Форматирование возвращаемой строки  \n",
        "  if return_city.name:\n",
        "    return f'{return_city.name}, {return_city.country}' \n",
        "  else:\n",
        "    return \"Oops, nothing\"\n",
        "print(max_elevation_city(100000))\n",
        "# Вывод на экран \"Cusco, Peru\"\n",
        "print(max_elevation_city(1000000))\n",
        "# Вывод на экран \"Sofia, Bulgaria\"\n",
        "print(max_elevation_city(10000000))\n",
        "# Вывод на экран \"\""
      ],
      "metadata": {
        "colab": {
          "base_uri": "https://localhost:8080/"
        },
        "id": "AqJiOMcpuKS0",
        "outputId": "589e7a01-ae52-4a6b-c714-b7329da8f27d"
      },
      "execution_count": 9,
      "outputs": [
        {
          "output_type": "stream",
          "name": "stdout",
          "text": [
            "Cusco, Peru\n",
            "Sofia, Bulgaria\n",
            "Oops, nothing\n"
          ]
        }
      ]
    },
    {
      "cell_type": "markdown",
      "source": [
        "#1.2.3 \n",
        "У нас есть два предмета мебели: коричневый деревянный стол и красный кожаный диван. Заполните пустые поля после создания каждого экземпляра класса Furniture, чтобы функция describe_furniture могла отформатировать предложение, описывающее эти элементы, следующим образом: «Этот предмет мебели изготовлен из {color} {material}»."
      ],
      "metadata": {
        "id": "WR2IExi-xrl0"
      }
    },
    {
      "cell_type": "code",
      "source": [
        "class Furniture:\n",
        "  color = \"\"\n",
        "  material = \"\"\n",
        "table = Furniture()\n",
        "table.color = \"коричневый\"\n",
        "table.material = \"дерево\"\n",
        "couch = Furniture()\n",
        "couch.color = \"красный\"\n",
        "couch.material = \"кожа\"\n",
        "\n",
        "def describe_furniture(piece):\n",
        "  return (\"Этот предмет мебели изготовлен из {} {}\".format(piece.color, piece.material))\n",
        "\n",
        "print(describe_furniture(table))\n",
        "# Вывод на экран \"Этот предмет мебели сделан из коричневого дерева\"\n",
        "print(describe_furniture(couch))\n",
        "# Вывод на экран \"Этот предмет мебели сделан из красной кожи\""
      ],
      "metadata": {
        "colab": {
          "base_uri": "https://localhost:8080/"
        },
        "id": "dpL6jexBxwwd",
        "outputId": "e37c560a-470a-4012-aecf-0626a9968ca4"
      },
      "execution_count": 12,
      "outputs": [
        {
          "output_type": "stream",
          "name": "stdout",
          "text": [
            "Этот предмет мебели изготовлен из коричневый дерево\n",
            "Этот предмет мебели изготовлен из красный кожа\n"
          ]
        }
      ]
    }
  ]
}