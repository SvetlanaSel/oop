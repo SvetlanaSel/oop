{
  "nbformat": 4,
  "nbformat_minor": 0,
  "metadata": {
    "colab": {
      "provenance": [],
      "authorship_tag": "ABX9TyOjhacp70fT34IFesLXLJkw",
      "include_colab_link": true
    },
    "kernelspec": {
      "name": "python3",
      "display_name": "Python 3"
    },
    "language_info": {
      "name": "python"
    }
  },
  "cells": [
    {
      "cell_type": "markdown",
      "metadata": {
        "id": "view-in-github",
        "colab_type": "text"
      },
      "source": [
        "<a href=\"https://colab.research.google.com/github/SvetlanaSel/oop/blob/main/practice_2.ipynb\" target=\"_parent\"><img src=\"https://colab.research.google.com/assets/colab-badge.svg\" alt=\"Open In Colab\"/></a>"
      ]
    },
    {
      "cell_type": "markdown",
      "source": [
        "#ВАРИАНТ 16. ЗАДАНИЕ\n",
        "\n",
        "1. В рамках приложения разработать класс В – наследник класса А (задание \n",
        "2) с полем d и свойством с2. Свойство с2 – результат вычисления \n",
        "выражения над полями a, b, d. В теле свойства использовать управляющий \n",
        "оператор (см. вариант в таблице 2.2). У класса А создать конструктор, \n",
        "инициализирующий его поля. Для класса В определить 2 конструктора: \n",
        "один – наследуется от конструктора класса А, второй – собственный. В \n",
        "теле программы создать объекты классов А и В, продемонстрировав \n",
        "работу всех конструкторов. Вывести значения свойства на экран. "
      ],
      "metadata": {
        "id": "M8FOik9aAEke"
      }
    },
    {
      "cell_type": "code",
      "source": [
        "# - +\n",
        "class A:\n",
        "  def __init__(self, a, b):\n",
        "    self.a = a\n",
        "    self.b = b\n",
        "  def summa(self):\n",
        "    c1 = self.a + self.b\n",
        "    return c1\n",
        "  def reduce(self):\n",
        "    c2 = self.a - self.b\n",
        "    return c2\n",
        "class B(A):\n",
        "  def __init__(self, a, b, d):\n",
        "    self.a = a\n",
        "    self.b = b\n",
        "    self.d = d\n",
        "  def c2(self):\n",
        "    while self.d==self.b:\n",
        "      count1 = self.a-self.d-self.b\n",
        "      count2 = self.a+self.d+self.b\n",
        "      self.d+=1\n",
        "      return count1, count2\n",
        "try:\n",
        "  b = B(10,4,4)\n",
        "  print(b.c2())\n",
        "  del b\n",
        "except ValueError as error:\n",
        "  print('ошибка, проверьте данные')"
      ],
      "metadata": {
        "id": "4aoQcIYeAEtN",
        "colab": {
          "base_uri": "https://localhost:8080/"
        },
        "outputId": "2d9ff018-91bb-42f6-f39e-2735ade668c6"
      },
      "execution_count": 28,
      "outputs": [
        {
          "output_type": "stream",
          "name": "stdout",
          "text": [
            "(2, 18)\n"
          ]
        }
      ]
    },
    {
      "cell_type": "markdown",
      "source": [
        "#Упражнения для всех вариантов"
      ],
      "metadata": {
        "id": "8OOA3pTpFtNd"
      }
    },
    {
      "cell_type": "markdown",
      "source": [
        "1. Создайте класс «зарплата», который вычисляет сумму зарплаты в зависимости \n",
        "от тарифной ставки и числа отработанных дней. Расширьте метод начислением \n",
        "процентов в зависимости от объема продаж. "
      ],
      "metadata": {
        "id": "E-KPmCDFFvXi"
      }
    },
    {
      "cell_type": "code",
      "execution_count": 29,
      "metadata": {
        "id": "4pGXTtktQLhp",
        "colab": {
          "base_uri": "https://localhost:8080/"
        },
        "outputId": "b2e10266-8497-4fd1-dad0-3c6945c494d5"
      },
      "outputs": [
        {
          "output_type": "stream",
          "name": "stdout",
          "text": [
            "введите количество отработанных дней: 10\n",
            "введите тарифную ставку за рабочий день: f\n",
            "ошибка, проверьте данные\n"
          ]
        }
      ],
      "source": [
        "class Salary:\n",
        "  def __init__(self, a, b, v):\n",
        "    self.day = a\n",
        "    self.tarif = b\n",
        "    self.volume = v\n",
        "    if self.volume >= 10000:\n",
        "      self.p = 0.1\n",
        "    else:\n",
        "      self.p = 0.03\n",
        "  def counts(self):\n",
        "    c = self.day*self.tarif\n",
        "    return c\n",
        "  def procents(self):\n",
        "    c1 = self.day*self.tarif + ((self.day*self.tarif)*self.p)\n",
        "    return c1\n",
        "try:\n",
        "  a = int(input('введите количество отработанных дней: '))\n",
        "  b = float(input('введите тарифную ставку за рабочий день: '))\n",
        "  v = float(input('введите объем продаж: '))\n",
        "  s = Salary(a,b,v)\n",
        "  print('зарплата =', s.procents())\n",
        "  del s\n",
        "except ValueError as error:\n",
        "  print('ошибка, проверьте данные')"
      ]
    },
    {
      "cell_type": "markdown",
      "source": [
        "2. Переопределите метод начисления зарплаты: в случае, если объем продаж в \n",
        "месяц превысил 1 000 000, проценты добавляются к зарплате, в противном \n",
        "случае – вычитаются. "
      ],
      "metadata": {
        "id": "73K2BomwF7Dw"
      }
    },
    {
      "cell_type": "code",
      "source": [
        "class Salary:\n",
        "  def __init__(self, a, b, v):\n",
        "    self.day = a\n",
        "    self.tarif = b\n",
        "    self.volume = v\n",
        "    if self.volume >= 1000000:\n",
        "      self.p = 0.1\n",
        "    else:\n",
        "      self.p = -0.1\n",
        "  def counts(self):\n",
        "    c = self.day*self.tarif\n",
        "    return c\n",
        "  def procents(self):\n",
        "    c1 = self.day*self.tarif + ((self.day*self.tarif)*self.p)\n",
        "    return c1\n",
        "try:\n",
        "  a = int(input('введите количество отработанных дней: '))\n",
        "  b = float(input('введите тарифную ставку за рабочий день: '))\n",
        "  v = float(input('введите объем продаж: '))\n",
        "  s = Salary(a,b,v)\n",
        "  print('зарплата =', s.procents())\n",
        "  del s\n",
        "except ValueError as error:\n",
        "  print('ошибка, проверьте данные')"
      ],
      "metadata": {
        "id": "vgwIqxv5F5_s",
        "colab": {
          "base_uri": "https://localhost:8080/"
        },
        "outputId": "ad3b3bb3-8ef6-4b5a-8168-f1edb3b0cb8d"
      },
      "execution_count": 30,
      "outputs": [
        {
          "output_type": "stream",
          "name": "stdout",
          "text": [
            "введите количество отработанных дней: 10\n",
            "введите тарифную ставку за рабочий день: 1000\n",
            "введите объем продаж: 10000000\n",
            "зарплата = 11000.0\n"
          ]
        }
      ]
    },
    {
      "cell_type": "markdown",
      "source": [
        "3. Создайте для класса «сотрудники» абстрактный метод начисления зарплаты. \n",
        "Создайте два класса-наследника: сотрудник отдела продаж и сотрудник склада. Для первого класса начисление происходит аналогично заданию 1, а для второго – в зависимости от количества отработанных дней. \n"
      ],
      "metadata": {
        "id": "24cTsX2qF-Mj"
      }
    },
    {
      "cell_type": "code",
      "source": [
        "class Salary:\n",
        "  def __init__(self, a, b,v1,v2):\n",
        "    self.day = a\n",
        "    self.tarif = b\n",
        "    self.v1 = v1\n",
        "    self.v2 = v2\n",
        "class Employee_1(Salary):\n",
        "    def __init__(self, a, b,v1):\n",
        "      Salary.__init__(self, a, b,v1,v2)\n",
        "      if self.v1 >= 1000000:\n",
        "        self.p1 = 0.1\n",
        "      else:\n",
        "        self.p1 = 0.03\n",
        "    def counts(self):\n",
        "      c = self.day*self.tarif\n",
        "      return c\n",
        "    def procents(self):\n",
        "      c1 = self.day*self.tarif + ((self.day*self.tarif)*self.p1)\n",
        "      return c1\n",
        "class Employee_2(Salary):\n",
        "    def __init__(self, a, b,v2):\n",
        "      Salary.__init__(self, a, b,v1,v2)\n",
        "      if self.v2 >= 1000000:\n",
        "        self.p2 = 0.1\n",
        "      else:\n",
        "        self.p2 = -0.1\n",
        "    def counts_2(self):\n",
        "      j = self.day*self.tarif\n",
        "      return j\n",
        "    def procents_2(self):\n",
        "      j1 = self.day*self.tarif + ((self.day*self.tarif)*self.p2)\n",
        "      return j1\n",
        "try:\n",
        "  a = int(input('введите количество отработанных дней: '))\n",
        "  b = float(input('введите тарифную ставку за рабочий день: '))\n",
        "  v1 = float(input('введите объем продаж сотрудника отдела продаж: '))\n",
        "  v2 = float(input('введите объем продаж сотрудника склада: '))\n",
        "  e = Employee_1(a,b,v1)\n",
        "  print('зарплата первого работника =', e.procents())\n",
        "  e1 = Employee_2(a,b,v2)\n",
        "  print('зарплата второго работника =', e1.procents_2())\n",
        "  del e\n",
        "  del e1\n",
        "except ValueError as error:\n",
        "  print('ошибка, проверьте данные')"
      ],
      "metadata": {
        "id": "gn1teelhGBK_",
        "colab": {
          "base_uri": "https://localhost:8080/"
        },
        "outputId": "e683a8ba-2f66-44e4-ec86-bccda72088a6"
      },
      "execution_count": 31,
      "outputs": [
        {
          "output_type": "stream",
          "name": "stdout",
          "text": [
            "введите количество отработанных дней: 10\n",
            "введите тарифную ставку за рабочий день: 1000\n",
            "введите объем продаж сотрудника отдела продаж: 13000\n",
            "введите объем продаж сотрудника склада: 14000000\n",
            "зарплата первого работника = 10300.0\n",
            "зарплата второго работника = 11000.0\n"
          ]
        }
      ]
    },
    {
      "cell_type": "markdown",
      "source": [
        "4. Имеется класс «мебель». Создайте класс «корпусная мебель», «мягкая мебель» \n",
        "и «кухонная мебель». Определите атрибуты и методы родительского класса и \n",
        "классов-наследников. \n"
      ],
      "metadata": {
        "id": "nlX7y_oJGK6F"
      }
    },
    {
      "cell_type": "code",
      "source": [
        "class Furniture:\n",
        "  def __init__(self, soft,mat1,mat2,mat3):\n",
        "    self.soft = soft\n",
        "    self.mat1 = mat1\n",
        "    self.mat2 = mat2\n",
        "    self.mat3 = mat3\n",
        "  def is_ready(self):\n",
        "    if (self.mat1 == 'дерево' or 'камень' or 'дсп') and (self.mat2 == 'сентепон' or 'пух' or 'плюш') and (self.mat3 == 'дерево' or 'дсп' or 'сентепон' or 'пух' or 'плюш'):\n",
        "      print('ваша мебель готова')\n",
        "    else:\n",
        "      print('мебель не произведена')\n",
        "class Cabinet_furniture(Furniture):\n",
        "  def __init__(self, soft,mat1,mat2,mat3):\n",
        "    Furniture.__init__(self, soft,mat1,mat2,mat3)\n",
        "  def is_soft1(self,soft_c):\n",
        "    self.s_c = soft_c\n",
        "    if self.s_c == self.soft:\n",
        "      print('это не корпусная мебель')\n",
        "    else:\n",
        "      print('это корпусная мебель, данные верные')\n",
        "  def material_1(self):\n",
        "    if self.mat1 == 'дерево' or 'камень' or 'дсп':\n",
        "      print('это корпусная мебель готова')\n",
        "    else:\n",
        "      print(\"это не корпусная мебель, вы ошиблись\")\n",
        "class Soft_furniture(Furniture):\n",
        "  def __init__(self, soft,mat1,mat2,mat3):\n",
        "    Furniture.__init__(self, soft,mat1,mat2,mat3)\n",
        "  def is_soft1(self,soft_s):\n",
        "      self.s_s = soft_s\n",
        "      if self.s_s == self.soft:\n",
        "        print('это мягкая мебель')\n",
        "      else:\n",
        "        print('это не мягкая мебель, вы ошиблись')\n",
        "  def material_2(self):\n",
        "    if self.mat2 == 'сентепон' or 'пух' or 'плюш':\n",
        "      print('эта мягкая мебель готова')\n",
        "    else:\n",
        "      print(\"это не мягкая мебель, ошибка\")\n",
        "class Kitchen_furniture(Furniture):\n",
        "  def __init__(self, soft,mat1,mat2,mat3):\n",
        "    Furniture.__init__(self, soft,mat1,mat2,mat3)\n",
        "  def is_soft1(self,soft_k):\n",
        "    self.s_k = soft_k\n",
        "    if self.s_k == self.soft:\n",
        "      print('это может быть диван или кресло')\n",
        "    else:\n",
        "      print('это может быть стол или кухонный гарнитур')\n",
        "  def material_3(self):\n",
        "    if self.mat3 == 'дерево' or 'дсп' or 'сентепон' or 'пух' or 'плюш':\n",
        "      print('эта кухонная мебель готова')\n",
        "    else:\n",
        "      print(\"это не кухонная мебель, ошибка\")\n",
        "try:\n",
        "  soft_c = input('введите \"мягкий\", если мебель мягкая, и \"0\", если мебель немягкая(вы пишите условия для корпусной мебели): ')\n",
        "  soft_s = input('введите \"мягкий\", если мебель мягкая, и \"0\", если мебель немягкая(вы пишите условия для мягкой мебели): ')\n",
        "  soft_k = input('введите \"мягкий\", если мебель мягкая, и \"0\", если мебель немягкая(вы пишите условия для кухонной мебели): ')\n",
        "  soft = \"мягкий\"\n",
        "  mat1, mat2, mat3 = map(str, input('введите 3 материала из предложенных через пробел(каждый материал для соответствующего вида мебели): дерево, дсп, сентепон, пух, плюш, камень - ').split())\n",
        "  f = Furniture(soft,mat1,mat2,mat3)\n",
        "  f.is_ready()\n",
        "except ValueError as error:\n",
        "  print('ошибка, проверьте данные')"
      ],
      "metadata": {
        "id": "peEoz8G1GPJg",
        "colab": {
          "base_uri": "https://localhost:8080/"
        },
        "outputId": "6c147db4-b67f-4083-ac38-7c997e8e865a"
      },
      "execution_count": 32,
      "outputs": [
        {
          "output_type": "stream",
          "name": "stdout",
          "text": [
            "введите \"мягкий\", если мебель мягкая, и \"0\", если мебель немягкая(вы пишите условия для корпусной мебели): 0\n",
            "введите \"мягкий\", если мебель мягкая, и \"0\", если мебель немягкая(вы пишите условия для мягкой мебели): мягкий\n",
            "введите \"мягкий\", если мебель мягкая, и \"0\", если мебель немягкая(вы пишите условия для кухонной мебели): 0\n",
            "введите 3 материала из предложенных через пробел(каждый материал для соответствующего вида мебели): дерево, дсп, сентепон, пух, плюш, камень - дерево пух дсп\n",
            "ваша мебель готова\n"
          ]
        }
      ]
    },
    {
      "cell_type": "code",
      "source": [
        "del f"
      ],
      "metadata": {
        "id": "9DNwItmNPYF3"
      },
      "execution_count": 33,
      "outputs": []
    },
    {
      "cell_type": "markdown",
      "source": [
        "5. Решите предыдущую задачу, используя декоратор Sabstractmethod. Имеется \n",
        "класс «мебель». Создайте класс «корпусная мебель», «мягкая мебель» и \n",
        "«кухонная мебель». Определите атрибуты и методы родительского класса и \n",
        "классов-наследников. \n"
      ],
      "metadata": {
        "id": "UffL9BRwGBa2"
      }
    },
    {
      "cell_type": "code",
      "source": [
        "from abc import ABC, abstractmethod"
      ],
      "metadata": {
        "id": "ALgx7ZzOQTj3"
      },
      "execution_count": 34,
      "outputs": []
    },
    {
      "cell_type": "code",
      "source": [
        "class Furniture(ABC):\n",
        "  def __init__(self, soft,mat1,mat2,mat3):\n",
        "    self.soft = soft\n",
        "    self.mat1 = mat1\n",
        "    self.mat2 = mat2\n",
        "    self.mat3 = mat3\n",
        "  @abstractmethod\n",
        "  def is_ready(self):\n",
        "    pass\n",
        "class Cabinet_furniture(Furniture):\n",
        "  def __init__(self, soft,mat1,mat2,mat3):\n",
        "    Furniture.__init__(self, soft,mat1,mat2,mat3)\n",
        "  def is_soft1(self,soft_c):\n",
        "    self.s_c = soft_c\n",
        "    if self.s_c == self.soft:\n",
        "      print('это не корпусная мебель')\n",
        "    else:\n",
        "      print('это корпусная мебель, данные верные')\n",
        "  def is_ready(self):\n",
        "    if self.mat1 == 'дерево' or 'камень' or 'дсп':\n",
        "      print('эта корпусная мебель готова')\n",
        "    else:\n",
        "      print(\"это не корпусная мебель, вы ошиблись\")\n",
        "class Soft_furniture(Furniture):\n",
        "  def __init__(self, soft,mat1,mat2,mat3):\n",
        "    Furniture.__init__(self, soft,mat1,mat2,mat3)\n",
        "  def is_soft1(self,soft_s):\n",
        "      self.s_s = soft_s\n",
        "      if self.s_s == self.soft:\n",
        "        print('это мягкая мебель')\n",
        "      else:\n",
        "        print('это не мягкая мебель, вы ошиблись')\n",
        "  def is_ready(self):\n",
        "    if self.mat2 == 'сентепон' or 'пух' or 'плюш':\n",
        "      print('эта мягкая мебель готова')\n",
        "    else:\n",
        "      print(\"это не мягкая мебель, ошибка\")\n",
        "class Kitchen_furniture(Furniture):\n",
        "  def __init__(self, soft,mat1,mat2,mat3):\n",
        "    Furniture.__init__(self, soft,mat1,mat2,mat3)\n",
        "  def is_soft1(self,soft_k):\n",
        "    self.s_k = soft_k\n",
        "    if self.s_k == self.soft:\n",
        "      print('это может быть диван или кресло')\n",
        "    else:\n",
        "      print('это может быть стол или кухонный гарнитур')\n",
        "  def is_ready(self):\n",
        "    if self.mat3 == 'дерево' or 'дсп' or 'сентепон' or 'пух' or 'плюш':\n",
        "      print('эта кухонная мебель готова')\n",
        "    else:\n",
        "      print(\"это не кухонная мебель, ошибка\")\n",
        "try:\n",
        "  soft_c = input('введите \"мягкий\", если мебель мягкая, и \"0\", если мебель немягкая(вы пишите условия для корпусной мебели): ')\n",
        "  soft_s = input('введите \"мягкий\", если мебель мягкая, и \"0\", если мебель немягкая(вы пишите условия для мягкой мебели): ')\n",
        "  soft_k = input('введите \"мягкий\", если мебель мягкая, и \"0\", если мебель немягкая(вы пишите условия для кухонной мебели): ')\n",
        "  soft = \"мягкий\"\n",
        "  mat1, mat2, mat3 = map(str, input('введите 3 материала из предложенных через пробел(каждый материал для соответствующего вида мебели): дерево, дсп, сентепон, пух, плюш, камень ').split())\n",
        "  c = Cabinet_furniture(soft,mat1,mat2,mat3)\n",
        "  s = Soft_furniture(soft,mat1,mat2,mat3)\n",
        "  k = Kitchen_furniture(soft,mat1,mat2,mat3)\n",
        "  c.is_ready()\n",
        "  s.is_ready()\n",
        "  k.is_ready()\n",
        "  del c\n",
        "  del k\n",
        "  del s\n",
        "except ValueError as error:\n",
        "  print('ошибка, проверьте данные')"
      ],
      "metadata": {
        "id": "0tY0IJ5nGKoP",
        "colab": {
          "base_uri": "https://localhost:8080/"
        },
        "outputId": "5d781fe1-34fd-4c2c-d6b5-a26ac9bc00a7"
      },
      "execution_count": 35,
      "outputs": [
        {
          "output_type": "stream",
          "name": "stdout",
          "text": [
            "введите \"мягкий\", если мебель мягкая, и \"0\", если мебель немягкая(вы пишите условия для корпусной мебели): 0\n",
            "введите \"мягкий\", если мебель мягкая, и \"0\", если мебель немягкая(вы пишите условия для мягкой мебели): мягкий\n",
            "введите \"мягкий\", если мебель мягкая, и \"0\", если мебель немягкая(вы пишите условия для кухонной мебели): 0\n",
            "введите 3 материала из предложенных через пробел(каждый материал для соответствующего вида мебели): дерево, дсп, сентепон, пух, плюш, камень дерево пух дсп\n",
            "эта корпусная мебель готова\n",
            "эта мягкая мебель готова\n",
            "эта кухонная мебель готова\n"
          ]
        }
      ]
    },
    {
      "cell_type": "markdown",
      "source": [
        "6. Создайте приложение, в котором необходимо разработать базовый класс man. \n",
        "Объекты этого класса содержат справочную информацию о конкретном \n",
        "человеке (фамилию, инициалы, телефон, адрес, возраст). Создайте два \n",
        "производных от него класса: manager и secretary. Объекты класса manager \n",
        "дополнительно включают номер отдела и количество подчиненных. Объекты \n",
        "класса manager дополнительно включают номер отдела и количество \n",
        "подчиненных. Объекты класса secretary дополнительно включают фамилию \n",
        "начальника. Данные о менеджерах и секретарях введите с клавиатуры и выведите \n",
        "на экран дисплея. "
      ],
      "metadata": {
        "id": "HHXvn5ywESMG"
      }
    },
    {
      "cell_type": "code",
      "source": [
        "class Man:\n",
        "  def __init__(self, surname, initials, phone, address, age):\n",
        "    self.surname = surname\n",
        "    self.initials = initials\n",
        "    self.phone = phone\n",
        "    self.address = address\n",
        "    self.age = age\n",
        "class Manager(Man):\n",
        "  def __init__(self, surname, initials, phone, address, age, departmentnumber, nums):\n",
        "    self.departmentnumber = departmentnumber\n",
        "    self.nums = nums\n",
        "    Man.__init__(self, surname, initials, phone, address, age)\n",
        "class Secretary(Man):\n",
        "  def __init__(self, surname, initials, phone, address, age, boss):\n",
        "    self.boss = boss\n",
        "    Man.__init__(self, surname, initials, phone, address, age)\n",
        "try:\n",
        "  surname = str(input(\"Введите фамилию: \"))\n",
        "  initials = str(input(\"Введите инициалы: \"))\n",
        "  phone = input(\"Введите телефон: \")\n",
        "  address = input(\"Введите адрес: \")\n",
        "  age = int(input(\"Введите возраст: \"))\n",
        "  departmentnumber = int(input(\"Введите номер отдела (для менеджера): \"))\n",
        "  nums = int(input(\"Введите количество подчиненных (для менеджера): \"))\n",
        "  boss = input(\"Введите фамилию начальника (для секретаря): \")\n",
        "  m = Manager(surname, initials, phone, address, age, departmentnumber, nums)\n",
        "  s = Secretary(surname, initials, phone, address, age, boss)\n",
        "  print(\"Информация о менеджере:\")\n",
        "  print(\"Фамилия:\", m.surname)\n",
        "  print(\"Инициалы:\", m.initials)\n",
        "  print(\"Телефон:\", m.phone)\n",
        "  print(\"Адрес:\", m.address)\n",
        "  print(\"Возраст:\", m.age)\n",
        "  print(\"Номер отдела:\", m.departmentnumber)\n",
        "  print(\"Количество подчиненных:\", m.nums)\n",
        "  print(\"Информация о секретаре:\")\n",
        "  print(\"Фамилия:\", s.surname)\n",
        "  print(\"Инициалы:\", s.initials)\n",
        "  print(\"Телефон:\", s.phone)\n",
        "  print(\"Адрес:\", s.address)\n",
        "  print(\"Возраст:\", s.age)\n",
        "  print(\"Фамилия начальника:\", s.boss)\n",
        "except ValueError as error:\n",
        "  print('ошибка, проверьте данные')"
      ],
      "metadata": {
        "colab": {
          "base_uri": "https://localhost:8080/"
        },
        "id": "uBt08X3yFW_S",
        "outputId": "dbf13ac2-e8a8-497e-8e9f-a5b78c76c56c"
      },
      "execution_count": 36,
      "outputs": [
        {
          "output_type": "stream",
          "name": "stdout",
          "text": [
            "Введите фамилию: 1\n",
            "Введите инициалы: dgf\n",
            "Введите телефон: 6066767\n",
            "Введите адрес: москва\n",
            "Введите возраст: 17\n",
            "Введите номер отдела (для менеджера): в\n",
            "ошибка, проверьте данные\n"
          ]
        }
      ]
    },
    {
      "cell_type": "markdown",
      "source": [
        "7. Разработайте приложение, в котором опишите базовый класс building. Он \n",
        "хранит этаж, число комнат в квартире, общую площадь квартиры. Три \n",
        "производных класса house-k, house-p, house-m наследуют класс building. Каждый \n",
        "из них хранит надбавку к цене квадратного метра площади, зависящую от \n",
        "материала дома. Производный класс office наследует производные классы house-k, house-p, house-m и хранит наличие лоджии и надбавку, связанную с районом города. Вывести на экран стоимость конкретной квартиры. "
      ],
      "metadata": {
        "id": "icHP-C-jGZN_"
      }
    },
    {
      "cell_type": "code",
      "source": [
        "class Building:\n",
        "  def __init__(self,floor,rooms,area):\n",
        "    self.floor = floor\n",
        "    self.rooms = rooms\n",
        "    self.area = area\n",
        "class House_k(Building):\n",
        "  def __init__(self,floor,rooms,area,mat):\n",
        "    Building.__init__(self,floor,rooms,area)\n",
        "    self.mat = mat\n",
        "  def count1(self):\n",
        "    self.price_meter1 = 500\n",
        "    if self.mat == 'камень':\n",
        "      self.price_meter1 += 1000\n",
        "    elif self.mat == 'дерево':\n",
        "      self.price_meter1 += 500\n",
        "    return self.price_meter1\n",
        "class House_p(Building):\n",
        "  def __init__(self,floor,rooms,area,mat):\n",
        "    Building.__init__(self,floor,rooms,area)\n",
        "    self.mat = mat\n",
        "  def count2(self):\n",
        "    self.price_meter2 = 2300\n",
        "    if self.mat == 'камень':\n",
        "      self.price_meter2 += 1700\n",
        "    elif self.mat == 'дерево':\n",
        "      self.price_meter2 += 700\n",
        "    return self.price_meter2\n",
        "class House_m(Building):\n",
        "  def __init__(self,floor,rooms,area,mat):\n",
        "    Building.__init__(self,floor,rooms,area)\n",
        "    self.mat = mat\n",
        "  def count3(self):\n",
        "    self.price_meter3 = 300\n",
        "    if self.mat == 'камень':\n",
        "      self.price_meter3 += 700\n",
        "    elif self.mat == 'дерево':\n",
        "      self.price_meter3 += 200\n",
        "    return self.price_meter3\n",
        "class Office(House_k, House_p, House_m):\n",
        "  def __init__(self,floor,rooms,area,mat,balcony,place):\n",
        "    House_k.__init__(self,floor,rooms,area,mat)\n",
        "    House_p.__init__(self,floor,rooms,area,mat)\n",
        "    House_m.__init__(self,floor,rooms,area,mat)\n",
        "    self.b = balcony\n",
        "    self.pl = place\n",
        "    self.price_meter1 = 0\n",
        "    self.price_meter2 = 0\n",
        "    self.price_meter3 = 0\n",
        "    if (self.pl == 'центр города') and (self.b == 1):\n",
        "      self.price_meter1 == self.price_meter2==self.price_meter3==3600\n",
        "    elif (self.pl == 'у метро') and (self.b == 1):\n",
        "      self.price_meter1 == self.price_meter2==self.price_meter3==3000\n",
        "    return self.price_meter1, self.price_meter2, self.price_meter3\n",
        "  def price_flat(self):\n",
        "    self.area1 = 100\n",
        "    self.price1 = self.area1 * self.price_meter1\n",
        "    self.area2 = 150\n",
        "    self.price2 = self.area2 * self.price_meter2\n",
        "    self.area3 = 70\n",
        "    self.price3 = self.area3 * self.price_meter3\n",
        "    return self.price1, self.price2, self.price3\n",
        "try:\n",
        "  mat= str(input('ведите материалы домов(дерево или камень): '))\n",
        "  place = str(input('введите местоположение дома(у метро или центр города): '))\n",
        "  balcony = 1\n",
        "  o = Office(8,4,100,mat,balcony,place)\n",
        "  o.price_flat()\n",
        "except ValueError as error:\n",
        "  print('ошибка, проверьте данные')"
      ],
      "metadata": {
        "id": "IZNoX-OCZIER"
      },
      "execution_count": null,
      "outputs": []
    },
    {
      "cell_type": "markdown",
      "source": [
        "8. В программе рассчитываются площади треугольника и прямоугольника. С \n",
        "этой целью создается абстрактный класс area, в котором сохраняются две \n",
        "размерности фигуры. В производных классах задайте вид конкретных фигур и \n",
        "возвратите их площади."
      ],
      "metadata": {
        "id": "kMmCCXZWG0On"
      }
    },
    {
      "cell_type": "code",
      "source": [
        "from abc import ABC, abstractmethod\n",
        "class Area(ABC):\n",
        "  def __init__(self,a,b):\n",
        "    self.a = a\n",
        "    self.b = b\n",
        "  @abstractmethod\n",
        "  def count(self):\n",
        "    pass\n",
        "class Triangle(Area):\n",
        "  def __init__(self, a, b):\n",
        "    Area.__init__(self,a,b)\n",
        "  def count(self):\n",
        "    return 0.5*self.a*self.b\n",
        "class Rectangle(Area):\n",
        "  def __init__(self, a, b):\n",
        "    Area.__init__(self,a,b)\n",
        "  def count(self):\n",
        "    return self.a*self.b\n",
        "try:\n",
        "  a, b = map(int, input('введите значения переменных через пробел: ').split())\n",
        "  t = Triangle(a,b)\n",
        "  print('площадь треугольника = ', t.count())\n",
        "  r = Rectangle(a,b)\n",
        "  print('площадь прямоугольника = ', r.count())\n",
        "except ValueError as error:\n",
        "  print('ошибка, проверьте данные')"
      ],
      "metadata": {
        "id": "G4Y1u7WP2O7m",
        "colab": {
          "base_uri": "https://localhost:8080/"
        },
        "outputId": "8b319574-8d21-4644-ef91-895ba856a7cb"
      },
      "execution_count": 27,
      "outputs": [
        {
          "output_type": "stream",
          "name": "stdout",
          "text": [
            "введите значения переменных через пробел: 5 6\n",
            "площадь треугольника =  15.0\n",
            "площадь прямоугольника =  30\n"
          ]
        }
      ]
    }
  ]
}