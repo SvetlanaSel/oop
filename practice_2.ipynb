{
  "nbformat": 4,
  "nbformat_minor": 0,
  "metadata": {
    "colab": {
      "provenance": [],
      "authorship_tag": "ABX9TyOfpWX9xFbOzIh0yAwZ9muv",
      "include_colab_link": true
    },
    "kernelspec": {
      "name": "python3",
      "display_name": "Python 3"
    },
    "language_info": {
      "name": "python"
    }
  },
  "cells": [
    {
      "cell_type": "markdown",
      "metadata": {
        "id": "view-in-github",
        "colab_type": "text"
      },
      "source": [
        "<a href=\"https://colab.research.google.com/github/SvetlanaSel/oop/blob/main/practice_2.ipynb\" target=\"_parent\"><img src=\"https://colab.research.google.com/assets/colab-badge.svg\" alt=\"Open In Colab\"/></a>"
      ]
    },
    {
      "cell_type": "markdown",
      "source": [
        "#ВАРИАНТ 16. ЗАДАНИЕ\n",
        "\n",
        "1. В рамках приложения разработать класс В – наследник класса А (задание \n",
        "2) с полем d и свойством с2. Свойство с2 – результат вычисления \n",
        "выражения над полями a, b, d. В теле свойства использовать управляющий \n",
        "оператор (см. вариант в таблице 2.2). У класса А создать конструктор, \n",
        "инициализирующий его поля. Для класса В определить 2 конструктора: \n",
        "один – наследуется от конструктора класса А, второй – собственный. В \n",
        "теле программы создать объекты классов А и В, продемонстрировав \n",
        "работу всех конструкторов. Вывести значения свойства на экран. "
      ],
      "metadata": {
        "id": "M8FOik9aAEke"
      }
    },
    {
      "cell_type": "code",
      "source": [
        "# - +\n",
        "class A:\n",
        "  def __init__(self, a, b):\n",
        "    self.a = a\n",
        "    self.b = b\n",
        "  def summa(self):\n",
        "    c1 = self.a + self.b\n",
        "    return c1\n",
        "  def reduce(self):\n",
        "    c2 = self.a - self.b\n",
        "    return c2\n",
        "class B(A):\n",
        "  def __init__(self, a, b, d):\n",
        "    self.a = a\n",
        "    self.b = b\n",
        "    self.d = d\n",
        "  def c2(self):\n",
        "    while self.d==self.b:\n",
        "      count1 = self.a-self.d-self.b\n",
        "      count2 = self.a+self.d+self.b\n",
        "      self.d+=1\n",
        "      return count1, count2\n",
        "b = B(10,4,4)\n",
        "print(b.c2())\n",
        "del b"
      ],
      "metadata": {
        "id": "4aoQcIYeAEtN",
        "colab": {
          "base_uri": "https://localhost:8080/"
        },
        "outputId": "815a1e46-aa27-47b5-8c3d-1826335b3183"
      },
      "execution_count": 5,
      "outputs": [
        {
          "output_type": "stream",
          "name": "stdout",
          "text": [
            "(2, 18)\n"
          ]
        }
      ]
    },
    {
      "cell_type": "markdown",
      "source": [
        "#Упражнения для всех вариантов"
      ],
      "metadata": {
        "id": "8OOA3pTpFtNd"
      }
    },
    {
      "cell_type": "markdown",
      "source": [
        "1. Создайте класс «зарплата», который вычисляет сумму зарплаты в зависимости \n",
        "от тарифной ставки и числа отработанных дней. Расширьте метод начислением \n",
        "процентов в зависимости от объема продаж. "
      ],
      "metadata": {
        "id": "E-KPmCDFFvXi"
      }
    },
    {
      "cell_type": "code",
      "execution_count": null,
      "metadata": {
        "id": "4pGXTtktQLhp",
        "colab": {
          "base_uri": "https://localhost:8080/"
        },
        "outputId": "a66eb3c3-331d-4d0f-a8fe-78f90a384762"
      },
      "outputs": [
        {
          "output_type": "stream",
          "name": "stdout",
          "text": [
            "введите количество отработанных дней: 10\n",
            "введите тарифную ставку за рабочий день: 1000\n",
            "введите объем продаж: 11000\n",
            "зарплата = 11000.0\n"
          ]
        }
      ],
      "source": [
        "class Salary:\n",
        "  def __init__(self, a, b, v):\n",
        "    self.day = a\n",
        "    self.tarif = b\n",
        "    self.volume = v\n",
        "    if self.volume >= 10000:\n",
        "      self.p = 0.1\n",
        "    else:\n",
        "      self.p = 0.03\n",
        "  def counts(self):\n",
        "    c = self.day*self.tarif\n",
        "    return c\n",
        "  def procents(self):\n",
        "    c1 = self.day*self.tarif + ((self.day*self.tarif)*self.p)\n",
        "    return c1\n",
        "a = int(input('введите количество отработанных дней: '))\n",
        "b = float(input('введите тарифную ставку за рабочий день: '))\n",
        "v = float(input('введите объем продаж: '))\n",
        "s = Salary(a,b,v)\n",
        "print('зарплата =', s.procents())\n",
        "del s"
      ]
    },
    {
      "cell_type": "markdown",
      "source": [
        "2. Переопределите метод начисления зарплаты: в случае, если объем продаж в \n",
        "месяц превысил 1 000 000, проценты добавляются к зарплате, в противном \n",
        "случае – вычитаются. "
      ],
      "metadata": {
        "id": "73K2BomwF7Dw"
      }
    },
    {
      "cell_type": "code",
      "source": [
        "class Salary:\n",
        "  def __init__(self, a, b, v):\n",
        "    self.day = a\n",
        "    self.tarif = b\n",
        "    self.volume = v\n",
        "    if self.volume >= 1000000:\n",
        "      self.p = 0.1\n",
        "    else:\n",
        "      self.p = -0.1\n",
        "  def counts(self):\n",
        "    c = self.day*self.tarif\n",
        "    return c\n",
        "  def procents(self):\n",
        "    c1 = self.day*self.tarif + ((self.day*self.tarif)*self.p)\n",
        "    return c1\n",
        "a = int(input('введите количество отработанных дней: '))\n",
        "b = float(input('введите тарифную ставку за рабочий день: '))\n",
        "v = float(input('введите объем продаж: '))\n",
        "s = Salary(a,b,v)\n",
        "print('зарплата =', s.procents())\n",
        "del s"
      ],
      "metadata": {
        "id": "vgwIqxv5F5_s",
        "colab": {
          "base_uri": "https://localhost:8080/"
        },
        "outputId": "ad2c9eb9-8650-4c80-b61e-7b5c2c129147"
      },
      "execution_count": null,
      "outputs": [
        {
          "output_type": "stream",
          "name": "stdout",
          "text": [
            "введите количество отработанных дней: 10\n",
            "введите тарифную ставку за рабочий день: 1000\n",
            "введите объем продаж: 11000\n",
            "зарплата = 9000.0\n"
          ]
        }
      ]
    },
    {
      "cell_type": "markdown",
      "source": [
        "3. Создайте для класса «сотрудники» абстрактный метод начисления зарплаты. \n",
        "Создайте два класса-наследника: сотрудник отдела продаж и сотрудник склада. Для первого класса начисление происходит аналогично заданию 1, а для второго – в зависимости от количества отработанных дней. \n"
      ],
      "metadata": {
        "id": "24cTsX2qF-Mj"
      }
    },
    {
      "cell_type": "code",
      "source": [
        "class Salary:\n",
        "  def __init__(self, a, b,v1,v2):\n",
        "    self.day = a\n",
        "    self.tarif = b\n",
        "    self.v1 = v1\n",
        "    self.v2 = v2\n",
        "class Employee_1(Salary):\n",
        "    def __init__(self, a, b,v1):\n",
        "      Salary.__init__(self, a, b,v1,v2)\n",
        "      if self.v1 >= 1000000:\n",
        "        self.p1 = 0.1\n",
        "      else:\n",
        "        self.p1 = 0.03\n",
        "    def counts(self):\n",
        "      c = self.day*self.tarif\n",
        "      return c\n",
        "    def procents(self):\n",
        "      c1 = self.day*self.tarif + ((self.day*self.tarif)*self.p1)\n",
        "      return c1\n",
        "class Employee_2(Salary):\n",
        "    def __init__(self, a, b,v2):\n",
        "      Salary.__init__(self, a, b,v1,v2)\n",
        "      if self.v2 >= 1000000:\n",
        "        self.p2 = 0.1\n",
        "      else:\n",
        "        self.p2 = -0.1\n",
        "    def counts_2(self):\n",
        "      j = self.day*self.tarif\n",
        "      return j\n",
        "    def procents_2(self):\n",
        "      j1 = self.day*self.tarif + ((self.day*self.tarif)*self.p2)\n",
        "      return j1\n",
        "a = int(input('введите количество отработанных дней: '))\n",
        "b = float(input('введите тарифную ставку за рабочий день: '))\n",
        "v1 = float(input('введите объем продаж сотрудника отдела продаж: '))\n",
        "v2 = float(input('введите объем продаж сотрудника склада: '))\n",
        "e = Employee_1(a,b,v1)\n",
        "print('зарплата первого работника =', e.procents())\n",
        "e1 = Employee_2(a,b,v2)\n",
        "print('зарплата второго работника =', e1.procents_2())\n",
        "del e\n",
        "del e1"
      ],
      "metadata": {
        "id": "gn1teelhGBK_",
        "colab": {
          "base_uri": "https://localhost:8080/"
        },
        "outputId": "f7ee25ae-36a4-4b32-8ed1-f7dff3d2b089"
      },
      "execution_count": null,
      "outputs": [
        {
          "output_type": "stream",
          "name": "stdout",
          "text": [
            "введите количество отработанных дней: 10\n",
            "введите тарифную ставку за рабочий день: 1000\n",
            "введите объем продаж сотрудника отдела продаж: 13000\n",
            "введите объем продаж сотрудника склада: 140000\n",
            "зарплата первого работника = 10300.0\n",
            "зарплата второго работника = 9000.0\n"
          ]
        }
      ]
    },
    {
      "cell_type": "markdown",
      "source": [
        "4. Имеется класс «мебель». Создайте класс «корпусная мебель», «мягкая мебель» \n",
        "и «кухонная мебель». Определите атрибуты и методы родительского класса и \n",
        "классов-наследников. \n"
      ],
      "metadata": {
        "id": "nlX7y_oJGK6F"
      }
    },
    {
      "cell_type": "code",
      "source": [
        "class Furniture:\n",
        "  def __init__(self, soft,mat1,mat2,mat3):\n",
        "    self.soft = soft\n",
        "    self.mat1 = mat1\n",
        "    self.mat2 = mat2\n",
        "    self.mat3 = mat3\n",
        "  def is_ready(self):\n",
        "    if (self.mat1 == 'дерево' or 'камень' or 'дсп') and (self.mat2 == 'сентепон' or 'пух' or 'плюш') and (self.mat3 == 'дерево' or 'дсп' or 'сентепон' or 'пух' or 'плюш'):\n",
        "      print('ваша мебель готова')\n",
        "    else:\n",
        "      print('мебель не произведена')\n",
        "class Cabinet_furniture(Furniture):\n",
        "  def __init__(self, soft,mat1,mat2,mat3):\n",
        "    Furniture.__init__(self, soft,mat1,mat2,mat3)\n",
        "  def is_soft1(self,soft_c):\n",
        "    self.s_c = soft_c\n",
        "    if self.s_c == self.soft:\n",
        "      print('это не корпусная мебель')\n",
        "    else:\n",
        "      print('это корпусная мебель, данные верные')\n",
        "  def material_1(self):\n",
        "    if self.mat1 == 'дерево' or 'камень' or 'дсп':\n",
        "      print('это корпусная мебель готова')\n",
        "    else:\n",
        "      print(\"это не корпусная мебель, вы ошиблись\")\n",
        "class Soft_furniture(Furniture):\n",
        "  def __init__(self, soft,mat1,mat2,mat3):\n",
        "    Furniture.__init__(self, soft,mat1,mat2,mat3)\n",
        "  def is_soft1(self,soft_s):\n",
        "      self.s_s = soft_s\n",
        "      if self.s_s == self.soft:\n",
        "        print('это мягкая мебель')\n",
        "      else:\n",
        "        print('это не мягкая мебель, вы ошиблись')\n",
        "  def material_2(self):\n",
        "    if self.mat2 == 'сентепон' or 'пух' or 'плюш':\n",
        "      print('эта мягкая мебель готова')\n",
        "    else:\n",
        "      print(\"это не мягкая мебель, ошибка\")\n",
        "class Kitchen_furniture(Furniture):\n",
        "  def __init__(self, soft,mat1,mat2,mat3):\n",
        "    Furniture.__init__(self, soft,mat1,mat2,mat3)\n",
        "  def is_soft1(self,soft_k):\n",
        "    self.s_k = soft_k\n",
        "    if self.s_k == self.soft:\n",
        "      print('это может быть диван или кресло')\n",
        "    else:\n",
        "      print('это может быть стол или кухонный гарнитур')\n",
        "  def material_3(self):\n",
        "    if self.mat3 == 'дерево' or 'дсп' or 'сентепон' or 'пух' or 'плюш':\n",
        "      print('эта кухонная мебель готова')\n",
        "    else:\n",
        "      print(\"это не кухонная мебель, ошибка\")\n",
        "soft_c = input('введите \"мягкий\", если мебель мягкая, и \"0\", если мебель немягкая(вы пишите условия для корпусной мебели): ')\n",
        "soft_s = input('введите \"мягкий\", если мебель мягкая, и \"0\", если мебель немягкая(вы пишите условия для мягкой мебели): ')\n",
        "soft_k = input('введите \"мягкий\", если мебель мягкая, и \"0\", если мебель немягкая(вы пишите условия для кухонной мебели): ')\n",
        "soft = \"мягкий\"\n",
        "mat1, mat2, mat3 = map(str, input('введите 3 материала из предложенных через пробел(каждый материал для соответствующего вида мебели): дерево, дсп, сентепон, пух, плюш, камень - ').split())\n",
        "f = Furniture(soft,mat1,mat2,mat3)\n",
        "f.is_ready()\n"
      ],
      "metadata": {
        "id": "peEoz8G1GPJg",
        "colab": {
          "base_uri": "https://localhost:8080/"
        },
        "outputId": "4cf344a9-d788-4f0e-a43c-b7b43d25dd4c"
      },
      "execution_count": null,
      "outputs": [
        {
          "output_type": "stream",
          "name": "stdout",
          "text": [
            "введите \"мягкий\", если мебель мягкая, и \"0\", если мебель немягкая(вы пишите условия для корпусной мебели): 0\n",
            "введите \"мягкий\", если мебель мягкая, и \"0\", если мебель немягкая(вы пишите условия для мягкой мебели): мягкий\n",
            "введите \"мягкий\", если мебель мягкая, и \"0\", если мебель немягкая(вы пишите условия для кухонной мебели): 0\n",
            "введите 3 материала из предложенных через пробел(каждый материал для соответствующего вида мебели): дерево, дсп, сентепон, пух, плюш, камень - дсп пух дерево\n",
            "ваша мебель готова\n"
          ]
        }
      ]
    },
    {
      "cell_type": "code",
      "source": [
        "del f"
      ],
      "metadata": {
        "id": "9DNwItmNPYF3"
      },
      "execution_count": null,
      "outputs": []
    },
    {
      "cell_type": "markdown",
      "source": [
        "5. Решите предыдущую задачу, используя декоратор Sabstractmethod. Имеется \n",
        "класс «мебель». Создайте класс «корпусная мебель», «мягкая мебель» и \n",
        "«кухонная мебель». Определите атрибуты и методы родительского класса и \n",
        "классов-наследников. \n"
      ],
      "metadata": {
        "id": "UffL9BRwGBa2"
      }
    },
    {
      "cell_type": "code",
      "source": [
        "from abc import ABC, abstractmethod"
      ],
      "metadata": {
        "id": "ALgx7ZzOQTj3"
      },
      "execution_count": null,
      "outputs": []
    },
    {
      "cell_type": "code",
      "source": [
        "class Furniture(ABC):\n",
        "  def __init__(self, soft,mat1,mat2,mat3):\n",
        "    self.soft = soft\n",
        "    self.mat1 = mat1\n",
        "    self.mat2 = mat2\n",
        "    self.mat3 = mat3\n",
        "  @abstractmethod\n",
        "  def is_ready(self):\n",
        "    pass\n",
        "class Cabinet_furniture(Furniture):\n",
        "  def __init__(self, soft,mat1,mat2,mat3):\n",
        "    Furniture.__init__(self, soft,mat1,mat2,mat3)\n",
        "  def is_soft1(self,soft_c):\n",
        "    self.s_c = soft_c\n",
        "    if self.s_c == self.soft:\n",
        "      print('это не корпусная мебель')\n",
        "    else:\n",
        "      print('это корпусная мебель, данные верные')\n",
        "  def is_ready(self):\n",
        "    if self.mat1 == 'дерево' or 'камень' or 'дсп':\n",
        "      print('эта корпусная мебель готова')\n",
        "    else:\n",
        "      print(\"это не корпусная мебель, вы ошиблись\")\n",
        "class Soft_furniture(Furniture):\n",
        "  def __init__(self, soft,mat1,mat2,mat3):\n",
        "    Furniture.__init__(self, soft,mat1,mat2,mat3)\n",
        "  def is_soft1(self,soft_s):\n",
        "      self.s_s = soft_s\n",
        "      if self.s_s == self.soft:\n",
        "        print('это мягкая мебель')\n",
        "      else:\n",
        "        print('это не мягкая мебель, вы ошиблись')\n",
        "  def is_ready(self):\n",
        "    if self.mat2 == 'сентепон' or 'пух' or 'плюш':\n",
        "      print('эта мягкая мебель готова')\n",
        "    else:\n",
        "      print(\"это не мягкая мебель, ошибка\")\n",
        "class Kitchen_furniture(Furniture):\n",
        "  def __init__(self, soft,mat1,mat2,mat3):\n",
        "    Furniture.__init__(self, soft,mat1,mat2,mat3)\n",
        "  def is_soft1(self,soft_k):\n",
        "    self.s_k = soft_k\n",
        "    if self.s_k == self.soft:\n",
        "      print('это может быть диван или кресло')\n",
        "    else:\n",
        "      print('это может быть стол или кухонный гарнитур')\n",
        "  def is_ready(self):\n",
        "    if self.mat3 == 'дерево' or 'дсп' or 'сентепон' or 'пух' or 'плюш':\n",
        "      print('эта кухонная мебель готова')\n",
        "    else:\n",
        "      print(\"это не кухонная мебель, ошибка\")\n",
        "soft_c = input('введите \"мягкий\", если мебель мягкая, и \"0\", если мебель немягкая(вы пишите условия для корпусной мебели): ')\n",
        "soft_s = input('введите \"мягкий\", если мебель мягкая, и \"0\", если мебель немягкая(вы пишите условия для мягкой мебели): ')\n",
        "soft_k = input('введите \"мягкий\", если мебель мягкая, и \"0\", если мебель немягкая(вы пишите условия для кухонной мебели): ')\n",
        "soft = \"мягкий\"\n",
        "mat1, mat2, mat3 = map(str, input('введите 3 материала из предложенных через пробел(каждый материал для соответствующего вида мебели): дерево, дсп, сентепон, пух, плюш, камень ').split())\n",
        "c = Cabinet_furniture(soft,mat1,mat2,mat3)\n",
        "s = Soft_furniture(soft,mat1,mat2,mat3)\n",
        "k = Kitchen_furniture(soft,mat1,mat2,mat3)\n",
        "c.is_ready()\n",
        "s.is_ready()\n",
        "k.is_ready()\n",
        "del c\n",
        "del k\n",
        "del s"
      ],
      "metadata": {
        "id": "0tY0IJ5nGKoP",
        "colab": {
          "base_uri": "https://localhost:8080/"
        },
        "outputId": "f1d85a21-ec12-40b9-ef53-9e83454c34a6"
      },
      "execution_count": null,
      "outputs": [
        {
          "output_type": "stream",
          "name": "stdout",
          "text": [
            "введите \"мягкий\", если мебель мягкая, и \"0\", если мебель немягкая(вы пишите условия для корпусной мебели): 0\n",
            "введите \"мягкий\", если мебель мягкая, и \"0\", если мебель немягкая(вы пишите условия для мягкой мебели): мягкий\n",
            "введите \"мягкий\", если мебель мягкая, и \"0\", если мебель немягкая(вы пишите условия для кухонной мебели): 0\n",
            "введите 3 материала из предложенных через пробел(каждый материал для соответствующего вида мебели): дерево, дсп, сентепон, пух, плюш, камень дсп пух дсп\n",
            "эта корпусная мебель готова\n",
            "эта мягкая мебель готова\n",
            "эта кухонная мебель готова\n"
          ]
        }
      ]
    },
    {
      "cell_type": "markdown",
      "source": [
        "6. Создайте приложение, в котором необходимо разработать базовый класс man. \n",
        "Объекты этого класса содержат справочную информацию о конкретном \n",
        "человеке (фамилию, инициалы, телефон, адрес, возраст). Создайте два \n",
        "производных от него класса: manager и secretary. Объекты класса manager \n",
        "дополнительно включают номер отдела и количество подчиненных. Объекты \n",
        "класса manager дополнительно включают номер отдела и количество \n",
        "подчиненных. Объекты класса secretary дополнительно включают фамилию \n",
        "начальника. Данные о менеджерах и секретарях введите с клавиатуры и выведите \n",
        "на экран дисплея. "
      ],
      "metadata": {
        "id": "HHXvn5ywESMG"
      }
    },
    {
      "cell_type": "code",
      "source": [
        "class Man:\n",
        "  def __init__(self, surname, initials, phone, address, age):\n",
        "    self.surname = surname\n",
        "    self.initials = initials\n",
        "    self.phone = phone\n",
        "    self.address = address\n",
        "    self.age = age\n",
        "\n",
        "class Manager(Man):\n",
        "  def __init__(self, surname, initials, phone, address, age, departmentnumber, nums):\n",
        "    self.departmentnumber = departmentnumber\n",
        "    self.nums = nums\n",
        "    Man.__init__(self, surname, initials, phone, address, age)\n",
        "\n",
        "class Secretary(Man):\n",
        "  def __init__(self, surname, initials, phone, address, age, boss):\n",
        "    self.boss = boss\n",
        "    Man.__init__(self, surname, initials, phone, address, age)\n",
        "surname = input(\"Введите фамилию: \")\n",
        "initials = input(\"Введите инициалы: \")\n",
        "phone = input(\"Введите телефон: \")\n",
        "address = input(\"Введите адрес: \")\n",
        "age = int(input(\"Введите возраст: \"))\n",
        "departmentnumber = int(input(\"Введите номер отдела (для менеджера): \"))\n",
        "nums = int(input(\"Введите количество подчиненных (для менеджера): \"))\n",
        "boss = input(\"Введите фамилию начальника (для секретаря): \")\n",
        "m = Manager(surname, initials, phone, address, age, departmentnumber, nums)\n",
        "s = Secretary(surname, initials, phone, address, age, boss)\n",
        "print(\"Информация о менеджере:\")\n",
        "print(\"Фамилия:\", m.surname)\n",
        "print(\"Инициалы:\", m.initials)\n",
        "print(\"Телефон:\", m.phone)\n",
        "print(\"Адрес:\", m.address)\n",
        "print(\"Возраст:\", m.age)\n",
        "print(\"Номер отдела:\", m.departmentnumber)\n",
        "print(\"Количество подчиненных:\", m.nums)\n",
        "print(\"Информация о секретаре:\")\n",
        "print(\"Фамилия:\", s.surname)\n",
        "print(\"Инициалы:\", s.initials)\n",
        "print(\"Телефон:\", s.phone)\n",
        "print(\"Адрес:\", s.address)\n",
        "print(\"Возраст:\", s.age)\n",
        "print(\"Фамилия начальника:\", s.boss)"
      ],
      "metadata": {
        "colab": {
          "base_uri": "https://localhost:8080/"
        },
        "id": "uBt08X3yFW_S",
        "outputId": "1e43938f-7d03-4ced-b4bb-af7d74aaabe3"
      },
      "execution_count": 23,
      "outputs": [
        {
          "output_type": "stream",
          "name": "stdout",
          "text": [
            "Введите фамилию: иванов\n",
            "Введите инициалы: иаа\n",
            "Введите телефон: 799000990\n",
            "Введите адрес: шереметьевская 28\n",
            "Введите возраст: 20\n",
            "Введите номер отдела (для менеджера): 10\n",
            "Введите количество подчиненных (для менеджера): 3\n",
            "Введите фамилию начальника (для секретаря): бортич\n",
            "Информация о менеджере:\n",
            "Фамилия: иванов\n",
            "Инициалы: иаа\n",
            "Телефон: 799000990\n",
            "Адрес: шереметьевская 28\n",
            "Возраст: 20\n",
            "Номер отдела: 10\n",
            "Количество подчиненных: 3\n",
            "Информация о секретаре:\n",
            "Фамилия: иванов\n",
            "Инициалы: иаа\n",
            "Телефон: 799000990\n",
            "Адрес: шереметьевская 28\n",
            "Возраст: 20\n",
            "Фамилия начальника: бортич\n"
          ]
        }
      ]
    },
    {
      "cell_type": "markdown",
      "source": [
        "7. Разработайте приложение, в котором опишите базовый класс building. Он \n",
        "хранит этаж, число комнат в квартире, общую площадь квартиры. Три \n",
        "производных класса house-k, house-p, house-m наследуют класс building. Каждый \n",
        "из них хранит надбавку к цене квадратного метра площади, зависящую от \n",
        "материала дома. Производный класс office наследует производные классы house-k, house-p, house-m и хранит наличие лоджии и надбавку, связанную с районом города. Вывести на экран стоимость конкретной квартиры. "
      ],
      "metadata": {
        "id": "icHP-C-jGZN_"
      }
    },
    {
      "cell_type": "code",
      "source": [
        "class Building:\n",
        "  def __init__(self,floor,rooms,area):\n",
        "    self.floor = floor\n",
        "    self.rooms = rooms\n",
        "    self.area = area\n",
        "class House_k(Building):\n",
        "  def __init__(self,floor,rooms,area,mat):\n",
        "    Building.__init__(self,floor,rooms,area)\n",
        "    self.mat = mat\n",
        "  def count1(self):\n",
        "    self.price_meter1 = 500\n",
        "    if self.mat == 'камень':\n",
        "      self.price_meter1 += 1000\n",
        "    elif self.mat == 'дерево':\n",
        "      self.price_meter1 += 500\n",
        "    return self.price_meter1\n",
        "class House_p(Building):\n",
        "  def __init__(self,floor,rooms,area,mat):\n",
        "    Building.__init__(self,floor,rooms,area)\n",
        "    self.mat = mat\n",
        "  def count2(self):\n",
        "    self.price_meter2 = 2300\n",
        "    if self.mat == 'камень':\n",
        "      self.price_meter2 += 1700\n",
        "    elif self.mat == 'дерево':\n",
        "      self.price_meter2 += 700\n",
        "    return self.price_meter2\n",
        "class House_m(Building):\n",
        "  def __init__(self,floor,rooms,area,mat):\n",
        "    Building.__init__(self,floor,rooms,area)\n",
        "    self.mat = mat\n",
        "  def count3(self):\n",
        "    self.price_meter3 = 300\n",
        "    if self.mat == 'камень':\n",
        "      self.price_meter3 += 700\n",
        "    elif self.mat == 'дерево':\n",
        "      self.price_meter3 += 200\n",
        "    return self.price_meter3\n",
        "class Office(House_k, House_p, House_m):\n",
        "  def __init__(self,floor,rooms,area,mat,balcony,place):\n",
        "    House_k.__init__(self,floor,rooms,area,mat)\n",
        "    House_p.__init__(self,floor,rooms,area,mat)\n",
        "    House_m.__init__(self,floor,rooms,area,mat)\n",
        "    self.b = balcony\n",
        "    self.pl = place\n",
        "    self.price_meter1 = 0\n",
        "    self.price_meter2 = 0\n",
        "    self.price_meter3 = 0\n",
        "    if (self.pl == 'центр города') and (self.b == 1):\n",
        "      self.price_meter1 == self.price_meter2==self.price_meter3==3600\n",
        "    elif (self.pl == 'у метро') and (self.b == 1):\n",
        "      self.price_meter1 == self.price_meter2==self.price_meter3==3000\n",
        "    return self.price_meter1, self.price_meter2, self.price_meter3\n",
        "  def price_flat(self):\n",
        "    self.area1 = 100\n",
        "    self.price1 = self.area1 * self.price_meter1\n",
        "    self.area2 = 150\n",
        "    self.price2 = self.area2 * self.price_meter2\n",
        "    self.area3 = 70\n",
        "    self.price3 = self.area3 * self.price_meter3\n",
        "    return self.price1, self.price2, self.price3\n",
        "mat= str(input('ведите материалы домов(дерево или камень): '))\n",
        "place = str(input('введите местоположение дома(у метро или центр города): '))\n",
        "balcony = 1\n",
        "o = Office(8,4,100,mat,balcony,place)\n",
        "o.price_flat()"
      ],
      "metadata": {
        "id": "IZNoX-OCZIER"
      },
      "execution_count": null,
      "outputs": []
    },
    {
      "cell_type": "markdown",
      "source": [
        "8. В программе рассчитываются площади треугольника и прямоугольника. С \n",
        "этой целью создается абстрактный класс area, в котором сохраняются две \n",
        "размерности фигуры. В производных классах задайте вид конкретных фигур и \n",
        "возвратите их площади."
      ],
      "metadata": {
        "id": "kMmCCXZWG0On"
      }
    },
    {
      "cell_type": "code",
      "source": [
        "from abc import ABC, abstractmethod\n",
        "class Area(ABC):\n",
        "  def __init__(self,a,b):\n",
        "    self.a = a\n",
        "    self.b = b\n",
        "  @abstractmethod\n",
        "  def count(self):\n",
        "    pass\n",
        "class Triangle(Area):\n",
        "  def __init__(self, a, b):\n",
        "    Area.__init__(self,a,b)\n",
        "  def count(self):\n",
        "    return 0.5*self.a*self.b\n",
        "class Rectangle(Area):\n",
        "  def __init__(self, a, b):\n",
        "    Area.__init__(self,a,b)\n",
        "  def count(self):\n",
        "    return self.a*self.b\n",
        "a, b = map(int, input('введите значения переменных через пробел: ').split())\n",
        "t = Triangle(a,b)\n",
        "print('площадь треугольника = ', t.count())\n",
        "r = Rectangle(a,b)\n",
        "print('площадь прямоугольника = ', r.count())"
      ],
      "metadata": {
        "id": "G4Y1u7WP2O7m",
        "colab": {
          "base_uri": "https://localhost:8080/"
        },
        "outputId": "e6941fa7-842e-4e2a-b779-7976820144b1"
      },
      "execution_count": null,
      "outputs": [
        {
          "output_type": "stream",
          "name": "stdout",
          "text": [
            "введите значения переменных через пробел: 5 6\n",
            "площадь треугольника =  15.0\n",
            "площадь прямоугольника =  30\n"
          ]
        }
      ]
    }
  ]
}