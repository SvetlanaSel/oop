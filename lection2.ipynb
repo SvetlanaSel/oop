{
  "nbformat": 4,
  "nbformat_minor": 0,
  "metadata": {
    "colab": {
      "provenance": [],
      "authorship_tag": "ABX9TyPglEQOcdS4mpOBokJbq76X",
      "include_colab_link": true
    },
    "kernelspec": {
      "name": "python3",
      "display_name": "Python 3"
    },
    "language_info": {
      "name": "python"
    }
  },
  "cells": [
    {
      "cell_type": "markdown",
      "metadata": {
        "id": "view-in-github",
        "colab_type": "text"
      },
      "source": [
        "<a href=\"https://colab.research.google.com/github/SvetlanaSel/oop/blob/main/lection2.ipynb\" target=\"_parent\"><img src=\"https://colab.research.google.com/assets/colab-badge.svg\" alt=\"Open In Colab\"/></a>"
      ]
    },
    {
      "cell_type": "markdown",
      "source": [
        "#Пример построения иерархии классов, представленных на рисунке"
      ],
      "metadata": {
        "id": "GWNBUXTEl7XY"
      }
    },
    {
      "cell_type": "code",
      "source": [
        "class Person:\n",
        "  def __init__(self, nаmе='Человек без имени'):\n",
        "    self.nаmе = nаmе\n",
        "    self.age = 0\n",
        "  def say(self):\n",
        "    print(\"{0} говорит\".format(self.nаmе))\n",
        "# Person - родительский класс\n",
        "class Employee(Person): \n",
        "  def set_job(self, job_title='Безработный'):\n",
        "    self.job_title = job_title\n",
        "  def get_job(self):\n",
        "    print(self.job_title)\n",
        "class Customer(Person):\n",
        "  def set_email(self, email='Heт почты'):\n",
        "    self.email = email\n",
        "  def get_email(self):\n",
        "    print(self.email)\n",
        "# создаем человека с именем 'Петр':\n",
        "person = Person('Петр')\n",
        "# просим человека что-нибудь сказать:\n",
        "person.say()\n",
        "# создаем работника без имени:\n",
        "emp = Employee()\n",
        "emp.say() # метод наследовался из класса Person\n",
        "# хотим, чтобы в момент создания Employee\n",
        "# заполнялась должность\n",
        "cust = Customer('Елена')\n",
        "cust.say()\n",
        "# метод наследовался из класса Person\n",
        "# хотим, чтобы в момент создания Customer\n",
        "# заполнялась почта"
      ],
      "metadata": {
        "colab": {
          "base_uri": "https://localhost:8080/"
        },
        "id": "Qa1pP9rElZW9",
        "outputId": "7a38d612-8128-4f61-9b86-21446394c0d4"
      },
      "execution_count": null,
      "outputs": [
        {
          "output_type": "stream",
          "name": "stdout",
          "text": [
            "Петр говорит\n",
            "Человек без имени говорит\n",
            "Елена говорит\n"
          ]
        }
      ]
    },
    {
      "cell_type": "markdown",
      "source": [
        "#В примере по умолчанию наследуется конструктор базового класса Person, но в нем не определяются атрибуты дочерних классов. Исправим ситуацию путем переопределения конструктора в дочерних классах на представленном ниже примере."
      ],
      "metadata": {
        "id": "uuDiLTu6mF-s"
      }
    },
    {
      "cell_type": "code",
      "source": [
        "class Person:\n",
        "  def __init__(self, name='Человек без имени'):\n",
        "    self.name = name\n",
        "    self.age = 0\n",
        "\n",
        "  def say(self):\n",
        "    print(\"{0} говорит\".format(self.name)) \n",
        "class Employee(Person):\n",
        "# переопределяем конструктор:\n",
        "  def __init__(self, name):\n",
        "# вызываем конструктор базового класса:\n",
        "    Person.__init__(self)\n",
        "# определяем атрибут по умолчанию:\n",
        "    self.job_title = 'Безработный'\n",
        "  def set_job(self, job_title='Безработный'):\n",
        "    self.job_title = job_title\n",
        "  def get_job(self):\n",
        "    print(self.name, self.job_title)\n",
        "\n",
        "class Customer(Person):\n",
        "  def __init__(self, name):\n",
        "    Person.__init__(self)\n",
        "    self.email = 'Нет почты'\n",
        "  def set_email(self, email='Нет почты'):\n",
        "    self.email = email\n",
        "  def get_email(self):\n",
        "    print(self.name, self.email)"
      ],
      "metadata": {
        "id": "7Ho-wzFUmFup"
      },
      "execution_count": null,
      "outputs": []
    },
    {
      "cell_type": "markdown",
      "source": [
        "#Если язык программирования поддерживает множественное наследование, то у одного класса-потомка, может быть, несколько родительских классов. Язык Python поддерживает множественное наследование. Поля родительского класса при наследовании переходят к классу-потомку. Кроме того, поля родительского класса могут переопределены у потомка. Рассмотрим следующий пример. "
      ],
      "metadata": {
        "id": "fNLWKDhDmwb7"
      }
    },
    {
      "cell_type": "code",
      "source": [
        "class A:\n",
        "  def some_function(self):\n",
        "    print(\"First function\") \n",
        "  def other_function(self):\n",
        "    print(\"Second function\")\n",
        "class B:\n",
        "  def method_in_B(self):\n",
        "    print(\"Third function\")\n",
        "class C(A):\n",
        "  def other_function(self):\n",
        "    print(\"Replaced function\")\n",
        "class D(B, C):\n",
        "  pass\n",
        "# Посмотрим все атрибуты класса, не являющиеся служебными\n",
        "print(\"A:\\t\", list(filter(lambda x: \"__\" not in x, dir(A))))\n",
        "print(\"B:\\t\", list(filter(lambda x: \"__\" not in x, dir(B))))\n",
        "print(\"C(A):\\t\", list(filter(lambda x: \"__\" not in x,\n",
        "dir(C))))\n",
        "print(\"D(B,C):\\t\", list(filter(lambda x: \"__\" not in x,\n",
        "dir(D))))\n",
        "print()\n",
        "# Посмотрим на реализацию функции в D\n",
        "d = D()\n",
        "d.method_in_B()\n",
        "d.some_function()\n",
        "d.other_function()\n",
        "print()"
      ],
      "metadata": {
        "colab": {
          "base_uri": "https://localhost:8080/"
        },
        "id": "Tj_4oIM7mwnP",
        "outputId": "efff84f0-8120-469b-d897-cb8ffd0287fa"
      },
      "execution_count": null,
      "outputs": [
        {
          "output_type": "stream",
          "name": "stdout",
          "text": [
            "A:\t ['other_function', 'some_function']\n",
            "B:\t ['method_in_B']\n",
            "C(A):\t ['other_function', 'some_function']\n",
            "D(B,C):\t ['method_in_B', 'other_function', 'some_function']\n",
            "\n",
            "Third function\n",
            "First function\n",
            "Replaced function\n",
            "\n"
          ]
        }
      ]
    },
    {
      "cell_type": "markdown",
      "source": [
        "# Класс-потомок наследует методы и переменные, определенные в родительском классе. Рассмотрим на примере ниже. "
      ],
      "metadata": {
        "id": "ATyyrCOhnPRH"
      }
    },
    {
      "cell_type": "code",
      "source": [
        "class A:\n",
        "  var_A = 1\n",
        "  def method_A(self):\n",
        "    print(\"A\")\n",
        "class B(A):\n",
        "  var_B = 2\n",
        "  def method_B(self):\n",
        "    print(\"B\")\n",
        "class C(B):\n",
        "  var_C = 3\n",
        "  def method_C(self):\n",
        "    print(\"C\") \n",
        "print(\"A:\\t\", list(filter(lambda x: \"__\" not in x,\n",
        "dir(A))))\n",
        "print(\"B(A):\\t\", list(filter(lambda x: \"__\" not in x,\n",
        "dir(B))))\n",
        "print(\"C(B):\\t\", list(filter(lambda x: \"__\" not in x,\n",
        "dir(C))))\n",
        "print()"
      ],
      "metadata": {
        "colab": {
          "base_uri": "https://localhost:8080/"
        },
        "id": "y2JVkxT8nPdG",
        "outputId": "688d635a-60f6-44aa-877c-b2a0131722b3"
      },
      "execution_count": null,
      "outputs": [
        {
          "output_type": "stream",
          "name": "stdout",
          "text": [
            "A:\t ['method_A', 'var_A']\n",
            "B(A):\t ['method_A', 'method_B', 'var_A', 'var_B']\n",
            "C(B):\t ['method_A', 'method_B', 'method_C', 'var_A', 'var_B', 'var_C']\n",
            "\n"
          ]
        }
      ]
    },
    {
      "cell_type": "markdown",
      "source": [
        "#При наследовании класс-потомок может переопределять методы и переменные родительского класса: \n"
      ],
      "metadata": {
        "id": "1q-EMmgznp9e"
      }
    },
    {
      "cell_type": "code",
      "source": [
        "class A:\n",
        "  value = 13\n",
        "  def some_method(self):\n",
        "    print(f\"Method in A, value = {self.value}\")\n",
        "class B(A):\n",
        "  def some_method(self):\n",
        "    print(f\"Method in B, value = {self.value}\")\n",
        "class C(B):\n",
        "  value = 6\n",
        "  def some_method(self):\n",
        "    print(f\"Method in C, value = {self.value}\")\n",
        "A().some_method()\n",
        "B().some_method()\n",
        "C().some_method()\n",
        "print()"
      ],
      "metadata": {
        "colab": {
          "base_uri": "https://localhost:8080/"
        },
        "id": "S2Y2X5Z7nqKV",
        "outputId": "0d9a3e9e-0430-4789-cab0-79c37eb42406"
      },
      "execution_count": null,
      "outputs": [
        {
          "output_type": "stream",
          "name": "stdout",
          "text": [
            "Method in A, value = 13\n",
            "Method in B, value = 13\n",
            "Method in C, value = 6\n",
            "\n"
          ]
        }
      ]
    },
    {
      "cell_type": "markdown",
      "source": [
        "#Множественное наследование позволяет получить доступ к атрибутам нескольких родительских классов. На примере ниже это продемонстрируем. "
      ],
      "metadata": {
        "id": "DlAekW4un4XY"
      }
    },
    {
      "cell_type": "code",
      "source": [
        "class A:\n",
        "  def some_function(self):\n",
        "    print(\"First function\")\n",
        "def other_function(self):\n",
        " print(\"Second function\")\n",
        "class B:\n",
        "  def method_in_B(self):\n",
        "    print(\"Third function\")\n",
        "class С(A, B):\n",
        "  pass\n",
        "# Посмотрим все атрибуты класса, не являющиеся служебными\n",
        "print(\"A:\\t\", list(filter(lambda x: \"__\" not in x,\n",
        "dir(A))))\n",
        "print(\"B:\\t\", list(filter(lambda x: \"__\" not in x,\n",
        "dir(B))))\n",
        "print(\"С(A,B):\\t\", list(filter(lambda x: \"__\" not in x,\n",
        "dir(С))))\n",
        "print() "
      ],
      "metadata": {
        "colab": {
          "base_uri": "https://localhost:8080/"
        },
        "id": "5UTKBxp-n4kI",
        "outputId": "a6cd4bd9-53a6-42cb-ae8b-b408c24be216"
      },
      "execution_count": null,
      "outputs": [
        {
          "output_type": "stream",
          "name": "stdout",
          "text": [
            "A:\t ['some_function']\n",
            "B:\t ['method_in_B']\n",
            "С(A,B):\t ['method_in_B', 'some_function']\n",
            "\n"
          ]
        }
      ]
    }
  ]
}