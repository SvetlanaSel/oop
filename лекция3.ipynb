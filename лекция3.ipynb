{
  "nbformat": 4,
  "nbformat_minor": 0,
  "metadata": {
    "colab": {
      "provenance": [],
      "authorship_tag": "ABX9TyOSmFfPQ9YOGgrU9UB7llga",
      "include_colab_link": true
    },
    "kernelspec": {
      "name": "python3",
      "display_name": "Python 3"
    },
    "language_info": {
      "name": "python"
    }
  },
  "cells": [
    {
      "cell_type": "markdown",
      "metadata": {
        "id": "view-in-github",
        "colab_type": "text"
      },
      "source": [
        "<a href=\"https://colab.research.google.com/github/SvetlanaSel/oop/blob/main/%D0%BB%D0%B5%D0%BA%D1%86%D0%B8%D1%8F3.ipynb\" target=\"_parent\"><img src=\"https://colab.research.google.com/assets/colab-badge.svg\" alt=\"Open In Colab\"/></a>"
      ]
    },
    {
      "cell_type": "markdown",
      "source": [
        "#ИНКАПСУЛЯЦИЯ"
      ],
      "metadata": {
        "id": "_4OV-mzobvcV"
      }
    },
    {
      "cell_type": "markdown",
      "source": [
        "Рассмотрим\n",
        "пример создания и работы с публичными (public) методами в Python. \n"
      ],
      "metadata": {
        "id": "Tmnow-e0bwHd"
      }
    },
    {
      "cell_type": "code",
      "execution_count": 3,
      "metadata": {
        "colab": {
          "base_uri": "https://localhost:8080/"
        },
        "id": "IJFIDQh8bMHm",
        "outputId": "b4a09947-dcb2-4546-bc58-2b36ea4dd1c2"
      },
      "outputs": [
        {
          "output_type": "stream",
          "name": "stdout",
          "text": [
            "Grey\n",
            "Red\n"
          ]
        }
      ],
      "source": [
        "class Car:\n",
        " def __init__(self, color):\n",
        "   # Объявляем публичное поле color\n",
        "  self.color = color \n",
        "# Создаем экземпляр класса Car\n",
        "car = Car('Grey')\n",
        "# Обращаемся к свойству color\n",
        "print(car.color)\n",
        "# Изменяем свойство color\n",
        "car.color = 'Red'\n",
        "print(car.color) \n"
      ]
    },
    {
      "cell_type": "markdown",
      "source": [
        "В соответствии с соглашением чтобы сделать атрибут класса защищенным\n",
        "(protected), необходимо добавить к имени символ подчеркивания _ . Пример\n",
        "такой реализации представлен ниже."
      ],
      "metadata": {
        "id": "fyXKmzQXb3qX"
      }
    },
    {
      "cell_type": "code",
      "source": [
        "class Car:\n",
        " def __init__(self, color):\n",
        "  self._color = color \n",
        "# Создаем экземпляр класса Car\n",
        "car = Car('Grey')\n",
        "# Обращаемся к свойству color\n",
        "print(car._color)\n",
        "# Изменяем свойство color\n",
        "car._color = 'Red'\n",
        "print(car._color) \n"
      ],
      "metadata": {
        "colab": {
          "base_uri": "https://localhost:8080/"
        },
        "id": "AhM7ILXObmN9",
        "outputId": "ab512371-648f-46ae-971a-d12bec354bee"
      },
      "execution_count": 4,
      "outputs": [
        {
          "output_type": "stream",
          "name": "stdout",
          "text": [
            "Grey\n",
            "Red\n"
          ]
        }
      ]
    },
    {
      "cell_type": "markdown",
      "source": [
        "Часто намеренно скрываются поля самого класса, а не его объектов.\n",
        "Например, если класс имеет счетчик своих объектов, то необходимо исключить\n",
        "возможность его случайного изменения из вне. Рассмотрим пример с таким\n",
        "счетчиком на языке Python. "
      ],
      "metadata": {
        "id": "8c5qaEKecANl"
      }
    },
    {
      "cell_type": "code",
      "source": [
        "class B:\n",
        "  count = 0 \n",
        "  def __init__(self):\n",
        "    B.count += 1\n",
        "  def __del__(self):\n",
        "    B.count -= 1\n",
        "\n",
        "a = B()\n",
        "b = B()\n",
        "print(B.count) # выведет 2\n",
        "del a\n",
        "print(B.count) # выведет 1"
      ],
      "metadata": {
        "colab": {
          "base_uri": "https://localhost:8080/"
        },
        "id": "66JncprAbmT9",
        "outputId": "b439ffd3-f078-4854-a58b-93ff1e993a32"
      },
      "execution_count": 5,
      "outputs": [
        {
          "output_type": "stream",
          "name": "stdout",
          "text": [
            "2\n",
            "1\n"
          ]
        }
      ]
    },
    {
      "cell_type": "code",
      "source": [
        "B.count -= 1\n",
        "print(B.count) # будет выведен 0, хотя остался объект b "
      ],
      "metadata": {
        "colab": {
          "base_uri": "https://localhost:8080/"
        },
        "id": "zQtfszPLcUnO",
        "outputId": "faa4be17-70c1-41ad-cabc-2169b077a422"
      },
      "execution_count": 6,
      "outputs": [
        {
          "output_type": "stream",
          "name": "stdout",
          "text": [
            "0\n"
          ]
        }
      ]
    },
    {
      "cell_type": "markdown",
      "source": [
        "Для имитации сокрытия атрибутов в Python используется соглашение – это\n",
        "не синтаксическое правило языка, при желании его можно нарушить, согласно\n",
        "которому, если поле или метод имеют два знака подчеркивания впереди имени,\n",
        "но не сзади, то этот атрибут предусмотрен исключительно для внутреннего\n",
        "пользования. "
      ],
      "metadata": {
        "id": "wBcxiGe7cOum"
      }
    },
    {
      "cell_type": "code",
      "source": [
        "__count = 0\n",
        "\n",
        "def __init__(self):\n",
        "  B.__count += 1\n",
        "def __del__(self):\n",
        "    B.__count -= 1\n",
        "\n",
        "a = B()\n",
        "print(B.__count)\n",
        "#Попытка выполнить этот код приведет к выбросу\n",
        "\n"
      ],
      "metadata": {
        "colab": {
          "base_uri": "https://localhost:8080/",
          "height": 242
        },
        "id": "iyEGupPdcO3R",
        "outputId": "56b47f8c-0f00-407e-9d95-5272693bf082"
      },
      "execution_count": 8,
      "outputs": [
        {
          "output_type": "error",
          "ename": "AttributeError",
          "evalue": "ignored",
          "traceback": [
            "\u001b[0;31m---------------------------------------------------------------------------\u001b[0m",
            "\u001b[0;31mAttributeError\u001b[0m                            Traceback (most recent call last)",
            "\u001b[0;32m<ipython-input-8-9e0aec15d0af>\u001b[0m in \u001b[0;36m<cell line: 9>\u001b[0;34m()\u001b[0m\n\u001b[1;32m      7\u001b[0m \u001b[0;34m\u001b[0m\u001b[0m\n\u001b[1;32m      8\u001b[0m \u001b[0ma\u001b[0m \u001b[0;34m=\u001b[0m \u001b[0mB\u001b[0m\u001b[0;34m(\u001b[0m\u001b[0;34m)\u001b[0m\u001b[0;34m\u001b[0m\u001b[0;34m\u001b[0m\u001b[0m\n\u001b[0;32m----> 9\u001b[0;31m \u001b[0mprint\u001b[0m\u001b[0;34m(\u001b[0m\u001b[0mB\u001b[0m\u001b[0;34m.\u001b[0m\u001b[0m__count\u001b[0m\u001b[0;34m)\u001b[0m\u001b[0;34m\u001b[0m\u001b[0;34m\u001b[0m\u001b[0m\n\u001b[0m\u001b[1;32m     10\u001b[0m \u001b[0;31m#Попытка выполнить этот код приведет к выбросу\u001b[0m\u001b[0;34m\u001b[0m\u001b[0;34m\u001b[0m\u001b[0m\n\u001b[1;32m     11\u001b[0m \u001b[0;34m\u001b[0m\u001b[0m\n",
            "\u001b[0;31mAttributeError\u001b[0m: type object 'B' has no attribute '__count'"
          ]
        }
      ]
    },
    {
      "cell_type": "code",
      "source": [
        "class B:\n",
        "  __count = 0\n",
        "  def __init__(self):\n",
        "    B.__count += 1\n",
        "  def __del__(self):\n",
        "    B.__count -= 1\n",
        "  def qtyObject():\n",
        "    return B.__count\n",
        "\n",
        "a = B()\n",
        "b = B()\n",
        "print(B.qtyObject()) # будет выведено 2 "
      ],
      "metadata": {
        "colab": {
          "base_uri": "https://localhost:8080/"
        },
        "id": "evJLCxEnc0Gt",
        "outputId": "e1ae9f27-24a9-4865-d014-867e20fe4653"
      },
      "execution_count": 10,
      "outputs": [
        {
          "output_type": "stream",
          "name": "stdout",
          "text": [
            "2\n"
          ]
        },
        {
          "output_type": "stream",
          "name": "stderr",
          "text": [
            "Exception ignored in: <function B.__del__ at 0x7fded004a3a0>\n",
            "Traceback (most recent call last):\n",
            "  File \"<ipython-input-5-e21ba1e04660>\", line 6, in __del__\n",
            "AttributeError: type object 'B' has no attribute 'count'\n",
            "Exception ignored in: <function B.__del__ at 0x7fded004a3a0>\n",
            "Traceback (most recent call last):\n",
            "  File \"<ipython-input-5-e21ba1e04660>\", line 6, in __del__\n",
            "AttributeError: type object 'B' has no attribute 'count'\n"
          ]
        }
      ]
    },
    {
      "cell_type": "markdown",
      "source": [
        "В данном случае метод qtyObject()) не принимает объект (нет self), поэтому\n",
        "вызывать его надо через класс. То же самое с методами. Их можно сделать\n",
        "\"приватными\" с помощью двойного подчеркивания. \n"
      ],
      "metadata": {
        "id": "xlLphP0_c88x"
      }
    },
    {
      "cell_type": "code",
      "source": [
        "class DoubleList:\n",
        "  def __init__(self, l):\n",
        "    self.double = DoubleList.__makeDouble(l)\n",
        "  def __makeDouble(old):\n",
        "    new = []\n",
        "    for i in old:\n",
        "      new.append(i)\n",
        "      new.append(i)\n",
        "    return new\n",
        "\n",
        "nums = DoubleList([1, 3, 4, 6, 12])\n",
        "print(nums.double)\n",
        "print(DoubleList.__makeDouble([1,2]))\n"
      ],
      "metadata": {
        "colab": {
          "base_uri": "https://localhost:8080/",
          "height": 224
        },
        "id": "1VUYzHmjc9q3",
        "outputId": "f60ce3db-bef9-4075-e4c1-e8ab9fd7919d"
      },
      "execution_count": 12,
      "outputs": [
        {
          "output_type": "stream",
          "name": "stdout",
          "text": [
            "[1, 1, 3, 3, 4, 4, 6, 6, 12, 12]\n"
          ]
        },
        {
          "output_type": "error",
          "ename": "AttributeError",
          "evalue": "ignored",
          "traceback": [
            "\u001b[0;31m---------------------------------------------------------------------------\u001b[0m",
            "\u001b[0;31mAttributeError\u001b[0m                            Traceback (most recent call last)",
            "\u001b[0;32m<ipython-input-12-0080f617e7f3>\u001b[0m in \u001b[0;36m<cell line: 13>\u001b[0;34m()\u001b[0m\n\u001b[1;32m     11\u001b[0m \u001b[0mnums\u001b[0m \u001b[0;34m=\u001b[0m \u001b[0mDoubleList\u001b[0m\u001b[0;34m(\u001b[0m\u001b[0;34m[\u001b[0m\u001b[0;36m1\u001b[0m\u001b[0;34m,\u001b[0m \u001b[0;36m3\u001b[0m\u001b[0;34m,\u001b[0m \u001b[0;36m4\u001b[0m\u001b[0;34m,\u001b[0m \u001b[0;36m6\u001b[0m\u001b[0;34m,\u001b[0m \u001b[0;36m12\u001b[0m\u001b[0;34m]\u001b[0m\u001b[0;34m)\u001b[0m\u001b[0;34m\u001b[0m\u001b[0;34m\u001b[0m\u001b[0m\n\u001b[1;32m     12\u001b[0m \u001b[0mprint\u001b[0m\u001b[0;34m(\u001b[0m\u001b[0mnums\u001b[0m\u001b[0;34m.\u001b[0m\u001b[0mdouble\u001b[0m\u001b[0;34m)\u001b[0m\u001b[0;34m\u001b[0m\u001b[0;34m\u001b[0m\u001b[0m\n\u001b[0;32m---> 13\u001b[0;31m \u001b[0mprint\u001b[0m\u001b[0;34m(\u001b[0m\u001b[0mDoubleList\u001b[0m\u001b[0;34m.\u001b[0m\u001b[0m__makeDouble\u001b[0m\u001b[0;34m(\u001b[0m\u001b[0;34m[\u001b[0m\u001b[0;36m1\u001b[0m\u001b[0;34m,\u001b[0m\u001b[0;36m2\u001b[0m\u001b[0;34m]\u001b[0m\u001b[0;34m)\u001b[0m\u001b[0;34m)\u001b[0m\u001b[0;34m\u001b[0m\u001b[0;34m\u001b[0m\u001b[0m\n\u001b[0m",
            "\u001b[0;31mAttributeError\u001b[0m: type object 'DoubleList' has no attribute '__makeDouble'"
          ]
        }
      ]
    },
    {
      "cell_type": "markdown",
      "source": [
        "Подведя итоги, можно сказать следующее:\n",
        "– существует три уровня доступа к свойствам/методам класса: public,\n",
        "protected, private;\n",
        "– физически данный механизм ограничения доступа к атрибутам класса в\n",
        "Python реализован слабо, что от части может противоречить одному из главных\n",
        "принципов ООП - инкапсуляции.\n",
        "– существует некоторое соглашение, по которому в Python задать уровень\n",
        "доступа к свойству/методу класса можно с помощью добавления к имени одного\n",
        "(protected) или двух (private) подчеркиваний. Ответственность за соблюдение\n",
        "данного соглашения ложится на плечи программистов. "
      ],
      "metadata": {
        "id": "tnAoKVqNdMbW"
      }
    }
  ]
}