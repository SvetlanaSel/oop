{
  "nbformat": 4,
  "nbformat_minor": 0,
  "metadata": {
    "colab": {
      "provenance": [],
      "authorship_tag": "ABX9TyNXCGGP9DZpbwCrqbP5jeF5",
      "include_colab_link": true
    },
    "kernelspec": {
      "name": "python3",
      "display_name": "Python 3"
    },
    "language_info": {
      "name": "python"
    }
  },
  "cells": [
    {
      "cell_type": "markdown",
      "metadata": {
        "id": "view-in-github",
        "colab_type": "text"
      },
      "source": [
        "<a href=\"https://colab.research.google.com/github/SvetlanaSel/oop/blob/main/lections.ipynb\" target=\"_parent\"><img src=\"https://colab.research.google.com/assets/colab-badge.svg\" alt=\"Open In Colab\"/></a>"
      ]
    },
    {
      "cell_type": "markdown",
      "source": [
        "#1.3.1. Типы"
      ],
      "metadata": {
        "id": "CIy3PESjYQVI"
      }
    },
    {
      "cell_type": "code",
      "source": [
        "s = 'Это строка'\n",
        "type(s)"
      ],
      "metadata": {
        "colab": {
          "base_uri": "https://localhost:8080/"
        },
        "id": "TLnFYSMTYHQH",
        "outputId": "53e99c00-ccca-4c5b-bd07-609ce95761ef"
      },
      "execution_count": null,
      "outputs": [
        {
          "output_type": "execute_result",
          "data": {
            "text/plain": [
              "str"
            ]
          },
          "metadata": {},
          "execution_count": 2
        }
      ]
    },
    {
      "cell_type": "code",
      "execution_count": null,
      "metadata": {
        "colab": {
          "base_uri": "https://localhost:8080/"
        },
        "id": "xD5Hp6p7X8yf",
        "outputId": "bae8e55d-1814-4660-e3ec-34162c6d1423"
      },
      "outputs": [
        {
          "output_type": "execute_result",
          "data": {
            "text/plain": [
              "int"
            ]
          },
          "metadata": {},
          "execution_count": 1
        }
      ],
      "source": [
        "x = 42 # Создание переменной целочисленного типа\n",
        "type(x)"
      ]
    },
    {
      "cell_type": "code",
      "source": [
        "'300' + 'cc'\n"
      ],
      "metadata": {
        "colab": {
          "base_uri": "https://localhost:8080/",
          "height": 35
        },
        "id": "zqlKgeOrYCw3",
        "outputId": "58180fe0-1287-419d-a81f-0520e26797bd"
      },
      "execution_count": null,
      "outputs": [
        {
          "output_type": "execute_result",
          "data": {
            "text/plain": [
              "'300cc'"
            ],
            "application/vnd.google.colaboratory.intrinsic+json": {
              "type": "string"
            }
          },
          "metadata": {},
          "execution_count": 3
        }
      ]
    },
    {
      "cell_type": "code",
      "source": [
        "int('300') + 400 "
      ],
      "metadata": {
        "id": "9YwK6ivhYN2t"
      },
      "execution_count": null,
      "outputs": []
    },
    {
      "cell_type": "markdown",
      "source": [
        "#1.3.2. Уникальная идентификация"
      ],
      "metadata": {
        "id": "mkhSn0CSYa2m"
      }
    },
    {
      "cell_type": "code",
      "source": [
        "y = 2.5\n",
        "z = 2.5\n",
        "print(id(y))\n",
        "print(id(z))  "
      ],
      "metadata": {
        "colab": {
          "base_uri": "https://localhost:8080/"
        },
        "id": "izw4XgE-YbEe",
        "outputId": "8bdf5bae-edb7-41e5-daaa-e53984c891f6"
      },
      "execution_count": null,
      "outputs": [
        {
          "output_type": "stream",
          "name": "stdout",
          "text": [
            "140157205422960\n",
            "140157199858320\n"
          ]
        }
      ]
    },
    {
      "cell_type": "markdown",
      "source": [
        "#1.3.3. Содержимое объекта: данные и атрибуты"
      ],
      "metadata": {
        "id": "rim3FJ5jkC4M"
      }
    },
    {
      "cell_type": "code",
      "source": [
        "x = 42\n",
        "x\n",
        "\n",
        "# Two attributes \"imag\" & \"class\"\n",
        "print(x.imag) \n",
        "print(x.__class__)"
      ],
      "metadata": {
        "colab": {
          "base_uri": "https://localhost:8080/"
        },
        "id": "x-EtVa_XkDDs",
        "outputId": "a043694d-8380-47be-efbe-ad5d9d0868b6"
      },
      "execution_count": 1,
      "outputs": [
        {
          "output_type": "stream",
          "name": "stdout",
          "text": [
            "0\n",
            "<class 'int'>\n"
          ]
        }
      ]
    },
    {
      "cell_type": "markdown",
      "source": [
        "#1.3.4 Методы"
      ],
      "metadata": {
        "id": "shAVXCRxkSGI"
      }
    },
    {
      "cell_type": "code",
      "source": [
        "x = ['foo', 'bar']\n",
        "\n",
        "\n",
        "print(callable(x.append)) # True\n",
        "print(callable(x.__doc__)) # False"
      ],
      "metadata": {
        "colab": {
          "base_uri": "https://localhost:8080/"
        },
        "id": "95r9xD_skSOj",
        "outputId": "20146410-e679-4f8b-d7ef-b0025afb91f0"
      },
      "execution_count": 2,
      "outputs": [
        {
          "output_type": "stream",
          "name": "stdout",
          "text": [
            "True\n",
            "False\n"
          ]
        }
      ]
    },
    {
      "cell_type": "code",
      "source": [
        "x = ['a', 'b']\n",
        "x.append('c')\n",
        "print(x)\n",
        "\n",
        "s = 'This is a string'\n",
        "print(s.upper())\n",
        "print(s.lower())\n",
        "\n",
        "s.replace('this', 'that')\n",
        "print(s)"
      ],
      "metadata": {
        "colab": {
          "base_uri": "https://localhost:8080/"
        },
        "id": "NN9eXRhHkXjT",
        "outputId": "754ce7b9-a742-4674-8708-7974496a3a1b"
      },
      "execution_count": 3,
      "outputs": [
        {
          "output_type": "stream",
          "name": "stdout",
          "text": [
            "['a', 'b', 'c']\n",
            "THIS IS A STRING\n",
            "this is a string\n",
            "This is a string\n"
          ]
        }
      ]
    },
    {
      "cell_type": "code",
      "source": [
        "x = ['a', 'b']\n",
        "x[0] = 'aa'\n",
        "# Присвоение элемента с помощью обозначения квадратных скобок\n",
        "print(x)\n",
        "\n",
        "\n",
        "# Код выше вызывает __setitem__\n",
        "\n",
        "y = ['a', 'b']\n",
        "y.__setitem__(0, 'aa') \n",
        "print(y)\n",
        "     "
      ],
      "metadata": {
        "colab": {
          "base_uri": "https://localhost:8080/"
        },
        "id": "HYs3wOIekbHx",
        "outputId": "ade944af-1631-40ec-c9af-6b5f0829eebb"
      },
      "execution_count": 4,
      "outputs": [
        {
          "output_type": "stream",
          "name": "stdout",
          "text": [
            "['aa', 'b']\n",
            "['aa', 'b']\n"
          ]
        }
      ]
    },
    {
      "cell_type": "markdown",
      "source": [
        "#Классы 1.4"
      ],
      "metadata": {
        "id": "gnFrLS_ckXZV"
      }
    },
    {
      "cell_type": "code",
      "source": [
        "class Car:\n",
        "    pass"
      ],
      "metadata": {
        "id": "lDNbmKynklQi"
      },
      "execution_count": 5,
      "outputs": []
    },
    {
      "cell_type": "markdown",
      "source": [
        "#1.4.1 Определение собственных объектов"
      ],
      "metadata": {
        "id": "xLs_j6QJk4Td"
      }
    },
    {
      "cell_type": "code",
      "source": [
        "car_object = Car()\n",
        "\n",
        "type(car_object)"
      ],
      "metadata": {
        "colab": {
          "base_uri": "https://localhost:8080/"
        },
        "id": "cvknjzCyk2IR",
        "outputId": "cc8b76ce-11a8-40ea-c83f-c86f13e3bd34"
      },
      "execution_count": 6,
      "outputs": [
        {
          "output_type": "execute_result",
          "data": {
            "text/plain": [
              "__main__.Car"
            ]
          },
          "metadata": {},
          "execution_count": 6
        }
      ]
    },
    {
      "cell_type": "markdown",
      "source": [
        "#1.4.2 Атрибуты класса в Python\n",
        "\n",
        "Атрибутом класса/объекта называется любой элемент класса/объекта\n",
        "(переменную, метод, подкласс), на который можно сослаться через символ\n",
        "точки. Например:\n",
        "\n",
        "MyClass.<атрибут> или my_object.<атрибут>.\n",
        "\n",
        "Все атрибуты можно разделить на 2 группы:\n",
        "\n",
        "встроенные(служебные) атрибуты;\n",
        "\n",
        "пользовательские атрибуты. "
      ],
      "metadata": {
        "id": "lXSU1kBulA1n"
      }
    },
    {
      "cell_type": "markdown",
      "source": [
        "#1.4.2.1 Встроенные атрибуты\n",
        "\n",
        "Все классы, начиная с 3-й версии Python, имеют один общий родительский класс – object. Это значит, что когда создается новый класс, он неявно наследуется от класса object, и потому новый класс наследует все его атрибуты. Именно их и называют встроенными(служебными).\n",
        "\n",
        "__new__(cls[, ...]) Конструктор. Создает экземпляр(объект) класса. Сам класс передается в качестве аргумента\n",
        "\n",
        "__init__(self[, ...]) Инициализатор. Принимает объект класса из конструктора\n",
        "\n",
        "__del__(self) Деструктор. Вызывается при удалении объекта сборщиком мусора\n",
        "\n",
        "__str__(self) Возвращает строковое представление объекта\n",
        "\n",
        "__hash__(self) Возвращает хэш-сумму объекта\n",
        "\n",
        "__setattr__(self,attr, val) Создает новый атрибут для объекта класса с именем attr и значением val\n",
        "\n",
        "__doc__ Документация класса\n",
        "\n",
        "__dict__ Словарь, в котором хранится пространство имен класса\n",
        "В теории ООП конструктор класса – это специальный блок инструкций, который вызывается при создании объекта. При написании кода считается, что метод init(self) – это и есть конструктор, но это не совсем так.\n",
        "\n",
        "При создании объекта в Python вызывается метод new(cls, args, *kwargs) – он является конструктором класса. Метод init() является инициализатором класса. Этот метод первый принимает созданный конструктором объект"
      ],
      "metadata": {
        "id": "5TqsuNESmwSp"
      }
    },
    {
      "cell_type": "markdown",
      "source": [
        "#1.4.2.2 Пользовательские атрибуты\n",
        "\n",
        "Это атрибуты, которые непосредственно составляют основной функционал класса. Если служебные атрибуты наследуются от базового класса object, то пользовательские – пишутся программистом во время реализации класса."
      ],
      "metadata": {
        "id": "QVQBiYyCm7_N"
      }
    },
    {
      "cell_type": "code",
      "source": [
        "class Car:\n",
        "    color = 'Grey'\n",
        "    def drive(self):\n",
        "      pass\n",
        "    def price(self):\n",
        "      pass "
      ],
      "metadata": {
        "id": "woLJFInXm6O-"
      },
      "execution_count": 7,
      "outputs": []
    },
    {
      "cell_type": "code",
      "source": [
        "car_object = Car()\n",
        "dir(car_object)\n",
        "['__class__',\n",
        " '__delattr__',\n",
        " '__dict__',\n",
        " '__dir__',\n",
        " '__doc__',\n",
        " '__init__',\n",
        " '__init_subclass__',\n",
        " 'color',\n",
        " 'drive',\n",
        " 'price'] "
      ],
      "metadata": {
        "colab": {
          "base_uri": "https://localhost:8080/"
        },
        "id": "cLD4T_J0nDr9",
        "outputId": "b17ec8e2-f691-4bee-cb09-9087b584e064"
      },
      "execution_count": 8,
      "outputs": [
        {
          "output_type": "execute_result",
          "data": {
            "text/plain": [
              "['__class__',\n",
              " '__delattr__',\n",
              " '__dict__',\n",
              " '__dir__',\n",
              " '__doc__',\n",
              " '__init__',\n",
              " '__init_subclass__',\n",
              " 'color',\n",
              " 'drive',\n",
              " 'price']"
            ]
          },
          "metadata": {},
          "execution_count": 8
        }
      ]
    },
    {
      "cell_type": "markdown",
      "source": [
        "#1.4.3 Поля (свойства) класса в Python\n",
        "\n",
        "Поля(свойства или переменные) делятся на две основные группы:\n",
        "\n",
        "\n",
        "* статические поля;\n",
        "* динамические поля\n"
      ],
      "metadata": {
        "id": "FFH2SK8YnHbm"
      }
    },
    {
      "cell_type": "markdown",
      "source": [
        "#1.4.3.1 Статические поля (переменные или свойства класса)\n",
        "\n",
        "Это переменные, которые объявляются внутри тела класса и создаются тогда, когда создается класс. Создали класса – создалась переменная."
      ],
      "metadata": {
        "id": "N5WRU4ysnakm"
      }
    },
    {
      "cell_type": "code",
      "source": [
        "class Car:\n",
        "    # Статические поля (переменные класса) - def_color & def_model\n",
        "    def_color = 'Grey'\n",
        "    def_model = 'BMW'\n",
        "    def drive(self):\n",
        "        pass\n",
        "    def price(self):\n",
        "        pass\n",
        "\n",
        "a = Car()\n",
        "a.def_model\n",
        "a.def_color"
      ],
      "metadata": {
        "colab": {
          "base_uri": "https://localhost:8080/",
          "height": 35
        },
        "id": "_xFCD5wKnF1x",
        "outputId": "42b5c841-45c5-4c6c-b41e-053d2190ce13"
      },
      "execution_count": 9,
      "outputs": [
        {
          "output_type": "execute_result",
          "data": {
            "text/plain": [
              "'Grey'"
            ],
            "application/vnd.google.colaboratory.intrinsic+json": {
              "type": "string"
            }
          },
          "metadata": {},
          "execution_count": 9
        }
      ]
    },
    {
      "cell_type": "markdown",
      "source": [
        "#1.4.3.2 Динамические поля (переменные или свойства экземпляра класса)\n",
        "\n",
        "Это переменные, которые создаются на уровне экземпляра класса. Нет экземпляра - нет его переменных. Для создания динамического свойства необходимо обратиться к self внутри метода. Рассмотрим пример."
      ],
      "metadata": {
        "id": "ui5oHXoYno0w"
      }
    },
    {
      "cell_type": "code",
      "source": [
        "class Car_1:\n",
        "# Статические поля (переменные класса)\n",
        "    default_color = 'Grey'\n",
        "    default_model = 'BMW'\n",
        "    def __init__(self, color, model):\n",
        "# Динамические поля (переменные объекта)\n",
        "        self.color = color\n",
        "        self.model = model\n",
        "\n",
        "d = Car_1('Red', 'BMW')\n",
        "print(d.color)\n",
        "print(d.model)\n",
        "     "
      ],
      "metadata": {
        "colab": {
          "base_uri": "https://localhost:8080/"
        },
        "id": "GCd3fkvhnleN",
        "outputId": "c68d4531-6153-4229-9557-c1ac0c44a79e"
      },
      "execution_count": 10,
      "outputs": [
        {
          "output_type": "stream",
          "name": "stdout",
          "text": [
            "Red\n",
            "BMW\n"
          ]
        }
      ]
    },
    {
      "cell_type": "code",
      "source": [],
      "metadata": {
        "id": "NkSSWnd3nvTB"
      },
      "execution_count": null,
      "outputs": []
    }
  ]
}