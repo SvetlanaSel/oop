{
  "nbformat": 4,
  "nbformat_minor": 0,
  "metadata": {
    "colab": {
      "provenance": [],
      "authorship_tag": "ABX9TyOQXJ3HtxZmnZFMd8bqqrIA",
      "include_colab_link": true
    },
    "kernelspec": {
      "name": "python3",
      "display_name": "Python 3"
    },
    "language_info": {
      "name": "python"
    }
  },
  "cells": [
    {
      "cell_type": "markdown",
      "metadata": {
        "id": "view-in-github",
        "colab_type": "text"
      },
      "source": [
        "<a href=\"https://colab.research.google.com/github/SvetlanaSel/oop/blob/main/lections.ipynb\" target=\"_parent\"><img src=\"https://colab.research.google.com/assets/colab-badge.svg\" alt=\"Open In Colab\"/></a>"
      ]
    },
    {
      "cell_type": "markdown",
      "source": [
        "#1.3.1. Типы"
      ],
      "metadata": {
        "id": "CIy3PESjYQVI"
      }
    },
    {
      "cell_type": "code",
      "source": [
        "s = 'Это строка'\n",
        "type(s)"
      ],
      "metadata": {
        "colab": {
          "base_uri": "https://localhost:8080/"
        },
        "id": "TLnFYSMTYHQH",
        "outputId": "53e99c00-ccca-4c5b-bd07-609ce95761ef"
      },
      "execution_count": null,
      "outputs": [
        {
          "output_type": "execute_result",
          "data": {
            "text/plain": [
              "str"
            ]
          },
          "metadata": {},
          "execution_count": 2
        }
      ]
    },
    {
      "cell_type": "code",
      "execution_count": null,
      "metadata": {
        "colab": {
          "base_uri": "https://localhost:8080/"
        },
        "id": "xD5Hp6p7X8yf",
        "outputId": "bae8e55d-1814-4660-e3ec-34162c6d1423"
      },
      "outputs": [
        {
          "output_type": "execute_result",
          "data": {
            "text/plain": [
              "int"
            ]
          },
          "metadata": {},
          "execution_count": 1
        }
      ],
      "source": [
        "x = 42 # Создание переменной целочисленного типа\n",
        "type(x)"
      ]
    },
    {
      "cell_type": "code",
      "source": [
        "'300' + 'cc'\n"
      ],
      "metadata": {
        "colab": {
          "base_uri": "https://localhost:8080/",
          "height": 35
        },
        "id": "zqlKgeOrYCw3",
        "outputId": "58180fe0-1287-419d-a81f-0520e26797bd"
      },
      "execution_count": null,
      "outputs": [
        {
          "output_type": "execute_result",
          "data": {
            "text/plain": [
              "'300cc'"
            ],
            "application/vnd.google.colaboratory.intrinsic+json": {
              "type": "string"
            }
          },
          "metadata": {},
          "execution_count": 3
        }
      ]
    },
    {
      "cell_type": "code",
      "source": [
        "int('300') + 400 "
      ],
      "metadata": {
        "id": "9YwK6ivhYN2t"
      },
      "execution_count": null,
      "outputs": []
    },
    {
      "cell_type": "markdown",
      "source": [
        "#1.3.2. Уникальная идентификация"
      ],
      "metadata": {
        "id": "mkhSn0CSYa2m"
      }
    },
    {
      "cell_type": "code",
      "source": [
        "y = 2.5\n",
        "z = 2.5\n",
        "print(id(y))\n",
        "print(id(z))  "
      ],
      "metadata": {
        "colab": {
          "base_uri": "https://localhost:8080/"
        },
        "id": "izw4XgE-YbEe",
        "outputId": "8bdf5bae-edb7-41e5-daaa-e53984c891f6"
      },
      "execution_count": null,
      "outputs": [
        {
          "output_type": "stream",
          "name": "stdout",
          "text": [
            "140157205422960\n",
            "140157199858320\n"
          ]
        }
      ]
    },
    {
      "cell_type": "markdown",
      "source": [
        "#1.3.3. Содержимое объекта: данные и атрибуты"
      ],
      "metadata": {
        "id": "rim3FJ5jkC4M"
      }
    },
    {
      "cell_type": "code",
      "source": [
        "x = 42\n",
        "x\n",
        "\n",
        "# Two attributes \"imag\" & \"class\"\n",
        "print(x.imag) \n",
        "print(x.__class__)"
      ],
      "metadata": {
        "colab": {
          "base_uri": "https://localhost:8080/"
        },
        "id": "x-EtVa_XkDDs",
        "outputId": "a043694d-8380-47be-efbe-ad5d9d0868b6"
      },
      "execution_count": null,
      "outputs": [
        {
          "output_type": "stream",
          "name": "stdout",
          "text": [
            "0\n",
            "<class 'int'>\n"
          ]
        }
      ]
    },
    {
      "cell_type": "markdown",
      "source": [
        "#1.3.4 Методы"
      ],
      "metadata": {
        "id": "shAVXCRxkSGI"
      }
    },
    {
      "cell_type": "code",
      "source": [
        "x = ['foo', 'bar']\n",
        "\n",
        "\n",
        "print(callable(x.append)) # True\n",
        "print(callable(x.__doc__)) # False"
      ],
      "metadata": {
        "colab": {
          "base_uri": "https://localhost:8080/"
        },
        "id": "95r9xD_skSOj",
        "outputId": "20146410-e679-4f8b-d7ef-b0025afb91f0"
      },
      "execution_count": null,
      "outputs": [
        {
          "output_type": "stream",
          "name": "stdout",
          "text": [
            "True\n",
            "False\n"
          ]
        }
      ]
    },
    {
      "cell_type": "code",
      "source": [
        "x = ['a', 'b']\n",
        "x.append('c')\n",
        "print(x)\n",
        "\n",
        "s = 'This is a string'\n",
        "print(s.upper())\n",
        "print(s.lower())\n",
        "\n",
        "s.replace('this', 'that')\n",
        "print(s)"
      ],
      "metadata": {
        "colab": {
          "base_uri": "https://localhost:8080/"
        },
        "id": "NN9eXRhHkXjT",
        "outputId": "754ce7b9-a742-4674-8708-7974496a3a1b"
      },
      "execution_count": null,
      "outputs": [
        {
          "output_type": "stream",
          "name": "stdout",
          "text": [
            "['a', 'b', 'c']\n",
            "THIS IS A STRING\n",
            "this is a string\n",
            "This is a string\n"
          ]
        }
      ]
    },
    {
      "cell_type": "code",
      "source": [
        "x = ['a', 'b']\n",
        "x[0] = 'aa'\n",
        "# Присвоение элемента с помощью обозначения квадратных скобок\n",
        "print(x)\n",
        "\n",
        "\n",
        "# Код выше вызывает __setitem__\n",
        "\n",
        "y = ['a', 'b']\n",
        "y.__setitem__(0, 'aa') \n",
        "print(y)\n",
        "     "
      ],
      "metadata": {
        "colab": {
          "base_uri": "https://localhost:8080/"
        },
        "id": "HYs3wOIekbHx",
        "outputId": "ade944af-1631-40ec-c9af-6b5f0829eebb"
      },
      "execution_count": null,
      "outputs": [
        {
          "output_type": "stream",
          "name": "stdout",
          "text": [
            "['aa', 'b']\n",
            "['aa', 'b']\n"
          ]
        }
      ]
    },
    {
      "cell_type": "markdown",
      "source": [
        "#Классы 1.4"
      ],
      "metadata": {
        "id": "gnFrLS_ckXZV"
      }
    },
    {
      "cell_type": "code",
      "source": [
        "class Car:\n",
        "    pass"
      ],
      "metadata": {
        "id": "lDNbmKynklQi"
      },
      "execution_count": null,
      "outputs": []
    },
    {
      "cell_type": "markdown",
      "source": [
        "#1.4.1 Определение собственных объектов"
      ],
      "metadata": {
        "id": "xLs_j6QJk4Td"
      }
    },
    {
      "cell_type": "code",
      "source": [
        "car_object = Car()\n",
        "\n",
        "type(car_object)"
      ],
      "metadata": {
        "colab": {
          "base_uri": "https://localhost:8080/"
        },
        "id": "cvknjzCyk2IR",
        "outputId": "cc8b76ce-11a8-40ea-c83f-c86f13e3bd34"
      },
      "execution_count": null,
      "outputs": [
        {
          "output_type": "execute_result",
          "data": {
            "text/plain": [
              "__main__.Car"
            ]
          },
          "metadata": {},
          "execution_count": 6
        }
      ]
    },
    {
      "cell_type": "markdown",
      "source": [
        "#1.4.2 Атрибуты класса в Python\n",
        "\n",
        "Атрибутом класса/объекта называется любой элемент класса/объекта\n",
        "(переменную, метод, подкласс), на который можно сослаться через символ\n",
        "точки. Например:\n",
        "\n",
        "MyClass.<атрибут> или my_object.<атрибут>.\n",
        "\n",
        "Все атрибуты можно разделить на 2 группы:\n",
        "\n",
        "встроенные(служебные) атрибуты;\n",
        "\n",
        "пользовательские атрибуты. "
      ],
      "metadata": {
        "id": "lXSU1kBulA1n"
      }
    },
    {
      "cell_type": "markdown",
      "source": [
        "#1.4.2.1 Встроенные атрибуты\n",
        "\n",
        "Все классы, начиная с 3-й версии Python, имеют один общий родительский класс – object. Это значит, что когда создается новый класс, он неявно наследуется от класса object, и потому новый класс наследует все его атрибуты. Именно их и называют встроенными(служебными).\n",
        "\n",
        "__new__(cls[, ...]) Конструктор. Создает экземпляр(объект) класса. Сам класс передается в качестве аргумента\n",
        "\n",
        "__init__(self[, ...]) Инициализатор. Принимает объект класса из конструктора\n",
        "\n",
        "__del__(self) Деструктор. Вызывается при удалении объекта сборщиком мусора\n",
        "\n",
        "__str__(self) Возвращает строковое представление объекта\n",
        "\n",
        "__hash__(self) Возвращает хэш-сумму объекта\n",
        "\n",
        "__setattr__(self,attr, val) Создает новый атрибут для объекта класса с именем attr и значением val\n",
        "\n",
        "__doc__ Документация класса\n",
        "\n",
        "__dict__ Словарь, в котором хранится пространство имен класса\n",
        "В теории ООП конструктор класса – это специальный блок инструкций, который вызывается при создании объекта. При написании кода считается, что метод init(self) – это и есть конструктор, но это не совсем так.\n",
        "\n",
        "При создании объекта в Python вызывается метод new(cls, args, *kwargs) – он является конструктором класса. Метод init() является инициализатором класса. Этот метод первый принимает созданный конструктором объект"
      ],
      "metadata": {
        "id": "5TqsuNESmwSp"
      }
    },
    {
      "cell_type": "markdown",
      "source": [
        "#1.4.2.2 Пользовательские атрибуты\n",
        "\n",
        "Это атрибуты, которые непосредственно составляют основной функционал класса. Если служебные атрибуты наследуются от базового класса object, то пользовательские – пишутся программистом во время реализации класса."
      ],
      "metadata": {
        "id": "QVQBiYyCm7_N"
      }
    },
    {
      "cell_type": "code",
      "source": [
        "class Car:\n",
        "    color = 'Grey'\n",
        "    def drive(self):\n",
        "      pass\n",
        "    def price(self):\n",
        "      pass "
      ],
      "metadata": {
        "id": "woLJFInXm6O-"
      },
      "execution_count": null,
      "outputs": []
    },
    {
      "cell_type": "code",
      "source": [
        "car_object = Car()\n",
        "dir(car_object)\n",
        "['__class__',\n",
        " '__delattr__',\n",
        " '__dict__',\n",
        " '__dir__',\n",
        " '__doc__',\n",
        " '__init__',\n",
        " '__init_subclass__',\n",
        " 'color',\n",
        " 'drive',\n",
        " 'price'] "
      ],
      "metadata": {
        "colab": {
          "base_uri": "https://localhost:8080/"
        },
        "id": "cLD4T_J0nDr9",
        "outputId": "b17ec8e2-f691-4bee-cb09-9087b584e064"
      },
      "execution_count": null,
      "outputs": [
        {
          "output_type": "execute_result",
          "data": {
            "text/plain": [
              "['__class__',\n",
              " '__delattr__',\n",
              " '__dict__',\n",
              " '__dir__',\n",
              " '__doc__',\n",
              " '__init__',\n",
              " '__init_subclass__',\n",
              " 'color',\n",
              " 'drive',\n",
              " 'price']"
            ]
          },
          "metadata": {},
          "execution_count": 8
        }
      ]
    },
    {
      "cell_type": "markdown",
      "source": [
        "#1.4.3 Поля (свойства) класса в Python\n",
        "\n",
        "Поля(свойства или переменные) делятся на две основные группы:\n",
        "\n",
        "\n",
        "* статические поля;\n",
        "* динамические поля\n"
      ],
      "metadata": {
        "id": "FFH2SK8YnHbm"
      }
    },
    {
      "cell_type": "markdown",
      "source": [
        "#1.4.3.1 Статические поля (переменные или свойства класса)\n",
        "\n",
        "Это переменные, которые объявляются внутри тела класса и создаются тогда, когда создается класс. Создали класса – создалась переменная."
      ],
      "metadata": {
        "id": "N5WRU4ysnakm"
      }
    },
    {
      "cell_type": "code",
      "source": [
        "class Car:\n",
        "    # Статические поля (переменные класса) - def_color & def_model\n",
        "    def_color = 'Grey'\n",
        "    def_model = 'BMW'\n",
        "    def drive(self):\n",
        "        pass\n",
        "    def price(self):\n",
        "        pass\n",
        "\n",
        "a = Car()\n",
        "a.def_model\n",
        "a.def_color"
      ],
      "metadata": {
        "colab": {
          "base_uri": "https://localhost:8080/",
          "height": 35
        },
        "id": "_xFCD5wKnF1x",
        "outputId": "42b5c841-45c5-4c6c-b41e-053d2190ce13"
      },
      "execution_count": null,
      "outputs": [
        {
          "output_type": "execute_result",
          "data": {
            "text/plain": [
              "'Grey'"
            ],
            "application/vnd.google.colaboratory.intrinsic+json": {
              "type": "string"
            }
          },
          "metadata": {},
          "execution_count": 9
        }
      ]
    },
    {
      "cell_type": "markdown",
      "source": [
        "#1.4.3.2 Динамические поля (переменные или свойства экземпляра класса)\n",
        "\n",
        "Это переменные, которые создаются на уровне экземпляра класса. Нет экземпляра - нет его переменных. Для создания динамического свойства необходимо обратиться к self внутри метода. Рассмотрим пример."
      ],
      "metadata": {
        "id": "ui5oHXoYno0w"
      }
    },
    {
      "cell_type": "code",
      "source": [
        "class Car_1:\n",
        "# Статические поля (переменные класса)\n",
        "    default_color = 'Grey'\n",
        "    default_model = 'BMW'\n",
        "    def __init__(self, color, model):\n",
        "# Динамические поля (переменные объекта)\n",
        "        self.color = color\n",
        "        self.model = model\n",
        "\n",
        "d = Car_1('Red', 'BMW')\n",
        "print(d.color)\n",
        "print(d.model)\n",
        "     "
      ],
      "metadata": {
        "colab": {
          "base_uri": "https://localhost:8080/"
        },
        "id": "GCd3fkvhnleN",
        "outputId": "c68d4531-6153-4229-9557-c1ac0c44a79e"
      },
      "execution_count": null,
      "outputs": [
        {
          "output_type": "stream",
          "name": "stdout",
          "text": [
            "Red\n",
            "BMW\n"
          ]
        }
      ]
    },
    {
      "cell_type": "markdown",
      "source": [
        "#1.4.4 Методы класса\n",
        "\n",
        "Функции внутри класса называются методами. Определяют три основных группы:\n",
        "\n",
        "методы экземпляра класса;\n",
        "\n",
        "статические методы;\n",
        "\n",
        "методы класса\n"
      ],
      "metadata": {
        "id": "HW97mL3KpF4h"
      }
    },
    {
      "cell_type": "markdown",
      "source": [
        "#1.4.4.1 Методы экземпляра класса\n",
        "\n",
        "Это группа методов, которые становятся доступны только после создания экземпляра класса, то есть чтобы вызвать такой метод, надо обратиться к экземпляру. Как следствие – первым параметром такого метода является слово self. С помощью данного параметра в метод передается ссылка на объект класса, для которого он был вызван."
      ],
      "metadata": {
        "id": "X_Pd2ZqgpSLR"
      }
    },
    {
      "cell_type": "code",
      "source": [
        "class Car_2:\n",
        "    def __init__(self, color, model):\n",
        "      self.color = color\n",
        "      self.model = model\n",
        "    # Методы экземпляра класса\n",
        "    # Первый параметр метода - self\n",
        "    def check_sim(self, country):\n",
        "        if self.model == 'BMW' and country == 'Germany':\n",
        "            print('Your car is good')\n",
        "        else:\n",
        "            print('Your car not as good, as it possible')\n",
        "\n",
        "a = Car_2('Red', 'BMW')\n",
        "a.check_sim('Germany')"
      ],
      "metadata": {
        "colab": {
          "base_uri": "https://localhost:8080/"
        },
        "id": "NkSSWnd3nvTB",
        "outputId": "94a893b2-0865-4852-dace-51141cce6d87"
      },
      "execution_count": null,
      "outputs": [
        {
          "output_type": "stream",
          "name": "stdout",
          "text": [
            "Your car is good\n"
          ]
        }
      ]
    },
    {
      "cell_type": "markdown",
      "source": [
        "#1.4.4.2 Статические методы\n",
        "\n",
        "Статические методы – это функции, которые помещены в класс и располагаются в области видимости этого класса. Особенность заключается в том, что данные методы можно вызывать посредством обращения к имени класса, создавать объект класса при этом не обязательно. В таких методах не используется self – этому методу не важна информация об объектах класса. Чтобы создать статический метод в Python, необходимо воспользоваться специальным декоратором - @staticmethod."
      ],
      "metadata": {
        "id": "uFxVhiv4paMR"
      }
    },
    {
      "cell_type": "code",
      "source": [
        "import hashlib\n",
        "class Car:\n",
        "    # Статический метод справочного характера\n",
        "    # Возвращает хэш по номеру модели\n",
        "    # self внутри метода отсутствует\n",
        "    @staticmethod\n",
        "    def model_hash(model):\n",
        "        if model == 'BMW':\n",
        "            return 'the machine series is not defined in'\n",
        "        elif model == 'BMW X6':\n",
        "            return hash(model)\n",
        "        else:\n",
        "            return 'The manufacturer is not defined'\n",
        " # Обычный метод\n",
        "    def check_model(self, model):\n",
        "        pass\n",
        "\n",
        "a = Car()\n",
        "print(a.check_model('X6'))\n",
        "print(a.model_hash('BMW X6'))"
      ],
      "metadata": {
        "colab": {
          "base_uri": "https://localhost:8080/"
        },
        "id": "N9fecCDrpXYv",
        "outputId": "3ae6d9f1-759a-4e02-ee6f-530b7fa46c83"
      },
      "execution_count": null,
      "outputs": [
        {
          "output_type": "stream",
          "name": "stdout",
          "text": [
            "None\n",
            "-133885717786704990\n"
          ]
        }
      ]
    },
    {
      "cell_type": "markdown",
      "source": [
        "#1.4.4.3 Методы класса\n",
        "\n",
        "Методы класса являются средним между обычными методами (привязаны к объекту) и статическими методами (привязаны только к области видимости). Такие методы могут менять состояние самого класса, что в свою очередь отражается на ВСЕХ экземплярах данного класса. При этом менять конкретный объект класса они не могут (этим занимаются методы экземпляра класса). Чтобы создать метод класса, необходимо воспользоваться соответствующим декоратором - @ assmethod. При этом в качестве первого параметра такого метода передается служебное слово cls, которое в отличие от self является ссылкой на сам класс (а не на объект)."
      ],
      "metadata": {
        "id": "OjR1WODdpf1f"
      }
    },
    {
      "cell_type": "code",
      "source": [
        "class Car:\n",
        "    def __init__(self, color, model):\n",
        "        self.color = color\n",
        "        self.model = model\n",
        "        self.price = price\n",
        "    # Метод класса\n",
        "    # Принимает 1) ссылку на класс Car и 2) цвет в качестве параметров\n",
        "    # Создает специфический объект класса Car(особенность объекта в том,\n",
        "    # что это модель от завода изготовителя)\n",
        "    # При этом вызывается инициализатор класса Car\n",
        "    # которому в качестве аргументов передается цвет и модель,\n",
        "    # соответствующую оригинальной машины\n",
        "    @classmethod\n",
        "    def origin_car(cls, color):\n",
        "        origin_car = cls(color, 'Origin Car from Germany', None)\n",
        "        return origin_car\n",
        "\n",
        "\n",
        "    # Статический метод\n",
        "    @staticmethod\n",
        "    def model_hash(model):\n",
        "        if model == 'BMW':\n",
        "            return 'the machine series is not defined in'\n",
        "        elif model == 'BMW X6':\n",
        "            return hash(model)\n",
        "        else:\n",
        "            return 'The manufacturer is not defined'\n",
        "\n",
        "\n",
        "    # Обычный метод\n",
        "        def check_model(self, model):\n",
        "            pass \n",
        "\n",
        "     "
      ],
      "metadata": {
        "id": "9xxNYiMipf9w"
      },
      "execution_count": null,
      "outputs": []
    },
    {
      "cell_type": "markdown",
      "source": [
        "#1.4.5 Метод init()\n",
        "\n",
        "Метод класса __init __() – специальный метод, который при создании экземпляра класса автоматически создает ему атрибуты (указывается два нижних подчеркивания слева и справа). Синтаксис:\n",
        "\n",
        "def __init __(self [, список передаваемых аргументов]):\n",
        "self.имя_аргумента=передаваемый аргумент(значение)\n",
        "\n",
        "При этом некоторые аргументы можно задать по умолчанию. Тогда в случае отсутствия значения аргумента его значение будет установлено по умолчанию. Использование ссылки на экземпляр класса позволяет на основе уже существующего экземпляра создать новый экземпляр класса простым присвоением. "
      ],
      "metadata": {
        "id": "k157ivuGpoc3"
      }
    },
    {
      "cell_type": "code",
      "source": [
        "class student:\n",
        "    def __init__(self, kurs, idl):\n",
        "        self.kurs = kurs\n",
        "        self.id =idl\n",
        "\n",
        "idl = input(' Введите идентификатор студента: ')\n",
        "kurs = input(' Введите курс студента : ')\n",
        "\n",
        "studentl = student ( kurs, idl ) # создание экземпляра\n",
        "print ('Курс :', studentl.kurs, studentl.id, sep = ' ')\n",
        "student2 = studentl\n",
        "idl = input(' В ведите идентификатор 2-го студента: ')\n",
        "student2.id =idl\n",
        "print('Курс: 1', studentl.kurs, studentl.id, sep = ' ')\n",
        "kurs=input( 'Введите новый курс студентов: ')\n",
        "studentl.kurs = kurs\n",
        "\n",
        "print('Новый курс : ', studentl.kurs , 'Идентификатор:',\n",
        "studentl.id, sep = ' ')\n",
        "print('Новый курс : ', student2.kurs, 'Идентификато2р:',\n",
        "student2.id, sep = ' ') "
      ],
      "metadata": {
        "colab": {
          "base_uri": "https://localhost:8080/"
        },
        "id": "PqBPAxtYpomp",
        "outputId": "14bac58b-df0f-4569-9025-6ea7da0e4c5c"
      },
      "execution_count": null,
      "outputs": [
        {
          "output_type": "stream",
          "name": "stdout",
          "text": [
            " Введите идентификатор студента: 1\n",
            " Введите курс студента : 1\n",
            "Курс : 1 1\n",
            " В ведите идентификатор 2-го студента: 2\n",
            "Курс: 1 1 2\n",
            "Введите новый курс студентов: 3\n",
            "Новый курс :  3 Идентификатор: 2\n",
            "Новый курс :  3 Идентификато2р: 2\n"
          ]
        }
      ]
    },
    {
      "cell_type": "markdown",
      "source": [
        "#Пример Класс Consumer\n",
        "\n",
        "Создать класс Потребитель (Customer). с атрибутом достатка, в котором хранится текущее материальное состояние (данные) потребителя, метод заработка, где метод заработка (y) увеличивает достаток потребителя на y, метод расходов, где трата (x) либо уменьшает достаток на x, либо возвращается значение ошибка, если недостаточно средств. Определим две функции earn и spend."
      ],
      "metadata": {
        "id": "UAl2NAPfpxxl"
      }
    },
    {
      "cell_type": "code",
      "source": [
        "def earn(w, y):\n",
        "    \"Потребитель с первоначальным достатком w зарабатывает y\"\n",
        "    return w+y\n",
        "def spend(w, x):\n",
        "    \" Потребитель с начальным достатком w тратит x \"\n",
        "    new_wealth = w - x\n",
        "    if new_wealth < 0:\n",
        "        print(\"Insufficient funds\")\n",
        "    else:\n",
        "        return new_wealth "
      ],
      "metadata": {
        "id": "q7Gs0Jf2px4Q"
      },
      "execution_count": null,
      "outputs": []
    },
    {
      "cell_type": "code",
      "source": [
        "w0=100\n",
        "w1=earn(w0,10)\n",
        "w2=spend(w1,20)\n",
        "w3=earn(w2,10)\n",
        "w4=spend(w3,20)\n",
        "print(\"w0,w1,w2,w3,w4 = \", w0,w1,w2,w3,w4) \n",
        "\n",
        "w5 = spend(w4, 90)"
      ],
      "metadata": {
        "colab": {
          "base_uri": "https://localhost:8080/"
        },
        "id": "ZAHIRAt0qDcA",
        "outputId": "af9a1582-f7c8-4bab-991c-13bedbc8b1be"
      },
      "execution_count": null,
      "outputs": [
        {
          "output_type": "stream",
          "name": "stdout",
          "text": [
            "w0,w1,w2,w3,w4 =  100 110 90 100 80\n",
            "Insufficient funds\n"
          ]
        }
      ]
    },
    {
      "cell_type": "markdown",
      "source": [
        "#Класс Consumer создается с целью помочь усвоить специфический\n",
        "\n",
        "синтаксис при создании классов на языке Python. Пример класса Consumer представлен ниже."
      ],
      "metadata": {
        "id": "Qy9kyNbKqF7w"
      }
    },
    {
      "cell_type": "code",
      "source": [
        "class Consumer:\n",
        "    def __init__(self, w):\n",
        "        \"Initialize consumer with w dollars of wealth\"\n",
        "        self.wealth = w\n",
        "    def earn(self, y):\n",
        "        \"The consumer earns y dollars\"\n",
        "        self.wealth += y\n",
        "    def spend(self, x):\n",
        "        \"The consumer spends x dollars if feasible\"\n",
        "        new_wealth = self.wealth - x\n",
        "        if new_wealth < 0:\n",
        "            print(\"Insufficent funds\")\n",
        "        else:\n",
        "            self.wealth = new_wealth "
      ],
      "metadata": {
        "id": "JX0s11_eqGCD"
      },
      "execution_count": null,
      "outputs": []
    },
    {
      "cell_type": "code",
      "source": [
        "c1 = Consumer(10) # Create instance with initial wealth\n",
        "10\n",
        "c1.spend(5)\n",
        "print(\"c1 = \", c1.wealth)\n",
        "c1.earn(15)\n",
        "print(\"c1 = \", c1.wealth)\n",
        "c1.spend(100)\n",
        "print(\"c1 = \", c1.wealth)\n",
        "c1 = Consumer(10)\n",
        "c2 = Consumer(12)\n",
        "c2.spend(4)\n",
        "print(\"c1 = \", c1.wealth)\n",
        "c2.wealth\n",
        "print(\"c2 = \", c2.wealth)\n",
        "\n",
        "print(c1.__dict__)\n",
        "print(c2.__dict__)"
      ],
      "metadata": {
        "colab": {
          "base_uri": "https://localhost:8080/"
        },
        "id": "qiwoz-HPqOyB",
        "outputId": "caa6cce5-8e30-4db5-dccf-0e3ee7faef7a"
      },
      "execution_count": null,
      "outputs": [
        {
          "output_type": "stream",
          "name": "stdout",
          "text": [
            "c1 =  5\n",
            "c1 =  20\n",
            "Insufficent funds\n",
            "c1 =  20\n",
            "c1 =  10\n",
            "c2 =  8\n",
            "{'wealth': 10}\n",
            "{'wealth': 8}\n"
          ]
        }
      ]
    },
    {
      "cell_type": "markdown",
      "source": [
        "#Правила использования self при создании класса:\n",
        "\n",
        "любые данные экземпляра должны начинаться с обращения к служебному\n",
        "слову self. Например, метод wealth использует self.wealth, а не просто wealth;\n",
        "\n",
        "метод, определенный в коде, определяющем класс, должен иметь self в\n",
        "качестве первого аргумента, например, defear(self,y), а не просто defear(y);\n",
        "\n",
        "любой метод, на который ссылается класс, должен вызываться как\n",
        "self.method_name.\n",
        "\n"
      ],
      "metadata": {
        "id": "9scMkjqbqOsA"
      }
    },
    {
      "cell_type": "code",
      "source": [
        "c1 = Consumer(10)\n",
        "c1.earn(10)\n",
        "c1.wealth\n",
        "\n",
        "c1.__dict__"
      ],
      "metadata": {
        "colab": {
          "base_uri": "https://localhost:8080/"
        },
        "id": "NvXhAsvXqWFb",
        "outputId": "f7075db0-e194-4755-a672-406c4948e2e1"
      },
      "execution_count": null,
      "outputs": [
        {
          "output_type": "execute_result",
          "data": {
            "text/plain": [
              "{'wealth': 20}"
            ]
          },
          "metadata": {},
          "execution_count": 19
        }
      ]
    },
    {
      "cell_type": "code",
      "source": [
        "c1.earn(10)\n",
        "Consumer.earn(c1, 10)"
      ],
      "metadata": {
        "id": "QrcuyIObqXSK"
      },
      "execution_count": null,
      "outputs": []
    },
    {
      "cell_type": "code",
      "source": [
        "def earn(self, y):\n",
        "    \"The consumer earns y dollars\"\n",
        "    self.wealth += y"
      ],
      "metadata": {
        "id": "p5ie7NwVqZKP"
      },
      "execution_count": null,
      "outputs": []
    },
    {
      "cell_type": "markdown",
      "source": [
        "#Пример Модель роста Солоу\n",
        "\n",
        "Модель роста Солоу [7], разработанная лауреатом Нобелевской премии экономистом Робертом Солоу, была первой неоклассической моделью роста и была построена на кейнсианской модели Харрода-Домара [8]. Модель Солоу является основой современной теории экономического роста. Определим простой класс для реализации модели роста Солоу. Модель роста Солоу – это неоклассическая модель роста, в которой основной капитал на душу населения k_t изменяется по правилу:\n",
        "\n",
        "k_{t+1} = [(s z k^α_t) + (1 - δ)k_t] /(1 + n) . (1.1)\n",
        "\n",
        "s – заданная норма сбережений,\n",
        "\n",
        "z – параметр производительности,\n",
        "\n",
        "\\alpha – доля капитала в доходе,\n",
        "\n",
        "n – темпы роста населения,\n",
        "\n",
        "\\delta – норма амортизации.\n",
        "\n",
        "Стационарное состояние модели – это k, которое имеет решения при условии:\n",
        "\n",
        "k_{t+1} = k_t = k."
      ],
      "metadata": {
        "id": "tXpoAY52qd-s"
      }
    },
    {
      "cell_type": "code",
      "source": [
        "class Solow:\n",
        "    #Реализует модель роста Солоу с правилом обновления\n",
        "\n",
        "    # k_{t+1} = [(s z k^α_t) + (1 - δ)k_t] /(1 + n)\n",
        "\n",
        "    def __init__(self, \n",
        "                 n=0.05, # темпы прироста населения\n",
        "                 s=0.25, # норма сбережений\n",
        "                 δ=0.1, # норма амортизации\n",
        "                 α=0.3, # доля рабочей силы\n",
        "                 z=2.0, # производительность\n",
        "                 k=1.0): # текущий основной капитал\n",
        "        self.n, self.s, self.δ, self.α, self.z = n, s, δ, α, z\n",
        "        self.k = k\n",
        "    def h(self):\n",
        "        print(\" Оценка функции h\")\n",
        "        # Распаковка параметров\n",
        "        #(избавляемся от self для упрощения обозначения)\n",
        "        n, s, δ, α, z = self.n, self.s, self.δ, self.α, self.z\n",
        "        # обновляем на выходе h\n",
        "        return (s * z * self.k**α + (1 - δ) * self.k) / (1 + n)\n",
        "    def update(self):\n",
        "        print(\"Обновляем состояние (основной капитал)\")\n",
        "        self.k = self.h()\n",
        "    def steady_state(self):\n",
        "        print(\" Вычисляем устойчивую стоимость капитала.\")\n",
        "        #(избавляемся от self для упрощения обозначения)\n",
        "        n, s, δ, α, z = self.n, self.s, self.δ, self.α, self.z\n",
        "        # Вычисление и возврат устойчивого состояния\n",
        "        return ((s * z) / (n + δ))**(1 / (1 - α))\n",
        "    def generate_sequence(self, t):\n",
        "        print(\"Генерация и возврат временного ряда\")\n",
        "        path = []\n",
        "        for i in range(t):\n",
        "            path.append(self.k)\n",
        "            self.update()\n",
        "        return path"
      ],
      "metadata": {
        "id": "Ulj4zFQFqZRP"
      },
      "execution_count": null,
      "outputs": []
    },
    {
      "cell_type": "code",
      "source": [
        "import matplotlib.pyplot as plt\n",
        "\n",
        "s1 = Solow()\n",
        "s2 = Solow(k=8.0)\n",
        "T = 60\n",
        "fig, ax = plt.subplots(figsize=(9, 6))\n",
        "\n",
        "# Построение графика общей установившейся стоимости капитала\n",
        "ax.plot([s1.steady_state()]*T, 'k-', label='устойчивое состояние')\n",
        "\n",
        "# Построение временных рядов для каждой экономики\n",
        "for s in s1, s2:\n",
        "    lb = f' основной ряд от первоначального состояния {s.k}'\n",
        "    ax.plot(s.generate_sequence(T), 'o-', lw=2, alpha=0.6, label=lb)\n",
        "ax.set_xlabel('', fontsize=14)\n",
        "ax.set_ylabel('', fontsize=14)\n",
        "ax.legend()\n",
        "plt.show()"
      ],
      "metadata": {
        "colab": {
          "base_uri": "https://localhost:8080/",
          "height": 1000
        },
        "id": "xgx5GhMdqlxL",
        "outputId": "bb99aa4f-fc37-4deb-b116-65f14e1c9105"
      },
      "execution_count": null,
      "outputs": [
        {
          "output_type": "stream",
          "name": "stdout",
          "text": [
            " Вычисляем устойчивую стоимость капитала.\n",
            "Генерация и возврат временного ряда\n",
            "Обновляем состояние (основной капитал)\n",
            " Оценка функции h\n",
            "Обновляем состояние (основной капитал)\n",
            " Оценка функции h\n",
            "Обновляем состояние (основной капитал)\n",
            " Оценка функции h\n",
            "Обновляем состояние (основной капитал)\n",
            " Оценка функции h\n",
            "Обновляем состояние (основной капитал)\n",
            " Оценка функции h\n",
            "Обновляем состояние (основной капитал)\n",
            " Оценка функции h\n",
            "Обновляем состояние (основной капитал)\n",
            " Оценка функции h\n",
            "Обновляем состояние (основной капитал)\n",
            " Оценка функции h\n",
            "Обновляем состояние (основной капитал)\n",
            " Оценка функции h\n",
            "Обновляем состояние (основной капитал)\n",
            " Оценка функции h\n",
            "Обновляем состояние (основной капитал)\n",
            " Оценка функции h\n",
            "Обновляем состояние (основной капитал)\n",
            " Оценка функции h\n",
            "Обновляем состояние (основной капитал)\n",
            " Оценка функции h\n",
            "Обновляем состояние (основной капитал)\n",
            " Оценка функции h\n",
            "Обновляем состояние (основной капитал)\n",
            " Оценка функции h\n",
            "Обновляем состояние (основной капитал)\n",
            " Оценка функции h\n",
            "Обновляем состояние (основной капитал)\n",
            " Оценка функции h\n",
            "Обновляем состояние (основной капитал)\n",
            " Оценка функции h\n",
            "Обновляем состояние (основной капитал)\n",
            " Оценка функции h\n",
            "Обновляем состояние (основной капитал)\n",
            " Оценка функции h\n",
            "Обновляем состояние (основной капитал)\n",
            " Оценка функции h\n",
            "Обновляем состояние (основной капитал)\n",
            " Оценка функции h\n",
            "Обновляем состояние (основной капитал)\n",
            " Оценка функции h\n",
            "Обновляем состояние (основной капитал)\n",
            " Оценка функции h\n",
            "Обновляем состояние (основной капитал)\n",
            " Оценка функции h\n",
            "Обновляем состояние (основной капитал)\n",
            " Оценка функции h\n",
            "Обновляем состояние (основной капитал)\n",
            " Оценка функции h\n",
            "Обновляем состояние (основной капитал)\n",
            " Оценка функции h\n",
            "Обновляем состояние (основной капитал)\n",
            " Оценка функции h\n",
            "Обновляем состояние (основной капитал)\n",
            " Оценка функции h\n",
            "Обновляем состояние (основной капитал)\n",
            " Оценка функции h\n",
            "Обновляем состояние (основной капитал)\n",
            " Оценка функции h\n",
            "Обновляем состояние (основной капитал)\n",
            " Оценка функции h\n",
            "Обновляем состояние (основной капитал)\n",
            " Оценка функции h\n",
            "Обновляем состояние (основной капитал)\n",
            " Оценка функции h\n",
            "Обновляем состояние (основной капитал)\n",
            " Оценка функции h\n",
            "Обновляем состояние (основной капитал)\n",
            " Оценка функции h\n",
            "Обновляем состояние (основной капитал)\n",
            " Оценка функции h\n",
            "Обновляем состояние (основной капитал)\n",
            " Оценка функции h\n",
            "Обновляем состояние (основной капитал)\n",
            " Оценка функции h\n",
            "Обновляем состояние (основной капитал)\n",
            " Оценка функции h\n",
            "Обновляем состояние (основной капитал)\n",
            " Оценка функции h\n",
            "Обновляем состояние (основной капитал)\n",
            " Оценка функции h\n",
            "Обновляем состояние (основной капитал)\n",
            " Оценка функции h\n",
            "Обновляем состояние (основной капитал)\n",
            " Оценка функции h\n",
            "Обновляем состояние (основной капитал)\n",
            " Оценка функции h\n",
            "Обновляем состояние (основной капитал)\n",
            " Оценка функции h\n",
            "Обновляем состояние (основной капитал)\n",
            " Оценка функции h\n",
            "Обновляем состояние (основной капитал)\n",
            " Оценка функции h\n",
            "Обновляем состояние (основной капитал)\n",
            " Оценка функции h\n",
            "Обновляем состояние (основной капитал)\n",
            " Оценка функции h\n",
            "Обновляем состояние (основной капитал)\n",
            " Оценка функции h\n",
            "Обновляем состояние (основной капитал)\n",
            " Оценка функции h\n",
            "Обновляем состояние (основной капитал)\n",
            " Оценка функции h\n",
            "Обновляем состояние (основной капитал)\n",
            " Оценка функции h\n",
            "Обновляем состояние (основной капитал)\n",
            " Оценка функции h\n",
            "Обновляем состояние (основной капитал)\n",
            " Оценка функции h\n",
            "Обновляем состояние (основной капитал)\n",
            " Оценка функции h\n",
            "Обновляем состояние (основной капитал)\n",
            " Оценка функции h\n",
            "Обновляем состояние (основной капитал)\n",
            " Оценка функции h\n",
            "Генерация и возврат временного ряда\n",
            "Обновляем состояние (основной капитал)\n",
            " Оценка функции h\n",
            "Обновляем состояние (основной капитал)\n",
            " Оценка функции h\n",
            "Обновляем состояние (основной капитал)\n",
            " Оценка функции h\n",
            "Обновляем состояние (основной капитал)\n",
            " Оценка функции h\n",
            "Обновляем состояние (основной капитал)\n",
            " Оценка функции h\n",
            "Обновляем состояние (основной капитал)\n",
            " Оценка функции h\n",
            "Обновляем состояние (основной капитал)\n",
            " Оценка функции h\n",
            "Обновляем состояние (основной капитал)\n",
            " Оценка функции h\n",
            "Обновляем состояние (основной капитал)\n",
            " Оценка функции h\n",
            "Обновляем состояние (основной капитал)\n",
            " Оценка функции h\n",
            "Обновляем состояние (основной капитал)\n",
            " Оценка функции h\n",
            "Обновляем состояние (основной капитал)\n",
            " Оценка функции h\n",
            "Обновляем состояние (основной капитал)\n",
            " Оценка функции h\n",
            "Обновляем состояние (основной капитал)\n",
            " Оценка функции h\n",
            "Обновляем состояние (основной капитал)\n",
            " Оценка функции h\n",
            "Обновляем состояние (основной капитал)\n",
            " Оценка функции h\n",
            "Обновляем состояние (основной капитал)\n",
            " Оценка функции h\n",
            "Обновляем состояние (основной капитал)\n",
            " Оценка функции h\n",
            "Обновляем состояние (основной капитал)\n",
            " Оценка функции h\n",
            "Обновляем состояние (основной капитал)\n",
            " Оценка функции h\n",
            "Обновляем состояние (основной капитал)\n",
            " Оценка функции h\n",
            "Обновляем состояние (основной капитал)\n",
            " Оценка функции h\n",
            "Обновляем состояние (основной капитал)\n",
            " Оценка функции h\n",
            "Обновляем состояние (основной капитал)\n",
            " Оценка функции h\n",
            "Обновляем состояние (основной капитал)\n",
            " Оценка функции h\n",
            "Обновляем состояние (основной капитал)\n",
            " Оценка функции h\n",
            "Обновляем состояние (основной капитал)\n",
            " Оценка функции h\n",
            "Обновляем состояние (основной капитал)\n",
            " Оценка функции h\n",
            "Обновляем состояние (основной капитал)\n",
            " Оценка функции h\n",
            "Обновляем состояние (основной капитал)\n",
            " Оценка функции h\n",
            "Обновляем состояние (основной капитал)\n",
            " Оценка функции h\n",
            "Обновляем состояние (основной капитал)\n",
            " Оценка функции h\n",
            "Обновляем состояние (основной капитал)\n",
            " Оценка функции h\n",
            "Обновляем состояние (основной капитал)\n",
            " Оценка функции h\n",
            "Обновляем состояние (основной капитал)\n",
            " Оценка функции h\n",
            "Обновляем состояние (основной капитал)\n",
            " Оценка функции h\n",
            "Обновляем состояние (основной капитал)\n",
            " Оценка функции h\n",
            "Обновляем состояние (основной капитал)\n",
            " Оценка функции h\n",
            "Обновляем состояние (основной капитал)\n",
            " Оценка функции h\n",
            "Обновляем состояние (основной капитал)\n",
            " Оценка функции h\n",
            "Обновляем состояние (основной капитал)\n",
            " Оценка функции h\n",
            "Обновляем состояние (основной капитал)\n",
            " Оценка функции h\n",
            "Обновляем состояние (основной капитал)\n",
            " Оценка функции h\n",
            "Обновляем состояние (основной капитал)\n",
            " Оценка функции h\n",
            "Обновляем состояние (основной капитал)\n",
            " Оценка функции h\n",
            "Обновляем состояние (основной капитал)\n",
            " Оценка функции h\n",
            "Обновляем состояние (основной капитал)\n",
            " Оценка функции h\n",
            "Обновляем состояние (основной капитал)\n",
            " Оценка функции h\n",
            "Обновляем состояние (основной капитал)\n",
            " Оценка функции h\n",
            "Обновляем состояние (основной капитал)\n",
            " Оценка функции h\n",
            "Обновляем состояние (основной капитал)\n",
            " Оценка функции h\n",
            "Обновляем состояние (основной капитал)\n",
            " Оценка функции h\n",
            "Обновляем состояние (основной капитал)\n",
            " Оценка функции h\n",
            "Обновляем состояние (основной капитал)\n",
            " Оценка функции h\n",
            "Обновляем состояние (основной капитал)\n",
            " Оценка функции h\n",
            "Обновляем состояние (основной капитал)\n",
            " Оценка функции h\n",
            "Обновляем состояние (основной капитал)\n",
            " Оценка функции h\n",
            "Обновляем состояние (основной капитал)\n",
            " Оценка функции h\n",
            "Обновляем состояние (основной капитал)\n",
            " Оценка функции h\n",
            "Обновляем состояние (основной капитал)\n",
            " Оценка функции h\n"
          ]
        },
        {
          "output_type": "display_data",
          "data": {
            "text/plain": [
              "<Figure size 648x432 with 1 Axes>"
            ],
            "image/png": "[encoded data removed]"
          },
          "metadata": {
            "needs_background": "light"
          }
        }
      ]
    },
    {
      "cell_type": "markdown",
      "source": [
        "#Пример Класс Market\n",
        "\n",
        "Определим класс для конкурентного рынка Market, на котором и покупатели, и продавцы являются участниками влияния формирования расценок на товары (состязательность спроса и предложения). Рынок состоит из следующих объектов:\n",
        "\n",
        "Линейная кривая спроса Q = a_d - b_d p.\n",
        "\n",
        "Линейная кривая предложения Q = a_z + b_z (p - t), где p – цена, уплачиваемая покупателем, Q – количество товара, t – налог на единицу товара.\n",
        "\n",
        "Другие символы являются параметрами спроса и предложения.\n",
        "\n",
        "Класс Market предоставляет методы для вычисления различных процентных значений, включая конкурентную равновесную цену и количество, собранные налоговые поступления, излишки потребителей и излишки производителей. Далее реализована часть программы, которая использует класс Market для расчета параметров в конкурентном рынке."
      ],
      "metadata": {
        "id": "pLnozOrzq9U7"
      }
    },
    {
      "cell_type": "code",
      "source": [
        "from scipy.integrate import quad\n",
        "class Market:\n",
        "    def __init__(self, ad, bd, az, bz, tax):\n",
        "        \"\"\"\n",
        "        Настройка параметров рынка. Все параметры\n",
        "        являются скалярами.\n",
        "        \"\"\"\n",
        "        self.ad, self.bd, self.az, self.bz, self.tax = ad, bd, az, bz, tax\n",
        "        if ad < az:\n",
        "            raise ValueError(' Недостаточный спрос.')\n",
        "    def price(self):\n",
        "        \" Расчет равновесной цены\"\n",
        "        return (self.ad - self.az + self.bz * self.tax)/ (self.bd + self.bz)\n",
        "    def quantity(self):\n",
        "        \" Расчет равновесного количества\"\n",
        "        return self.ad - self.bd * self.price()\n",
        "\n",
        "    def consumer_surp(self):\n",
        "        \" Расчет потребительского излишка \"\n",
        "        # == Расчет площадь при обнаружении функции потребления == #\n",
        "        integrand = lambda x: (self.ad / self.bd) - (1 / self.bd) * x\n",
        "        area, error = quad(integrand, 0, self.quantity())\n",
        "        return area - self.price() * self.quantity()\n",
        "    def producer_surp(self):\n",
        "        \" Расчет излишка у производителя \"\n",
        "        # == Расчет площади над обратной кривой предложения, исключая налог == #\n",
        "        integrand = lambda x: - (self.az / self.bz) + (1 / self.bz) * x\n",
        "        area, error = quad(integrand, 0, self.quantity())\n",
        "        return (self.price() - self.tax) * self.quantity() - area\n",
        "    def taxrev(self):\n",
        "        \" Расчет налоговых поступлений \"\n",
        "        return self.tax * self.quantity()\n",
        "    def inverse_demand(self, x):\n",
        "        \" Расчет обратного спроса \"\n",
        "        return self.ad / self.bd - (1 / self.bd)* x\n",
        "    def inverse_supply(self, x):\n",
        "        \" Расчет обратной кривой предложения \"\n",
        "        return - (self.az / self.bz) + (1 / self.bz) * x + self.tax\n",
        "    def inverse_supply_no_tax(self, x):\n",
        "        \"Расчет обратной кривой предложения без налога \"\n",
        "        return -(self.az / self.bz) + (1 / self.bz) * x "
      ],
      "metadata": {
        "id": "IqpYujnFrBaD"
      },
      "execution_count": null,
      "outputs": []
    },
    {
      "cell_type": "code",
      "source": [
        "baseline_params = 15, .5, -2, .5, 3\n",
        "m = Market(*baseline_params)\n",
        "print(\"равновесная цена = \", m.price())"
      ],
      "metadata": {
        "colab": {
          "base_uri": "https://localhost:8080/"
        },
        "id": "78ZJ85fKrFGJ",
        "outputId": "2a126252-e72c-48aa-e09a-c5d85ce970c0"
      },
      "execution_count": null,
      "outputs": [
        {
          "output_type": "stream",
          "name": "stdout",
          "text": [
            "равновесная цена =  18.5\n"
          ]
        }
      ]
    },
    {
      "cell_type": "code",
      "source": [
        "print(\"потребительский излишек = \", m.consumer_surp())"
      ],
      "metadata": {
        "colab": {
          "base_uri": "https://localhost:8080/"
        },
        "id": "NWb5EzKHrHTm",
        "outputId": "cff376b6-43e3-470b-90e5-2929a162dc05"
      },
      "execution_count": null,
      "outputs": [
        {
          "output_type": "stream",
          "name": "stdout",
          "text": [
            "потребительский излишек =  33.0625\n"
          ]
        }
      ]
    },
    {
      "cell_type": "code",
      "source": [
        "import numpy as np\n",
        "# Исходные значения ad, bd, az, bz, tax\n",
        "baseline_params = 15, .5, -2, .5, 3\n",
        "m = Market(*baseline_params)\n",
        "q_max = m.quantity() * 2\n",
        "q_grid = np.linspace(0.0, q_max, 100)\n",
        "pd = m.inverse_demand(q_grid)\n",
        "ps = m.inverse_supply(q_grid)\n",
        "psno = m.inverse_supply_no_tax(q_grid)\n",
        "fig, ax = plt.subplots()\n",
        "ax.plot(q_grid, pd, lw=2, alpha=0.6, label='спрос')\n",
        "ax.plot(q_grid, ps, lw=2, alpha=0.6, label='предложение')\n",
        "ax.plot(q_grid, psno, '--k', lw=2, alpha=0.6, label='предложение без налогов')\n",
        "ax.set_xlabel('количество', fontsize=14)\n",
        "ax.set_xlim(0, q_max)\n",
        "ax.set_ylabel('цена', fontsize=14)\n",
        "ax.legend(loc='lower right', frameon=False, fontsize=14)\n",
        "plt.show()"
      ],
      "metadata": {
        "colab": {
          "base_uri": "https://localhost:8080/",
          "height": 283
        },
        "id": "qRf2DxgvrLUe",
        "outputId": "213c3744-8daf-4830-a841-ab179f1384a6"
      },
      "execution_count": null,
      "outputs": [
        {
          "output_type": "display_data",
          "data": {
            "text/plain": [
              "<Figure size 432x288 with 1 Axes>"
            ],
            "image/png": "[encoded data removed]"
          },
          "metadata": {
            "needs_background": "light"
          }
        }
      ]
    },
    {
      "cell_type": "code",
      "source": [
        "def deadw(m):\n",
        "    \" Вычисление безвозвратные потери для рынка m.\"\n",
        "    # == Создание аналогичный рынок без налогов == #\n",
        "    m_no_tax = Market(m.ad, m.bd, m.az, m.bz, 0)\n",
        "    # == Сравнение излишков разницы в доходности == #\n",
        "    surp1 = m_no_tax.consumer_surp() + m_no_tax.producer_surp()\n",
        "    surp2 = m.consumer_surp() + m.producer_surp() + m.taxrev()\n",
        "    return surp1 - surp2 \n",
        "\n",
        "baseline_params = 15, .5, -2, .5, 3\n",
        "m = Market(*baseline_params)\n",
        "deadw(m) # Безвозвратные потери"
      ],
      "metadata": {
        "colab": {
          "base_uri": "https://localhost:8080/"
        },
        "id": "5VSHDPh7rOM0",
        "outputId": "e1b4cf75-35a8-435b-ccd1-a5bbbd9f6427"
      },
      "execution_count": null,
      "outputs": [
        {
          "output_type": "execute_result",
          "data": {
            "text/plain": [
              "1.125"
            ]
          },
          "metadata": {},
          "execution_count": 30
        }
      ]
    }
  ]
}