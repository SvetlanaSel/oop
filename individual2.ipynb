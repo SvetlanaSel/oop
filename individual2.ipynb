{
  "nbformat": 4,
  "nbformat_minor": 0,
  "metadata": {
    "colab": {
      "provenance": [],
      "authorship_tag": "ABX9TyNrGdiazDFeX5Ah5G6dPP3R",
      "include_colab_link": true
    },
    "kernelspec": {
      "name": "python3",
      "display_name": "Python 3"
    },
    "language_info": {
      "name": "python"
    }
  },
  "cells": [
    {
      "cell_type": "markdown",
      "metadata": {
        "id": "view-in-github",
        "colab_type": "text"
      },
      "source": [
        "<a href=\"https://colab.research.google.com/github/SvetlanaSel/oop/blob/main/individual2.ipynb\" target=\"_parent\"><img src=\"https://colab.research.google.com/assets/colab-badge.svg\" alt=\"Open In Colab\"/></a>"
      ]
    },
    {
      "cell_type": "code",
      "execution_count": 13,
      "metadata": {
        "id": "3dBIBzenT80x",
        "colab": {
          "base_uri": "https://localhost:8080/"
        },
        "outputId": "60e99106-af79-46a3-a67b-30622f80ed28"
      },
      "outputs": [
        {
          "output_type": "stream",
          "name": "stdout",
          "text": [
            "введите голос гуся, коровы, овец, кур,коз и утки через пробел гага му бе коко бле кря\n",
            "данные верные\n",
            "введите вес гусей через пробел 10 15\n",
            "введите кол-во еды и воды через пробел 5 7\n",
            "введите кол-во собранных яиц 3\n",
            "введите вес коровы 1200\n",
            "введите кол-во молока, что вы надоили 4\n",
            "введите вес овец через пробел 345 670\n",
            "введите кол-во состриженной шерсти 2\n",
            "введите вес куриц через пробел 15 9\n",
            "введите вес коз через пробел 500 349\n",
            "введите вес утки 8\n",
            "вес всех животных =  3121\n",
            "максимальный вес животного =  1200\n"
          ]
        }
      ],
      "source": [
        "class Animals:\n",
        "  def __init__(self,food, water, milk,eggs):\n",
        "    self.w = water\n",
        "    self.f = food\n",
        "    self.eggs = eggs\n",
        "    self.m = milk\n",
        "class Geese(Animals):\n",
        "  def __init__(self, weight_g1,name_g1, weight_g2,name_g2,moan1):\n",
        "    self.wg1 = weight_g1\n",
        "    self.ng1 = name_g1\n",
        "    self.wg2 = weight_g2\n",
        "    self.ng2 = name_g2\n",
        "    self.moan1 = moan1\n",
        "  def feed_geese(self):\n",
        "    if (self.f == 2) and (self.w == 1):\n",
        "      print('гуси довольны и сыты')\n",
        "    else:\n",
        "      print('гуси не наелись')\n",
        "  def get_aggs_g(self,eggs):\n",
        "    self.eg_g = eggs\n",
        "    if self.eg_g>=1:\n",
        "      print('яйца собрали')\n",
        "    else:\n",
        "      print('яйца не собрали')\n",
        "class Cow(Animals):\n",
        "  def __init__(self, weight_c,name_c,moan2):\n",
        "    self.wc = weight_c\n",
        "    self.nc = name_c\n",
        "    self.moan2 = moan2\n",
        "  def feed_cow(self):\n",
        "    if (10>=self.f>=5 ) and (15>=self.w>= 5):\n",
        "      print('корова довольна и сыта')\n",
        "    else:\n",
        "      print('корова не наелась')\n",
        "  def milk_cow(self):\n",
        "    if self.m>=1:\n",
        "      print('корову подоили')\n",
        "    else:\n",
        "      print('корову не доили')\n",
        "class Sheeps(Animals):\n",
        "  def __init__(self, weight_sh1,name_sh1, weight_sh2,name_sh2,moan3):\n",
        "    self.sh1 = weight_sh1\n",
        "    self.n1 = name_sh1\n",
        "    self.sh2 = weight_sh2\n",
        "    self.n2 = name_sh2\n",
        "    self.moan3 = moan3\n",
        "  def feed_sheep(self):\n",
        "    if (9>=self.f>=4 ) and (13>=self.w>= 4):\n",
        "      print('овцы довольны и сыты')\n",
        "    else:\n",
        "      print('овцы не наелись')\n",
        "  def shear_sheep(self,shear):\n",
        "    self.shear = shear\n",
        "    if (10>=self.shear>=3):\n",
        "      print('овец подстригли')\n",
        "    else:\n",
        "      print('овцы не подстрижены')\n",
        "class Chickens(Animals):\n",
        "  def __init__(self, weight_ch1,name_ch1,weight_ch2,name_ch2,moan4):\n",
        "    self.chw1 = weight_ch1\n",
        "    self.n1 = name_ch1\n",
        "    self.chw2 = weight_ch2\n",
        "    self.n2 = name_ch2\n",
        "    self.moan4 = moan4\n",
        "  def feed_chickens(self):\n",
        "    if (1>=self.f>=2 ) and (1>=self.w>=2 ):\n",
        "      print('курицы довольны и сыты')\n",
        "    else:\n",
        "      print('курицы не наелись')\n",
        "  def get_aggs_ch(self):\n",
        "    if self.eggs>=1:\n",
        "      print('яйца собрали')\n",
        "    else:\n",
        "      print('яйца не собрали')\n",
        "class Goats(Animals):\n",
        "  def __init__(self, weight_gt1,name_gt1,weight_gt2,name_gt2,moan5):\n",
        "    self.gt1 = weight_gt1\n",
        "    self.ngt1 = name_gt1\n",
        "    self.gt2 = weight_gt2\n",
        "    self.ngt2 = name_gt2\n",
        "    self.moan5 = moan5\n",
        "  def feed_goats(self):\n",
        "    if (9>=self.f>=4 ) and (13>=self.w>= 4):\n",
        "      print('козы довольны и сыты')\n",
        "    else:\n",
        "      print('козы не наелись')\n",
        "  def milk_goats(self):\n",
        "    if self.m>=1:\n",
        "      print('коз подоили')\n",
        "    else:\n",
        "      print('коз не доили')\n",
        "class Duck(Animals):\n",
        "  def __init__(self, weight_d,name_d,moan6):\n",
        "    self.d = weight_d\n",
        "    self.d = name_d\n",
        "    self.moan6 = moan6\n",
        "  def feed_duck(self):\n",
        "    if (1>=self.f>=2 ) and (1>=self.w >=2):\n",
        "      print('утка довольна и сыта')\n",
        "    else:\n",
        "      print('утка не наелась')\n",
        "  def get_aggs_duck(self):\n",
        "    if self.eggs>=1:\n",
        "      print('яйца собрали')\n",
        "    else:\n",
        "      print('яйца не собрали')\n",
        "#a = Animals\n",
        "name_g2 = 'Серый'\n",
        "name_g1 = 'Белый'\n",
        "moan1,moan2,moan3,moan4,moan5,moan6 = str(input('введите голос гуся, коровы, овец, кур,коз и утки через пробел ')).split()\n",
        "if moan1!=moan2!=moan3!=moan4!=moan5!=moan6:\n",
        "  print('данные верные')\n",
        "else:\n",
        "  print('проверьте данные')\n",
        "weight_g1, weight_g2  = map(int, input('введите вес гусей через пробел ').split())\n",
        "feed, water = map(int, input('введите кол-во еды и воды через пробел ').split())\n",
        "eggs = int(input('введите кол-во собранных яиц '))\n",
        "weight_c = int(input('введите вес коровы '))\n",
        "name_c = 'Зорька'\n",
        "milk = int(input('введите кол-во молока, что вы надоили '))\n",
        "weight_sh1, weight_sh2 = map(int, input('введите вес овец через пробел ').split())\n",
        "name_sh1 = 'Барашек'\n",
        "name_sh2 = 'Кудрявый'\n",
        "shear = int(input('введите кол-во состриженной шерсти '))\n",
        "weight_ch1, weight_ch2 = map(int, input('введите вес куриц через пробел ').split())\n",
        "name_ch1,name_ch2 = \"Ко-ко\",\"Кукареку\"\n",
        "weight_gt1,weight_gt2 = map(int, input('введите вес коз через пробел ').split())\n",
        "name_gt1,name_gt2 = \"Рога\", \"копыта\"\n",
        "weight_d = int(input('введите вес утки '))\n",
        "name_d = \"Кряква\"\n",
        "all_weight = [weight_g1, weight_g2,weight_c,weight_sh1, weight_sh2,weight_ch1, weight_ch2,weight_gt1,weight_gt2,weight_d]\n",
        "all_weight_count = sum(all_weight)\n",
        "print('вес всех животных = ', all_weight_count)\n",
        "max_weight = max(all_weight)\n",
        "print('максимальный вес животного = ',max_weight)"
      ]
    },
    {
      "cell_type": "code",
      "source": [
        "if __name__ == '__main__':\n",
        "  all_weight = [weight_g1, weight_g2,weight_c,weight_sh1, weight_sh2,weight_ch1, weight_ch2,weight_gt1,weight_gt2,weight_d]\n",
        "  all_weight_count = sum(all_weight)\n",
        "  print('вес всех животных = ', all_weight_count)\n",
        "  max_weight = max(all_weight)\n",
        "  print('максимальный вес животного = ',max_weight)"
      ],
      "metadata": {
        "id": "B46EkETmaDL1",
        "colab": {
          "base_uri": "https://localhost:8080/"
        },
        "outputId": "2727631d-8df3-451f-e14d-732ca0095d6c"
      },
      "execution_count": 14,
      "outputs": [
        {
          "output_type": "stream",
          "name": "stdout",
          "text": [
            "вес всех животных =  3121\n",
            "максимальный вес животного =  1200\n"
          ]
        }
      ]
    }
  ]
}