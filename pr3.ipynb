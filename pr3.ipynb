{
  "nbformat": 4,
  "nbformat_minor": 0,
  "metadata": {
    "colab": {
      "provenance": [],
      "authorship_tag": "ABX9TyPyjuxKACzLBNP3WJiRk/Ue",
      "include_colab_link": true
    },
    "kernelspec": {
      "name": "python3",
      "display_name": "Python 3"
    },
    "language_info": {
      "name": "python"
    }
  },
  "cells": [
    {
      "cell_type": "markdown",
      "metadata": {
        "id": "view-in-github",
        "colab_type": "text"
      },
      "source": [
        "<a href=\"https://colab.research.google.com/github/SvetlanaSel/oop/blob/main/pr3.ipynb\" target=\"_parent\"><img src=\"https://colab.research.google.com/assets/colab-badge.svg\" alt=\"Open In Colab\"/></a>"
      ]
    },
    {
      "cell_type": "markdown",
      "source": [
        "#Практическое задание 3"
      ],
      "metadata": {
        "id": "VCO3vEbyICE_"
      }
    },
    {
      "cell_type": "markdown",
      "source": [
        "#Вариант №16 \n",
        "Описать класс «комната», содержащий сведения о метраже, высоте \n",
        "потолков и количестве окон. Предусмотреть инициализацию с проверкой \n",
        "допустимости значений полей. В случае недопустимых значений полей \n",
        "выбрасываются исключения. Описать методы вычисления площади и объема \n",
        "комнаты и свойства для получения состояния объекта. \n",
        "Написать программу, демонстрирующую все разработанные элементы \n",
        "класса. \n"
      ],
      "metadata": {
        "id": "mOs1aWiDHtoy"
      }
    },
    {
      "cell_type": "code",
      "source": [
        "class Room:\n",
        "  def __init__(self,a,b,c,d,e,f,g,w):\n",
        "    self.a = a\n",
        "    self.b = b\n",
        "    self.c = c\n",
        "    self.d = d\n",
        "    self.e = e\n",
        "    self.f = f\n",
        "    self.g = g\n",
        "    self.w = w\n",
        "  def full_size(self):\n",
        "    sq_full = self.a*self.b\n",
        "    vol_full = self.a*self.b*self.c\n",
        "    if (sq_full<0) or (vol_full<0):\n",
        "      print('неверные данные')\n",
        "    else:\n",
        "      print(sq_full,vol_full)\n",
        "    return sq_full,vol_full\n",
        "  def size(self):\n",
        "    sq = (self.a*self.b) - (self.w*(self.d*self.e))-(self.f*self.g)\n",
        "    vol = sq*self.c\n",
        "    if (sq<0) or (vol<0):\n",
        "      print('неверные данные')\n",
        "    else:\n",
        "      print(sq,vol)\n",
        "    return sq,vol\n",
        "try:\n",
        "  a,b,c = map(int, input('введите длину, ширину, высоту комнаты через пробел: ').split())\n",
        "  d,e = map(int, input('введите длину, ширину, окна через пробел: ').split())\n",
        "  f,g = map(int, input('введите длину, ширину, двери через пробел: ').split())\n",
        "  w = int(input('введите кол-во окон в комнате: '))\n",
        "  r = Room(a,b,c,d,e,f,g,w)\n",
        "  print('размеры вашей комнаты: ', r.full_size())\n",
        "  print('размеры вашей комнаты(площадь и объем, пригодные для ремонта): ', r.size())\n",
        "  del r\n",
        "except ValueError as err:\n",
        "  print('проверьте данные!')"
      ],
      "metadata": {
        "colab": {
          "base_uri": "https://localhost:8080/"
        },
        "id": "rZ_HcIimICRh",
        "outputId": "06e3d886-7fc4-48ce-d668-8d893ae52146"
      },
      "execution_count": null,
      "outputs": [
        {
          "output_type": "stream",
          "name": "stdout",
          "text": [
            "введите длину, ширину, высоту комнаты через пробел: 5 5 3\n",
            "введите длину, ширину, окна через пробел: 1 2\n",
            "введите длину, ширину, двери через пробел: 2 1\n",
            "введите кол-во окон в комнате: 2\n",
            "25 75\n",
            "размеры вашей комнаты:  (25, 75)\n",
            "19 57\n",
            "размеры вашей комнаты(площадь и объем, пригодные для ремонта):  (19, 57)\n"
          ]
        }
      ]
    },
    {
      "cell_type": "code",
      "source": [
        "class Room:\n",
        "  __a = int(input('введите длину комнаты: '))\n",
        "  def __init__(self,b,c,d,e,f,g,w):\n",
        "    self.b = b\n",
        "    self.c = c\n",
        "    self.d = d\n",
        "    self.e = e\n",
        "    self.f = f\n",
        "    self.g = g\n",
        "    self.w = w\n",
        "  def full_size(self):\n",
        "    sq_full = self.__a*self.b\n",
        "    vol_full = self.__a*self.b*self.c\n",
        "    if (sq_full<0) or (vol_full<0):\n",
        "      print('неверные данные')\n",
        "    else:\n",
        "      print(sq_full,vol_full)\n",
        "    return sq_full,vol_full\n",
        "  def size(self):\n",
        "    sq = (self.__a*self.b) - (self.w*(self.d*self.e))-(self.f*self.g)\n",
        "    vol = sq*self.c\n",
        "    if (sq<0) or (vol<0):\n",
        "      print('неверные данные')\n",
        "    else:\n",
        "      print(sq,vol)\n",
        "    return sq,vol\n",
        "try:\n",
        "  b,c = map(int, input('введите ширину, высоту комнаты через пробел: ').split())\n",
        "  d,e = map(int, input('введите длину, ширину, окна через пробел: ').split())\n",
        "  f,g = map(int, input('введите длину, ширину, двери через пробел: ').split())\n",
        "  w = int(input('введите кол-во окон в комнате: '))\n",
        "  r = Room(b,c,d,e,f,g,w)\n",
        "  print('размеры вашей комнаты: ', r.full_size())\n",
        "  print('размеры вашей комнаты(площадь и объем, пригодные для ремонта): ', r.size())\n",
        "  del r\n",
        "except ValueError as err:\n",
        "  print('проверьте данные!')"
      ],
      "metadata": {
        "colab": {
          "base_uri": "https://localhost:8080/"
        },
        "id": "BnDeQ8d8XJEG",
        "outputId": "04464dba-a11c-4c96-da93-297f5b36d100"
      },
      "execution_count": null,
      "outputs": [
        {
          "output_type": "stream",
          "name": "stdout",
          "text": [
            "введите длину комнаты: 5\n",
            "введите ширину, высоту комнаты через пробел: 5 3\n",
            "введите длину, ширину, окна через пробел: 1 2\n",
            "введите длину, ширину, двери через пробел: 2 1\n",
            "введите кол-во окон в комнате: 2\n",
            "25 75\n",
            "размеры вашей комнаты:  (25, 75)\n",
            "19 57\n",
            "размеры вашей комнаты(площадь и объем, пригодные для ремонта):  (19, 57)\n"
          ]
        }
      ]
    }
  ]
}