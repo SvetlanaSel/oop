{
  "nbformat": 4,
  "nbformat_minor": 0,
  "metadata": {
    "colab": {
      "provenance": [],
      "authorship_tag": "ABX9TyNBm0Hq01MsBC+4GpQivEQd",
      "include_colab_link": true
    },
    "kernelspec": {
      "name": "python3",
      "display_name": "Python 3"
    },
    "language_info": {
      "name": "python"
    }
  },
  "cells": [
    {
      "cell_type": "markdown",
      "metadata": {
        "id": "view-in-github",
        "colab_type": "text"
      },
      "source": [
        "<a href=\"https://colab.research.google.com/github/SvetlanaSel/oop/blob/main/%D0%BF%D1%801.ipynb\" target=\"_parent\"><img src=\"https://colab.research.google.com/assets/colab-badge.svg\" alt=\"Open In Colab\"/></a>"
      ]
    },
    {
      "cell_type": "code",
      "source": [
        "class Programm():\n",
        "  def __init__(self):\n",
        "    p = A(2,3.2)\n",
        "    print(a.c1())\n",
        "    print(p.c2())\n",
        "    print(p.c3())\n",
        "\n",
        "if __name__ == '__main__':\n",
        "  counter = Programm\n",
        "\n",
        "class A:\n",
        "  a = float()\n",
        "  b = float()\n",
        "  def __init__(self, a, b):\n",
        "    self.a = a\n",
        "    self.b = b\n",
        "  def c1(self):\n",
        "    c = self.a - self.b\n",
        "    return c\n",
        "  def c2(self):\n",
        "    c = self.a + self.b\n",
        "    return c\n",
        "  def c3(self):\n",
        "    if self.a == self.b:\n",
        "      return 'равны'\n",
        "    else:\n",
        "      return 'неравны'\n",
        "\n",
        "a = A(2,3.2)\n",
        "print(a.c1())\n",
        "print(a.c2())\n",
        "print(a.c3())"
      ],
      "metadata": {
        "colab": {
          "base_uri": "https://localhost:8080/"
        },
        "id": "LN1EsGdrFeqe",
        "outputId": "c854f202-8a0a-48f6-a4fa-4aec2ab4e532"
      },
      "execution_count": 11,
      "outputs": [
        {
          "output_type": "stream",
          "name": "stdout",
          "text": [
            "-1.2000000000000002\n",
            "5.2\n",
            "неравны\n"
          ]
        }
      ]
    }
  ]
}