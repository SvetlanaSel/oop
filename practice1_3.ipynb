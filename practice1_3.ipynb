{
  "nbformat": 4,
  "nbformat_minor": 0,
  "metadata": {
    "colab": {
      "provenance": [],
      "authorship_tag": "ABX9TyPqZKc9qN0BFEMALUKky8jR",
      "include_colab_link": true
    },
    "kernelspec": {
      "name": "python3",
      "display_name": "Python 3"
    },
    "language_info": {
      "name": "python"
    }
  },
  "cells": [
    {
      "cell_type": "markdown",
      "metadata": {
        "id": "view-in-github",
        "colab_type": "text"
      },
      "source": [
        "<a href=\"https://colab.research.google.com/github/SvetlanaSel/oop/blob/main/practice1_3.ipynb\" target=\"_parent\"><img src=\"https://colab.research.google.com/assets/colab-badge.svg\" alt=\"Open In Colab\"/></a>"
      ]
    },
    {
      "cell_type": "markdown",
      "source": [
        "#1.3.1\n",
        "Создайте для класса «студент» функцию, которая считает средний \n",
        "балл по трем дисциплинам, оценки по которым вводятся пользователям. \n",
        "Реализуйте программу двумя способами: без использования \n",
        "конструктора__init__и с ним. "
      ],
      "metadata": {
        "id": "NTG4Ujaxx7pN"
      }
    },
    {
      "cell_type": "code",
      "execution_count": null,
      "metadata": {
        "colab": {
          "base_uri": "https://localhost:8080/"
        },
        "id": "4OSq3eycm-b5",
        "outputId": "b658da03-94e2-4499-8941-4a91ef77820c"
      },
      "outputs": [
        {
          "name": "stdout",
          "output_type": "stream",
          "text": [
            "4 5 5\n"
          ]
        },
        {
          "output_type": "execute_result",
          "data": {
            "text/plain": [
              "4.666666666666667"
            ]
          },
          "metadata": {},
          "execution_count": 41
        }
      ],
      "source": [
        "a, b, c = map(int,input().split())\n",
        "class Student:\n",
        "  def __init__(self, a,b,c):\n",
        "    self.d1 = a\n",
        "    self.d2 = b\n",
        "    self.d3 = c\n",
        "  def average(self):\n",
        "    result = (self.d1+self.d2+self.d3)/3\n",
        "    return result\n",
        "s = Student(a, b, c)\n",
        "s.average()"
      ]
    },
    {
      "cell_type": "code",
      "source": [
        "a, b, c = map(int,input().split())\n",
        "class Student:\n",
        "  d1 = 0\n",
        "  d2 = 0\n",
        "  d3 = 0\n",
        "  def average(self):\n",
        "    result = (self.d1+self.d2+self.d3)/3\n",
        "    return result\n",
        "s = Student()\n",
        "s.d1 = a\n",
        "s.d2 = b\n",
        "s.d3 = c\n",
        "s.average()"
      ],
      "metadata": {
        "colab": {
          "base_uri": "https://localhost:8080/"
        },
        "id": "JyWluI4urirJ",
        "outputId": "cbb43cd0-ff93-413e-cf24-56196ed9b5f9"
      },
      "execution_count": null,
      "outputs": [
        {
          "name": "stdout",
          "output_type": "stream",
          "text": [
            "4 5 5\n"
          ]
        },
        {
          "output_type": "execute_result",
          "data": {
            "text/plain": [
              "4.666666666666667"
            ]
          },
          "metadata": {},
          "execution_count": 2
        }
      ]
    },
    {
      "cell_type": "markdown",
      "source": [
        "#1.3.2\n",
        "Создайте функцию, которая считает и выводит в файл заработную \n",
        "плату сотрудника склада в зависимости от количества отработанных дней в \n",
        "месяце. Оклад является защищаемым атрибутом класса «сотрудник»."
      ],
      "metadata": {
        "id": "YxC_P89MNaAl"
      }
    },
    {
      "cell_type": "code",
      "source": [
        "class Employee:\n",
        "  __salary = float(input('salary = '))\n",
        "  d_m = int(input('general work for month = '))\n",
        "  d = int(input('real working days = '))\n",
        "  count = 0\n",
        "  def count_salary(self):\n",
        "    self.count = self.__salary / self.d_m * self.d\n",
        "    f = open('salary', 'w')\n",
        "    f.write('salary = ' + str(self.count) + '\\n')\n",
        "    f.close()\n",
        "    return self.count\n",
        "e = Employee()\n",
        "e.count_salary()"
      ],
      "metadata": {
        "colab": {
          "base_uri": "https://localhost:8080/"
        },
        "id": "VTe_4sd_NiAp",
        "outputId": "0818a1e4-f882-46b7-cc0e-9a7f0e5fe375"
      },
      "execution_count": null,
      "outputs": [
        {
          "name": "stdout",
          "output_type": "stream",
          "text": [
            "salary = 30000\n",
            "general work for month = 20\n",
            "real working days = 15\n"
          ]
        },
        {
          "output_type": "execute_result",
          "data": {
            "text/plain": [
              "22500.0"
            ]
          },
          "metadata": {},
          "execution_count": 18
        }
      ]
    },
    {
      "cell_type": "markdown",
      "source": [
        "#1.3.3\n",
        "Используя результат предыдущего задания, создайте функцию \n",
        "начисления премии сотруднику, вычисляемую как 1% от уровня заработной \n",
        "платы. "
      ],
      "metadata": {
        "id": "m9PDVz4hXF_q"
      }
    },
    {
      "cell_type": "code",
      "source": [
        "class Employee:\n",
        "  __salary = float(input('salary = '))\n",
        "  d_m = int(input('general work for month = '))\n",
        "  d = int(input('real working days = '))\n",
        "  count = 0\n",
        "  def count_salary(self):\n",
        "    self.count = self.__salary / self.d_m * self.d\n",
        "    f = open('salary', 'w')\n",
        "    f.write('salary = ' + str(self.count) + '\\n')\n",
        "    f.close()\n",
        "    return self.count\n",
        "  def add_payment(self):\n",
        "    o = self.count_salary()\n",
        "    self.added = self.count + (self.count * 0.01)\n",
        "    f = open('salary', 'a')\n",
        "    f.write('added salary = ' + str(self.added) + '\\n')\n",
        "    f.close()\n",
        "    return self.added\n",
        "e = Employee()\n",
        "e.add_payment()"
      ],
      "metadata": {
        "colab": {
          "base_uri": "https://localhost:8080/"
        },
        "id": "vma0qEztXJ9x",
        "outputId": "14dbaa25-0b62-459f-cc75-961287edb7bd"
      },
      "execution_count": null,
      "outputs": [
        {
          "name": "stdout",
          "output_type": "stream",
          "text": [
            "salary = 30000\n",
            "general work for month = 20\n",
            "real working days = 15\n"
          ]
        },
        {
          "output_type": "execute_result",
          "data": {
            "text/plain": [
              "22725.0"
            ]
          },
          "metadata": {},
          "execution_count": 19
        }
      ]
    }
  ]
}