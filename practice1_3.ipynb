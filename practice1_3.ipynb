{
  "nbformat": 4,
  "nbformat_minor": 0,
  "metadata": {
    "colab": {
      "provenance": [],
      "authorship_tag": "ABX9TyODYEhTtw6lcAgDHfVnSfY8",
      "include_colab_link": true
    },
    "kernelspec": {
      "name": "python3",
      "display_name": "Python 3"
    },
    "language_info": {
      "name": "python"
    }
  },
  "cells": [
    {
      "cell_type": "markdown",
      "metadata": {
        "id": "view-in-github",
        "colab_type": "text"
      },
      "source": [
        "<a href=\"https://colab.research.google.com/github/SvetlanaSel/oop/blob/main/practice1_3.ipynb\" target=\"_parent\"><img src=\"https://colab.research.google.com/assets/colab-badge.svg\" alt=\"Open In Colab\"/></a>"
      ]
    },
    {
      "cell_type": "markdown",
      "source": [
        "#1.3.1\n",
        "Создайте для класса «студент» функцию, которая считает средний \n",
        "балл по трем дисциплинам, оценки по которым вводятся пользователям. \n",
        "Реализуйте программу двумя способами: без использования \n",
        "конструктора__init__и с ним. "
      ],
      "metadata": {
        "id": "NTG4Ujaxx7pN"
      }
    },
    {
      "cell_type": "code",
      "execution_count": 39,
      "metadata": {
        "colab": {
          "base_uri": "https://localhost:8080/"
        },
        "id": "4OSq3eycm-b5",
        "outputId": "48b2da17-fef6-4f11-bdcb-5db768a65c9d"
      },
      "outputs": [
        {
          "name": "stdout",
          "output_type": "stream",
          "text": [
            "4 5 5\n"
          ]
        },
        {
          "output_type": "execute_result",
          "data": {
            "text/plain": [
              "4.666666666666667"
            ]
          },
          "metadata": {},
          "execution_count": 39
        }
      ],
      "source": [
        "a, b, c = map(int,input().split())\n",
        "class Student:\n",
        "  def __init__(self, a,b,c):\n",
        "    self.d1 = a\n",
        "    self.d2 = b\n",
        "    self.d3 = c\n",
        "  def average(self):\n",
        "    result = (self.d1+self.d2+self.d3)/3\n",
        "    return result\n",
        "s = Student(a, b, c)\n",
        "s.average()"
      ]
    },
    {
      "cell_type": "code",
      "source": [
        "a, b, c = map(int,input().split())\n",
        "class Student:\n",
        "  d1 = 0\n",
        "  d2 = 0\n",
        "  d3 = 0\n",
        "  def average(self):\n",
        "    result = (self.d1+self.d2+self.d3)/3\n",
        "    return result\n",
        "s = Student()\n",
        "s.d1 = a\n",
        "s.d2 = b\n",
        "s.d3 = c\n",
        "s.average()"
      ],
      "metadata": {
        "colab": {
          "base_uri": "https://localhost:8080/"
        },
        "id": "JyWluI4urirJ",
        "outputId": "5f0b89c5-1532-4a99-a5fc-fed0e7e9f7ee"
      },
      "execution_count": 35,
      "outputs": [
        {
          "name": "stdout",
          "output_type": "stream",
          "text": [
            "4 5 5\n"
          ]
        },
        {
          "output_type": "execute_result",
          "data": {
            "text/plain": [
              "4.666666666666667"
            ]
          },
          "metadata": {},
          "execution_count": 35
        }
      ]
    }
  ]
}