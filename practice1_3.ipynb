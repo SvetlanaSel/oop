{
  "nbformat": 4,
  "nbformat_minor": 0,
  "metadata": {
    "colab": {
      "provenance": [],
      "authorship_tag": "ABX9TyOt8DYo2ZPCbe9dDixwDafi",
      "include_colab_link": true
    },
    "kernelspec": {
      "name": "python3",
      "display_name": "Python 3"
    },
    "language_info": {
      "name": "python"
    }
  },
  "cells": [
    {
      "cell_type": "markdown",
      "metadata": {
        "id": "view-in-github",
        "colab_type": "text"
      },
      "source": [
        "<a href=\"https://colab.research.google.com/github/SvetlanaSel/oop/blob/main/practice1_3.ipynb\" target=\"_parent\"><img src=\"https://colab.research.google.com/assets/colab-badge.svg\" alt=\"Open In Colab\"/></a>"
      ]
    },
    {
      "cell_type": "markdown",
      "source": [
        "#1.3.1\n",
        "Создайте для класса «студент» функцию, которая считает средний \n",
        "балл по трем дисциплинам, оценки по которым вводятся пользователям. \n",
        "Реализуйте программу двумя способами: без использования \n",
        "конструктора __init__ и с ним. "
      ],
      "metadata": {
        "id": "NTG4Ujaxx7pN"
      }
    },
    {
      "cell_type": "code",
      "execution_count": 16,
      "metadata": {
        "id": "4OSq3eycm-b5"
      },
      "outputs": [],
      "source": [
        "class Student:\n",
        "  def __init__(self, a,b,c):\n",
        "    self.d1 = a\n",
        "    self.d2 = b\n",
        "    self.d3 = c\n",
        "  def average(self):\n",
        "    result = (self.d1+self.d2+self.d3)/3\n",
        "    if (a,b,c == int) and (sub1!=sub2!=sub3) and (1<=a<=5) and (1<=b<=5) and (1<=c<=5):\n",
        "      return result\n",
        "    else:\n",
        "      print('error')"
      ]
    },
    {
      "cell_type": "code",
      "source": [
        "stud = input('введите имя студента: ')\n",
        "sub1 = input('subject 1: ')\n",
        "a = int(input('введите оценку за десциплину: '))\n",
        "sub2 = input('subject 2: ')\n",
        "b = int(input('введите оценку за десциплину: '))\n",
        "sub3 = input('subject 3: ')\n",
        "c = int(input('введите оценку за десциплину: '))\n",
        "s = Student(a, b, c)\n",
        "s.average()"
      ],
      "metadata": {
        "colab": {
          "base_uri": "https://localhost:8080/"
        },
        "id": "Dpwja4cqMhqF",
        "outputId": "36242966-98bf-4fdf-eb63-05234e42c5dd"
      },
      "execution_count": 17,
      "outputs": [
        {
          "output_type": "stream",
          "name": "stdout",
          "text": [
            "введите имя студента: са\n",
            "subject 1: матем\n",
            "введите оценку за десциплину: 2\n",
            "subject 2: матем\n",
            "введите оценку за десциплину: 2\n",
            "subject 3: рус яз\n",
            "введите оценку за десциплину: 5\n",
            "error\n"
          ]
        }
      ]
    },
    {
      "cell_type": "code",
      "source": [
        "class Student:\n",
        "  d1 = 0\n",
        "  d2 = 0\n",
        "  d3 = 0\n",
        "  def average(self):\n",
        "    result = (self.d1+self.d2+self.d3)/3\n",
        "    if (a,b,c == int) and (sub1!=sub2!=sub3) and (1<=a<=5) and (1<=b<=5) and (1<=c<=5):\n",
        "      return result \n",
        "    else:\n",
        "      print('error')"
      ],
      "metadata": {
        "id": "JyWluI4urirJ"
      },
      "execution_count": 6,
      "outputs": []
    },
    {
      "cell_type": "code",
      "source": [
        "stud = input('введите имя студента: ')\n",
        "sub1 = input('subject 1: ')\n",
        "a = int(input('введите оценку за десциплину: '))\n",
        "sub2 = input('subject 2: ')\n",
        "b = int(input('введите оценку за десциплину: '))\n",
        "sub3 = input('subject 3: ')\n",
        "c = int(input('введите оценку за десциплину: '))\n",
        "s = Student()\n",
        "s.d1 = a\n",
        "s.d2 = b\n",
        "s.d3 = c\n",
        "s.average()"
      ],
      "metadata": {
        "colab": {
          "base_uri": "https://localhost:8080/"
        },
        "id": "2faKQ8YWNmgM",
        "outputId": "a6603793-7ea6-4e46-c9f9-81e8c2ad7cb0"
      },
      "execution_count": 9,
      "outputs": [
        {
          "output_type": "stream",
          "name": "stdout",
          "text": [
            "введите имя студента: маша\n",
            "subject 1: русский язык\n",
            "введите оценку за десциплину: 5\n",
            "subject 2: математика\n",
            "введите оценку за десциплину: 9\n",
            "subject 3: английский язык\n",
            "введите оценку за десциплину: 2\n",
            "error\n"
          ]
        }
      ]
    },
    {
      "cell_type": "markdown",
      "source": [
        "#1.3.2\n",
        "Создайте функцию, которая считает и выводит в файл заработную \n",
        "плату сотрудника склада в зависимости от количества отработанных дней в \n",
        "месяце. Оклад является защищаемым атрибутом класса «сотрудник»."
      ],
      "metadata": {
        "id": "YxC_P89MNaAl"
      }
    },
    {
      "cell_type": "code",
      "source": [
        "class Employee:\n",
        "  __salary = float(input('salary = '))\n",
        "  d_m = int(input('general work for month = '))\n",
        "  d = int(input('real working days = '))\n",
        "  count = 0\n",
        "  def count_salary(self):\n",
        "    self.count = self.__salary / self.d_m * self.d\n",
        "    f = open('salary', 'w')\n",
        "    f.write('salary = ' + str(self.count) + '\\n')\n",
        "    f.close()\n",
        "    return self.count\n",
        "e = Employee()\n",
        "e.count_salary()"
      ],
      "metadata": {
        "colab": {
          "base_uri": "https://localhost:8080/"
        },
        "id": "VTe_4sd_NiAp",
        "outputId": "0818a1e4-f882-46b7-cc0e-9a7f0e5fe375"
      },
      "execution_count": null,
      "outputs": [
        {
          "name": "stdout",
          "output_type": "stream",
          "text": [
            "salary = 30000\n",
            "general work for month = 20\n",
            "real working days = 15\n"
          ]
        },
        {
          "output_type": "execute_result",
          "data": {
            "text/plain": [
              "22500.0"
            ]
          },
          "metadata": {},
          "execution_count": 18
        }
      ]
    },
    {
      "cell_type": "markdown",
      "source": [
        "#1.3.3\n",
        "Используя результат предыдущего задания, создайте функцию \n",
        "начисления премии сотруднику, вычисляемую как 1% от уровня заработной \n",
        "платы. "
      ],
      "metadata": {
        "id": "m9PDVz4hXF_q"
      }
    },
    {
      "cell_type": "code",
      "source": [
        "class Employee:\n",
        "  __salary = float(input('salary = '))\n",
        "  d_m = int(input('general work for month = '))\n",
        "  d = int(input('real working days = '))\n",
        "  count = 0\n",
        "  def count_salary(self):\n",
        "    self.count = self.__salary / self.d_m * self.d\n",
        "    f = open('salary', 'w')\n",
        "    f.write('salary = ' + str(self.count) + '\\n')\n",
        "    f.close()\n",
        "    return self.count\n",
        "  def add_payment(self):\n",
        "    o = self.count_salary()\n",
        "    self.added = self.count + (self.count * 0.01)\n",
        "    f = open('salary', 'a')\n",
        "    f.write('added salary = ' + str(self.added) + '\\n')\n",
        "    f.close()\n",
        "    return self.added\n",
        "e = Employee()\n",
        "e.add_payment()"
      ],
      "metadata": {
        "colab": {
          "base_uri": "https://localhost:8080/"
        },
        "id": "vma0qEztXJ9x",
        "outputId": "14dbaa25-0b62-459f-cc75-961287edb7bd"
      },
      "execution_count": null,
      "outputs": [
        {
          "name": "stdout",
          "output_type": "stream",
          "text": [
            "salary = 30000\n",
            "general work for month = 20\n",
            "real working days = 15\n"
          ]
        },
        {
          "output_type": "execute_result",
          "data": {
            "text/plain": [
              "22725.0"
            ]
          },
          "metadata": {},
          "execution_count": 19
        }
      ]
    },
    {
      "cell_type": "markdown",
      "source": [
        "#1.3.5 \n",
        "Используя технологию перегрузки операторов, измените \n",
        "__truediv__(деление) так, чтобы числителем был знаменатель и наоборот. \n",
        "Аналогичные процедуры осуществите для операторов \n",
        "__floordiv__(целочисленное деление), __mod__(остаток от деления). Числа \n",
        "вводят пользователи. Предусмотрите отработку исключений. \n"
      ],
      "metadata": {
        "id": "WtkvSRiBZurq"
      }
    },
    {
      "cell_type": "code",
      "source": [
        "class Counter():\n",
        "  def __init__(self, a):\n",
        "    self.a = a\n",
        "  def __truediv__(self, b):\n",
        "    c1 = b/self.a\n",
        "    return c1\n",
        "  def __floordiv__(self,x):\n",
        "    c2 = x//self.a\n",
        "    return c2\n",
        "  def __mod__(self,y):\n",
        "    c3 = y % self.a\n",
        "    return c3\n",
        "try:\n",
        "  c = Counter(int(input('введите первое число: ')))\n",
        "  g = int(input(\"введите второе число : \"))\n",
        "  h = int(input('введите третье число: '))\n",
        "  f = int(input('введите четвертое число: '))\n",
        "  print(c / g)\n",
        "  print(c // h)\n",
        "  print(c % f)\n",
        "except ValueError as err:\n",
        "  print('проверьте данные')"
      ],
      "metadata": {
        "colab": {
          "base_uri": "https://localhost:8080/"
        },
        "id": "IYSWN-1HZuzL",
        "outputId": "0062dfe8-cc72-4fb8-82fa-ac7deb77bdd8"
      },
      "execution_count": 3,
      "outputs": [
        {
          "output_type": "stream",
          "name": "stdout",
          "text": [
            "введите первое число: 4\n",
            "введите второе число : 2\n",
            "введите третье число: 1\n",
            "введите четвертое число: п\n",
            "проверьте данные\n"
          ]
        }
      ]
    }
  ]
}