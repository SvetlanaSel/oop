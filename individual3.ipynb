{
  "nbformat": 4,
  "nbformat_minor": 0,
  "metadata": {
    "colab": {
      "provenance": [],
      "authorship_tag": "ABX9TyPzs4CUdiP5LAayFC1V0U4j",
      "include_colab_link": true
    },
    "kernelspec": {
      "name": "python3",
      "display_name": "Python 3"
    },
    "language_info": {
      "name": "python"
    }
  },
  "cells": [
    {
      "cell_type": "markdown",
      "metadata": {
        "id": "view-in-github",
        "colab_type": "text"
      },
      "source": [
        "<a href=\"https://colab.research.google.com/github/SvetlanaSel/oop/blob/main/individual3.ipynb\" target=\"_parent\"><img src=\"https://colab.research.google.com/assets/colab-badge.svg\" alt=\"Open In Colab\"/></a>"
      ]
    },
    {
      "cell_type": "markdown",
      "source": [
        "#Задание №1"
      ],
      "metadata": {
        "id": "SWZGu3vDklyi"
      }
    },
    {
      "cell_type": "code",
      "execution_count": null,
      "metadata": {
        "colab": {
          "base_uri": "https://localhost:8080/"
        },
        "id": "Sr--xpxqdC4r",
        "outputId": "d10133d1-955a-40be-976b-5e693eea17b0"
      },
      "outputs": [
        {
          "output_type": "stream",
          "name": "stdout",
          "text": [
            "введите название товара: плитка шоколада\n",
            "введите цену за 1 единицу данного товара: 100\n",
            "введите вес 1 единицы данного товара: 90\n",
            "введите количество купленного товара: 5\n",
            "Вы купили:  плитка шоколада\n",
            "цена товара =  500\n",
            "вес товара =  450\n"
          ]
        }
      ],
      "source": [
        "class Product:\n",
        "  def __init__(self,name,price,weight):\n",
        "    self.n = name\n",
        "    self.p = price\n",
        "    self.w = weight\n",
        "class Buy(Product):\n",
        "  def __init__(self, name, price, weight,counts):\n",
        "    super().__init__(name,price,weight)\n",
        "    self.c = counts\n",
        "  def product_count_p(self):\n",
        "    all_p = self.c*self.p\n",
        "    return all_p\n",
        "    print('цена купленного товара = ', all_p)\n",
        "  def product_count_w(self):\n",
        "    all_w = self.c*self.w\n",
        "    return all_w\n",
        "    print('вес купленного товара = ', all_w)\n",
        "class Check(Buy):\n",
        "  def __init__(self,name):\n",
        "    super().__init__(name,price,weight,counts)\n",
        "  def info(self):\n",
        "    all_p = super().product_count_p()\n",
        "    all_w = super().product_count_w()\n",
        "    print('Вы купили: ',name)\n",
        "    print('цена товара = ', all_p)\n",
        "    print('вес товара = ', all_w)\n",
        "name = str(input('введите название товара: '))\n",
        "price = int(input('введите цену за 1 единицу данного товара: '))\n",
        "weight = int(input('введите вес 1 единицы данного товара: '))\n",
        "counts = int(input('введите количество купленного товара: '))\n",
        "c = Check(name)\n",
        "c.info()\n",
        "del c"
      ]
    },
    {
      "cell_type": "code",
      "source": [
        "if __name__ == '__main__':\n",
        "  c = Check(name)\n",
        "  c.info()\n",
        "  del c"
      ],
      "metadata": {
        "colab": {
          "base_uri": "https://localhost:8080/"
        },
        "id": "UFTVYfCffmmx",
        "outputId": "2a2dc547-2842-4f1f-bc31-8e5dbb2abba7"
      },
      "execution_count": null,
      "outputs": [
        {
          "output_type": "stream",
          "name": "stdout",
          "text": [
            "Вы купили:  плитка шоколада\n",
            "цена товара =  500\n",
            "вес товара =  450\n"
          ]
        }
      ]
    },
    {
      "cell_type": "markdown",
      "source": [
        "#Задание №2"
      ],
      "metadata": {
        "id": "i1piAZvClHOY"
      }
    },
    {
      "cell_type": "code",
      "source": [
        "import math"
      ],
      "metadata": {
        "id": "ugHvy5APlemA"
      },
      "execution_count": null,
      "outputs": []
    },
    {
      "cell_type": "code",
      "source": [
        "from os import remove\n",
        "class Calculate:\n",
        "  def __init__(self,x,a):\n",
        "    self.x = x\n",
        "    self.a = a\n",
        "  def calculating(self):\n",
        "    c1 = self.x + self.a\n",
        "    c2 = self.x - self.a\n",
        "    c3 = self.x*self.a\n",
        "    c4 = self.x//self.a\n",
        "    c5 = math.sqrt(self.x)\n",
        "    return c1, c2, c3, c4, c5\n",
        "    print('сумма чисел = ',c1)\n",
        "    print('разность чисел = ',c2)\n",
        "    print('произведение чисел = ',c3)\n",
        "    print('частное чисел = ',c4)\n",
        "    print('корень из числа х = ',c5)\n",
        "  def calcl_trigonometry(self):\n",
        "    x_rad = self.x * math.pi/180\n",
        "    s = math.sin(x_rad)\n",
        "    return s\n",
        "    print('синус числа х = ',s)\n",
        "class Info(Calculate):\n",
        "  def __init__(self,x,a,r):\n",
        "    super().__init__(x,a)\n",
        "    self.r = r\n",
        "  def get_inf(self):\n",
        "    if self.r == 1:\n",
        "      print(super().calculating(), super(). calcl_trigonometry())\n",
        "    if self.r == 2:\n",
        "      def __del__(self):\n",
        "        print('удалены из памяти',super().calculating(), super(). calcl_trigonometry())\n",
        "    if self.r == 3:\n",
        "      print(super().calculating(), super(). calcl_trigonometry(), self.x)\n",
        "x = int(input('введите значение х: '))\n",
        "a = int(input('введите значение а: '))\n",
        "r = int(input('введите 1, если хотите добавить данные в память; 2, если хотите удалить данные из памяти; 3, если хотите добавить данные и значение х в память: '))\n",
        "inf = Info(x,a,r)\n",
        "inf.get_inf()"
      ],
      "metadata": {
        "colab": {
          "base_uri": "https://localhost:8080/"
        },
        "id": "8aN8ysbdlKOY",
        "outputId": "22aad140-e758-46c1-c4e4-1ef8cbcabd31"
      },
      "execution_count": null,
      "outputs": [
        {
          "output_type": "stream",
          "name": "stdout",
          "text": [
            "введите значение х: 5\n",
            "введите значение а: 3\n",
            "введите 1, если хотите добавить данные в память; 2, если хотите удалить данные из памяти; 3, если хотите добавить данные и значение х в память: 3\n",
            "(8, 2, 15, 1, 2.23606797749979) 0.08715574274765817 5\n"
          ]
        }
      ]
    },
    {
      "cell_type": "code",
      "source": [
        "if __name__=='__main__':\n",
        "  inf = Info(x,a,r)\n",
        "  inf.get_inf()\n",
        "  del inf"
      ],
      "metadata": {
        "colab": {
          "base_uri": "https://localhost:8080/"
        },
        "id": "_bnokNBWq9ot",
        "outputId": "4997a1c8-e520-474f-f188-ee07f0ace4a4"
      },
      "execution_count": null,
      "outputs": [
        {
          "output_type": "stream",
          "name": "stdout",
          "text": [
            "(8, 2, 15, 1, 2.23606797749979) 0.08715574274765817 5\n"
          ]
        }
      ]
    }
  ]
}