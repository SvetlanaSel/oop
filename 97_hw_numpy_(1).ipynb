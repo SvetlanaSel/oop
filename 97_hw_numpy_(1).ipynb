{
  "cells": [
    {
      "cell_type": "markdown",
      "metadata": {
        "id": "view-in-github",
        "colab_type": "text"
      },
      "source": [
        "<a href=\"https://colab.research.google.com/github/SvetlanaSel/oop/blob/main/97_hw_numpy_(1).ipynb\" target=\"_parent\"><img src=\"https://colab.research.google.com/assets/colab-badge.svg\" alt=\"Open In Colab\"/></a>"
      ]
    },
    {
      "cell_type": "markdown",
      "metadata": {
        "id": "87Ymy0NslKy7"
      },
      "source": [
        "# Worshop 2.1 Numpy\n",
        "\n",
        "1. Скачайте этот ноутбук к себе.\n",
        "2. Заполните пропущенные ячейки, отвечая на заданные вопросы. Там должен быть код! (если не сказано обратное)\n",
        "3. Сохраните результат в своём гитхаб репозитории.\n",
        "\n",
        "#### Полезная литература\n",
        "\n",
        "- http://www.numpy.org/\n",
        "- https://jakevdp.github.io/PythonDataScienceHandbook/02.00-introduction-to-numpy.html\n",
        "- https://docs.scipy.org/doc/numpy/user/quickstart.html"
      ]
    },
    {
      "cell_type": "markdown",
      "metadata": {
        "id": "dQTMqIgKlKy-"
      },
      "source": [
        "1) Импортировать numpy и написать версию"
      ]
    },
    {
      "cell_type": "code",
      "execution_count": null,
      "metadata": {
        "colab": {
          "base_uri": "https://localhost:8080/"
        },
        "id": "M0QQAMhTlKy_",
        "outputId": "1af52da1-f8a3-4774-9a75-2ac3e952e4c3"
      },
      "outputs": [
        {
          "output_type": "stream",
          "name": "stdout",
          "text": [
            "1.23.5\n",
            "openblas64__info:\n",
            "    libraries = ['openblas64_', 'openblas64_']\n",
            "    library_dirs = ['/usr/local/lib']\n",
            "    language = c\n",
            "    define_macros = [('HAVE_CBLAS', None), ('BLAS_SYMBOL_SUFFIX', '64_'), ('HAVE_BLAS_ILP64', None)]\n",
            "    runtime_library_dirs = ['/usr/local/lib']\n",
            "blas_ilp64_opt_info:\n",
            "    libraries = ['openblas64_', 'openblas64_']\n",
            "    library_dirs = ['/usr/local/lib']\n",
            "    language = c\n",
            "    define_macros = [('HAVE_CBLAS', None), ('BLAS_SYMBOL_SUFFIX', '64_'), ('HAVE_BLAS_ILP64', None)]\n",
            "    runtime_library_dirs = ['/usr/local/lib']\n",
            "openblas64__lapack_info:\n",
            "    libraries = ['openblas64_', 'openblas64_']\n",
            "    library_dirs = ['/usr/local/lib']\n",
            "    language = c\n",
            "    define_macros = [('HAVE_CBLAS', None), ('BLAS_SYMBOL_SUFFIX', '64_'), ('HAVE_BLAS_ILP64', None), ('HAVE_LAPACKE', None)]\n",
            "    runtime_library_dirs = ['/usr/local/lib']\n",
            "lapack_ilp64_opt_info:\n",
            "    libraries = ['openblas64_', 'openblas64_']\n",
            "    library_dirs = ['/usr/local/lib']\n",
            "    language = c\n",
            "    define_macros = [('HAVE_CBLAS', None), ('BLAS_SYMBOL_SUFFIX', '64_'), ('HAVE_BLAS_ILP64', None), ('HAVE_LAPACKE', None)]\n",
            "    runtime_library_dirs = ['/usr/local/lib']\n",
            "Supported SIMD extensions in this NumPy install:\n",
            "    baseline = SSE,SSE2,SSE3\n",
            "    found = SSSE3,SSE41,POPCNT,SSE42,AVX,F16C,FMA3,AVX2\n",
            "    not found = AVX512F,AVX512CD,AVX512_KNL,AVX512_KNM,AVX512_SKX,AVX512_CLX,AVX512_CNL,AVX512_ICL\n"
          ]
        }
      ],
      "source": [
        "import numpy as np\n",
        "print(np.__version__)\n",
        "np.show_config()"
      ]
    },
    {
      "cell_type": "markdown",
      "metadata": {
        "id": "_JHRX-XhlKzA"
      },
      "source": [
        "2) Создать нулевой вектор размера 10"
      ]
    },
    {
      "cell_type": "code",
      "execution_count": null,
      "metadata": {
        "colab": {
          "base_uri": "https://localhost:8080/"
        },
        "id": "PDOEwcN8lKzB",
        "outputId": "cea4c125-b123-4532-b371-b2232dc8bc76"
      },
      "outputs": [
        {
          "output_type": "stream",
          "name": "stdout",
          "text": [
            "[0. 0. 0. 0. 0. 0. 0. 0. 0. 0.]\n"
          ]
        }
      ],
      "source": [
        "v1 = np.zeros(10)\n",
        "print(v1)"
      ]
    },
    {
      "cell_type": "markdown",
      "metadata": {
        "id": "uTEArCp4lKzC"
      },
      "source": [
        "3) Создать вектор заполненный 7-ами размера 7"
      ]
    },
    {
      "cell_type": "code",
      "execution_count": null,
      "metadata": {
        "colab": {
          "base_uri": "https://localhost:8080/"
        },
        "id": "ohVMIx5mlKzD",
        "outputId": "397c634a-cb76-47e6-9c92-db070d9a8088"
      },
      "outputs": [
        {
          "output_type": "stream",
          "name": "stdout",
          "text": [
            "[7 7 7 7 7 7 7]\n"
          ]
        }
      ],
      "source": [
        "v2 = np.full(7, 7)\n",
        "print(v2)"
      ]
    },
    {
      "cell_type": "markdown",
      "metadata": {
        "id": "-J-uJRHllKzD"
      },
      "source": [
        "4) Создать вектор заполненный четными числами от 10 до 100"
      ]
    },
    {
      "cell_type": "code",
      "execution_count": null,
      "metadata": {
        "colab": {
          "base_uri": "https://localhost:8080/"
        },
        "id": "wrS6LY2HlKzD",
        "outputId": "e6ccff82-8c12-480d-9d03-88047e0da864"
      },
      "outputs": [
        {
          "output_type": "stream",
          "name": "stdout",
          "text": [
            "[ 10  12  14  16  18  20  22  24  26  28  30  32  34  36  38  40  42  44\n",
            "  46  48  50  52  54  56  58  60  62  64  66  68  70  72  74  76  78  80\n",
            "  82  84  86  88  90  92  94  96  98 100]\n"
          ]
        }
      ],
      "source": [
        "v3 = np.arange(10, 101, 2)\n",
        "print(v3)"
      ]
    },
    {
      "cell_type": "markdown",
      "metadata": {
        "id": "FJp-S3UolKzE"
      },
      "source": [
        "5) Создать массив случайных чисел и развернуть его задом наперёд"
      ]
    },
    {
      "cell_type": "code",
      "execution_count": null,
      "metadata": {
        "colab": {
          "base_uri": "https://localhost:8080/"
        },
        "id": "I3rqUfDilKzE",
        "outputId": "cbc4ad70-878f-490d-95d2-11b7baa29dd6"
      },
      "outputs": [
        {
          "output_type": "stream",
          "name": "stdout",
          "text": [
            "массив а: [74 14 83 89 38]\n",
            "перевернутый массив а: [38 89 83 14 74]\n"
          ]
        }
      ],
      "source": [
        "v4 = np.random.randint(0, 100, 5)\n",
        "print('массив а:',v4)\n",
        "v4_alt = np.flip(v4)\n",
        "print('перевернутый массив а:',v4_alt)"
      ]
    },
    {
      "cell_type": "markdown",
      "metadata": {
        "id": "UdkM-23klKzE"
      },
      "source": [
        "6) Создать двумерную матрицу размера 3 на 3, заполненную числами от 0 до 9"
      ]
    },
    {
      "cell_type": "code",
      "execution_count": null,
      "metadata": {
        "colab": {
          "base_uri": "https://localhost:8080/"
        },
        "id": "T1emBoRHlKzE",
        "outputId": "8da9ef2a-0b6d-48d2-a0a4-ce4c9513c92c"
      },
      "outputs": [
        {
          "output_type": "stream",
          "name": "stdout",
          "text": [
            "[[0 1 2]\n",
            " [3 4 5]\n",
            " [6 7 8]]\n"
          ]
        }
      ],
      "source": [
        "v5 = np.arange(9).reshape(3,3)\n",
        "print(v5)"
      ]
    },
    {
      "cell_type": "code",
      "source": [
        "v55 = np.arange(1,10).reshape(3,3)\n",
        "print(v55)"
      ],
      "metadata": {
        "colab": {
          "base_uri": "https://localhost:8080/"
        },
        "id": "YzidUVmMAidn",
        "outputId": "4eb22eed-e19d-49d6-b626-877ebb3f19fe"
      },
      "execution_count": null,
      "outputs": [
        {
          "output_type": "stream",
          "name": "stdout",
          "text": [
            "[[1 2 3]\n",
            " [4 5 6]\n",
            " [7 8 9]]\n"
          ]
        }
      ]
    },
    {
      "cell_type": "markdown",
      "metadata": {
        "id": "5Ws_pl7BlKzF"
      },
      "source": [
        "7) Создать матрицу размера 4 на 4 с единицами на диагонали смещеной на один наверх."
      ]
    },
    {
      "cell_type": "code",
      "source": [
        "v6 = np.zeros((4, 4))\n",
        "np.fill_diagonal(v6[1:], 1)\n",
        "print(v6)"
      ],
      "metadata": {
        "colab": {
          "base_uri": "https://localhost:8080/"
        },
        "id": "p8t_wvDHDTPm",
        "outputId": "fe24cd16-bf58-4e50-acc2-a6669eda2251"
      },
      "execution_count": null,
      "outputs": [
        {
          "output_type": "stream",
          "name": "stdout",
          "text": [
            "[[0. 0. 0. 0.]\n",
            " [1. 0. 0. 0.]\n",
            " [0. 1. 0. 0.]\n",
            " [0. 0. 1. 0.]]\n"
          ]
        }
      ]
    },
    {
      "cell_type": "markdown",
      "metadata": {
        "id": "qutgMea_lKzF"
      },
      "source": [
        "8) Создать матрицу с числами в диапазоне от 1 до 4 по диагонали. В других ячейках матрицы должны быть семерки."
      ]
    },
    {
      "cell_type": "code",
      "execution_count": 67,
      "metadata": {
        "colab": {
          "base_uri": "https://localhost:8080/"
        },
        "id": "L6xqG5wFlKzF",
        "outputId": "996b807f-5b7b-46a2-db6c-ce0c2beb8b21"
      },
      "outputs": [
        {
          "output_type": "stream",
          "name": "stdout",
          "text": [
            "[[1 7 7]\n",
            " [7 2 7]\n",
            " [7 7 3]]\n"
          ]
        }
      ],
      "source": [
        "v7 = np.diag(range(1,4))\n",
        "v7[v7 == 0] = 7\n",
        "print(v7)"
      ]
    },
    {
      "cell_type": "markdown",
      "metadata": {
        "id": "Yr79pO2zlKzF"
      },
      "source": [
        "9) Создать матрицу размера 5 на 5 заполненную чилами от 0 до 4 в строках."
      ]
    },
    {
      "cell_type": "code",
      "source": [
        "v8= np.zeros((5,5))\n",
        "v8 += np.arange(5)\n",
        "print(v8)"
      ],
      "metadata": {
        "colab": {
          "base_uri": "https://localhost:8080/"
        },
        "id": "tSxK5JCcGz-0",
        "outputId": "b9a38ed0-2485-4ced-bf8c-ee5e89f5fb31"
      },
      "execution_count": null,
      "outputs": [
        {
          "output_type": "stream",
          "name": "stdout",
          "text": [
            "[[0. 1. 2. 3. 4.]\n",
            " [0. 1. 2. 3. 4.]\n",
            " [0. 1. 2. 3. 4.]\n",
            " [0. 1. 2. 3. 4.]\n",
            " [0. 1. 2. 3. 4.]]\n"
          ]
        }
      ]
    },
    {
      "cell_type": "markdown",
      "metadata": {
        "id": "HC1a0nzrlKzG"
      },
      "source": [
        "10) Создать матрицу случайных чисел размера 10 на 10 и отнять среднее по строкам из каждого элемента строки"
      ]
    },
    {
      "cell_type": "code",
      "execution_count": 72,
      "metadata": {
        "colab": {
          "base_uri": "https://localhost:8080/"
        },
        "id": "f5RTua6DlKzG",
        "outputId": "3be44a7d-a62a-4c71-b452-a08884b7eb16"
      },
      "outputs": [
        {
          "output_type": "stream",
          "name": "stdout",
          "text": [
            "[[6 7 7 1 2 0 0 4 8 7]\n",
            " [2 9 0 4 8 6 0 8 6 5]\n",
            " [7 7 6 0 7 3 6 0 3 6]\n",
            " [0 7 9 0 6 8 4 4 9 4]\n",
            " [2 0 9 6 1 5 5 9 0 0]\n",
            " [3 2 0 1 4 7 8 4 4 6]\n",
            " [6 1 0 3 8 3 2 2 7 8]\n",
            " [7 4 0 7 7 1 7 4 3 2]\n",
            " [5 8 6 2 8 0 5 2 3 1]\n",
            " [8 3 9 1 8 3 0 4 5 1]]\n"
          ]
        },
        {
          "output_type": "execute_result",
          "data": {
            "text/plain": [
              "array([[ 1.8,  2.2,  2.5, -4.1, -1.7, -3.9, -4. , -0.2,  4. ,  2.8],\n",
              "       [-2.2,  4.2, -4.5, -1.1,  4.3,  2.1, -4. ,  3.8,  2. ,  0.8],\n",
              "       [ 2.8,  2.2,  1.5, -5.1,  3.3, -0.9,  2. , -4.2, -1. ,  1.8],\n",
              "       [-4.2,  2.2,  4.5, -5.1,  2.3,  4.1,  0. , -0.2,  5. , -0.2],\n",
              "       [-2.2, -4.8,  4.5,  0.9, -2.7,  1.1,  1. ,  4.8, -4. , -4.2],\n",
              "       [-1.2, -2.8, -4.5, -4.1,  0.3,  3.1,  4. , -0.2,  0. ,  1.8],\n",
              "       [ 1.8, -3.8, -4.5, -2.1,  4.3, -0.9, -2. , -2.2,  3. ,  3.8],\n",
              "       [ 2.8, -0.8, -4.5,  1.9,  3.3, -2.9,  3. , -0.2, -1. , -2.2],\n",
              "       [ 0.8,  3.2,  1.5, -3.1,  4.3, -3.9,  1. , -2.2, -1. , -3.2],\n",
              "       [ 3.8, -1.8,  4.5, -4.1,  4.3, -0.9, -4. , -0.2,  1. , -3.2]])"
            ]
          },
          "metadata": {},
          "execution_count": 72
        }
      ],
      "source": [
        "v9 = np.random.randint(10,size = (10, 10))\n",
        "print(v9)\n",
        "v9 - v9.mean(axis=1)"
      ]
    },
    {
      "cell_type": "markdown",
      "metadata": {
        "id": "fUroXV9rlKzG"
      },
      "source": [
        "11) Создать матрицу случайных чисел размера 10 на 10 и отнять медиану по столбцам из каждого элемента столбца  "
      ]
    },
    {
      "cell_type": "code",
      "execution_count": 74,
      "metadata": {
        "id": "tGSeGGWSlKzG",
        "colab": {
          "base_uri": "https://localhost:8080/"
        },
        "outputId": "c617b27f-c7a3-41e5-b8bb-c49e8764f324"
      },
      "outputs": [
        {
          "output_type": "stream",
          "name": "stdout",
          "text": [
            "[[0 3 1 0 8 9 2 7 7 0]\n",
            " [7 0 7 7 3 2 1 5 9 1]\n",
            " [9 6 7 0 2 3 8 5 4 0]\n",
            " [9 5 3 4 8 7 7 1 4 9]\n",
            " [1 9 9 1 6 7 7 8 0 9]\n",
            " [1 5 8 0 8 1 7 6 5 0]\n",
            " [8 5 9 7 4 6 2 9 5 3]\n",
            " [0 8 5 2 6 9 7 9 8 1]\n",
            " [3 8 9 3 6 8 1 4 6 2]\n",
            " [6 0 2 9 4 7 3 4 8 6]]\n",
            "[[-4.5 -2.  -6.  -2.5  2.   2.  -3.   1.5  1.5 -1.5]\n",
            " [ 2.5 -5.   0.   4.5 -3.  -5.  -4.  -0.5  3.5 -0.5]\n",
            " [ 4.5  1.   0.  -2.5 -4.  -4.   3.  -0.5 -1.5 -1.5]\n",
            " [ 4.5  0.  -4.   1.5  2.   0.   2.  -4.5 -1.5  7.5]\n",
            " [-3.5  4.   2.  -1.5  0.   0.   2.   2.5 -5.5  7.5]\n",
            " [-3.5  0.   1.  -2.5  2.  -6.   2.   0.5 -0.5 -1.5]\n",
            " [ 3.5  0.   2.   4.5 -2.  -1.  -3.   3.5 -0.5  1.5]\n",
            " [-4.5  3.  -2.  -0.5  0.   2.   2.   3.5  2.5 -0.5]\n",
            " [-1.5  3.   2.   0.5  0.   1.  -4.  -1.5  0.5  0.5]\n",
            " [ 1.5 -5.  -5.   6.5 -2.   0.  -2.  -1.5  2.5  4.5]]\n"
          ]
        }
      ],
      "source": [
        "v10 = np.random.randint(0, 10, (10, 10))\n",
        "print(v10)\n",
        "medians = np.median(v10, axis=0)\n",
        "result = v10 - medians\n",
        "print(result)"
      ]
    },
    {
      "cell_type": "markdown",
      "metadata": {
        "id": "Uatl_LvNlKzG"
      },
      "source": [
        "12) Создать матрицу случайных чисел 5x5. Добавить к ней столбецы максимумов и минимумов по строкам. Получится матрица 5x7.  "
      ]
    },
    {
      "cell_type": "code",
      "execution_count": 78,
      "metadata": {
        "id": "x5ZnAsl_lKzH",
        "colab": {
          "base_uri": "https://localhost:8080/"
        },
        "outputId": "e534d6b7-fbec-4ae1-a501-56b290f2f570"
      },
      "outputs": [
        {
          "output_type": "stream",
          "name": "stdout",
          "text": [
            "[[0 8 5 9 5]\n",
            " [3 4 1 9 5]\n",
            " [7 4 5 6 8]\n",
            " [3 9 7 8 9]\n",
            " [0 8 7 9 9]]\n",
            "[[0 8 5 9 5 9 0]\n",
            " [3 4 1 9 5 9 1]\n",
            " [7 4 5 6 8 8 4]\n",
            " [3 9 7 8 9 9 3]\n",
            " [0 8 7 9 9 9 0]]\n"
          ]
        }
      ],
      "source": [
        "v11 = np.random.randint(10,size = (5,5))\n",
        "print(v11)\n",
        "max_v = np.max(v11, axis=1)\n",
        "min_v = np.min(v11, axis=1)\n",
        "result = np.column_stack((v11, max_v, min_v))\n",
        "print(result)"
      ]
    },
    {
      "cell_type": "markdown",
      "metadata": {
        "id": "g8vBzD3flKzH"
      },
      "source": [
        "13) Вектор чисел от 1 до 51 преобразовать в вектор нечетных чисел и в вектор четных чисел, поменять их размерности, чтобы получились две матрица. Найти произведение этих матриц. Найти обратную матрицу эётого произведения.  "
      ]
    },
    {
      "cell_type": "code",
      "execution_count": null,
      "metadata": {
        "id": "OQjsUfRxlKzH"
      },
      "outputs": [],
      "source": []
    },
    {
      "cell_type": "markdown",
      "metadata": {
        "id": "RrQDXf-ulKzH"
      },
      "source": [
        "14) Создать 8x8 матрицу и заполнить её в шахматном порядке нулями и единицами."
      ]
    },
    {
      "cell_type": "code",
      "execution_count": 81,
      "metadata": {
        "id": "UJYIhzh_lKzH",
        "colab": {
          "base_uri": "https://localhost:8080/"
        },
        "outputId": "bc535eb3-12ca-4795-a86c-8df454076edf"
      },
      "outputs": [
        {
          "output_type": "stream",
          "name": "stdout",
          "text": [
            "[[0 1 0 1 0 1 0 1]\n",
            " [1 0 1 0 1 0 1 0]\n",
            " [0 1 0 1 0 1 0 1]\n",
            " [1 0 1 0 1 0 1 0]\n",
            " [0 1 0 1 0 1 0 1]\n",
            " [1 0 1 0 1 0 1 0]\n",
            " [0 1 0 1 0 1 0 1]\n",
            " [1 0 1 0 1 0 1 0]]\n"
          ]
        }
      ],
      "source": [
        "v13 = np.zeros((8, 8), dtype=int)\n",
        "v13[1::2, ::2] = 1\n",
        "v13[::2, 1::2] = 1\n",
        "print(v13)"
      ]
    }
  ],
  "metadata": {
    "kernelspec": {
      "display_name": "Python 3",
      "language": "python",
      "name": "python3"
    },
    "language_info": {
      "codemirror_mode": {
        "name": "ipython",
        "version": 3
      },
      "file_extension": ".py",
      "mimetype": "text/x-python",
      "name": "python",
      "nbconvert_exporter": "python",
      "pygments_lexer": "ipython3",
      "version": "3.8.0"
    },
    "colab": {
      "provenance": [],
      "include_colab_link": true
    }
  },
  "nbformat": 4,
  "nbformat_minor": 0
}