{
  "nbformat": 4,
  "nbformat_minor": 0,
  "metadata": {
    "colab": {
      "provenance": [],
      "authorship_tag": "ABX9TyPvqZ8iw4R5Z9alDeSI2pUZ",
      "include_colab_link": true
    },
    "kernelspec": {
      "name": "python3",
      "display_name": "Python 3"
    },
    "language_info": {
      "name": "python"
    }
  },
  "cells": [
    {
      "cell_type": "markdown",
      "metadata": {
        "id": "view-in-github",
        "colab_type": "text"
      },
      "source": [
        "<a href=\"https://colab.research.google.com/github/SvetlanaSel/oop/blob/main/%D0%BB%D0%B5%D0%BA%D1%86%D0%B8%D1%8F4.ipynb\" target=\"_parent\"><img src=\"https://colab.research.google.com/assets/colab-badge.svg\" alt=\"Open In Colab\"/></a>"
      ]
    },
    {
      "cell_type": "markdown",
      "source": [
        "Полиморфизм в объектно-ориентированном программировании – это\n",
        "возможность обработки разных типов данных, т. е. принадлежащих к разным\n",
        "классам, с помощью «одно и той же» функции, или метода. "
      ],
      "metadata": {
        "id": "S-50iYHS-rqg"
      }
    },
    {
      "cell_type": "code",
      "execution_count": 1,
      "metadata": {
        "colab": {
          "base_uri": "https://localhost:8080/"
        },
        "id": "shCV5cd2-hsz",
        "outputId": "e0c1068c-d3ed-41ce-8ed8-7faa512ce19b"
      },
      "outputs": [
        {
          "output_type": "stream",
          "name": "stdout",
          "text": [
            "55\n",
            "2\n"
          ]
        }
      ],
      "source": [
        "class T1:\n",
        "  n=10\n",
        "  def total(self, N):\n",
        "    self.total = int(self.n) + int(N)\n",
        "\n",
        "class T2:\n",
        "  def total(self,s):\n",
        "    self.total = len(str(s))\n",
        "\n",
        "t1 = T1()\n",
        "t2 = T2()\n",
        "t1.total(45)\n",
        "t2.total(45)\n",
        "print(t1.total) # Вывод: 55\n",
        "print(t2.total) # Вывод: 2"
      ]
    },
    {
      "cell_type": "markdown",
      "source": [
        "Создадим объект собственного класса, а потом вывести его на экран, то\n",
        "получим информацию о классе объекта и его адрес в памяти. Такое поведение\n",
        "функции print() по умолчанию по отношению к пользовательским классам\n",
        "запрограммировано на самом верхнем уровне иерархии, где-то в суперклассе, от\n",
        "которого неявно наследуются все остальные. \n"
      ],
      "metadata": {
        "id": "o_Pl5Juz_Fkr"
      }
    },
    {
      "cell_type": "code",
      "source": [
        "class A:\n",
        "  def __init__(self, v1, v2):\n",
        "    self.field1 = v1\n",
        "    self.field2 = v2\n",
        "a = A(3, 4)\n",
        "print(a)"
      ],
      "metadata": {
        "colab": {
          "base_uri": "https://localhost:8080/"
        },
        "id": "0ACB3DmC_GbY",
        "outputId": "1e3fe52a-a3ac-4e7c-bcc2-b5c9cbb37998"
      },
      "execution_count": 2,
      "outputs": [
        {
          "output_type": "stream",
          "name": "stdout",
          "text": [
            "<__main__.A object at 0x7f9d6d1af940>\n"
          ]
        }
      ]
    },
    {
      "cell_type": "code",
      "source": [
        "class Parent:\n",
        "  def some_method(self):\n",
        "    print(\"This is Parent object\")\n",
        "class Child1(Parent):\n",
        "  def some_method(self):\n",
        "    print(\"This is Child1 object\")\n",
        "class Child2(Parent):\n",
        "  def some_method(self):\n",
        "    print(\"This is Child2 object\")\n",
        "  def who_am_i(obj):\n",
        "    obj.some_method()\n",
        "p = Parent()\n",
        "c1 = Child1()\n",
        "c2 = Child2()\n",
        "\n",
        "print() "
      ],
      "metadata": {
        "colab": {
          "base_uri": "https://localhost:8080/"
        },
        "id": "gvVkx1vg_L1D",
        "outputId": "3165af00-1bff-4989-cf23-58474d5d0c61"
      },
      "execution_count": 5,
      "outputs": [
        {
          "output_type": "stream",
          "name": "stdout",
          "text": [
            "\n"
          ]
        }
      ]
    }
  ]
}