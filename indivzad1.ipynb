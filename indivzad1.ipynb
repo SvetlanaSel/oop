{
  "nbformat": 4,
  "nbformat_minor": 0,
  "metadata": {
    "colab": {
      "provenance": [],
      "authorship_tag": "ABX9TyNxKiX7eG76NI+xDaP9SHM8",
      "include_colab_link": true
    },
    "kernelspec": {
      "name": "python3",
      "display_name": "Python 3"
    },
    "language_info": {
      "name": "python"
    }
  },
  "cells": [
    {
      "cell_type": "markdown",
      "metadata": {
        "id": "view-in-github",
        "colab_type": "text"
      },
      "source": [
        "<a href=\"https://colab.research.google.com/github/SvetlanaSel/oop/blob/main/indivzad1.ipynb\" target=\"_parent\"><img src=\"https://colab.research.google.com/assets/colab-badge.svg\" alt=\"Open In Colab\"/></a>"
      ]
    },
    {
      "cell_type": "markdown",
      "source": [
        "#Первый вариант выполнения задания(третий трек добавляется в альбом)"
      ],
      "metadata": {
        "id": "Gom5Zee7R8PF"
      }
    },
    {
      "cell_type": "code",
      "execution_count": 25,
      "metadata": {
        "colab": {
          "base_uri": "https://localhost:8080/"
        },
        "id": "WcBo6I5n4NBN",
        "outputId": "404e2a28-46c4-474d-9c40-1c618f74fd6e"
      },
      "outputs": [
        {
          "output_type": "stream",
          "name": "stdout",
          "text": [
            "введите название альбома 1: мама\n",
            "введите название альбома 2: папа\n",
            "введите название группы 1: поп\n",
            "введите название группы 2: рок\n",
            "введите название трека 1(альбом 1): мэсс\n",
            "введите название трека 2(альбом 1): мэд\n",
            "введите длительность трека 1(альбом 1): 2\n",
            "введите длительность трека 2(альбом 1): 3\n",
            "введите название трека 1(альбом 2): марс\n",
            "введите название трека 2(альбом 2): юпитер\n",
            "введите длительность трека 1(альбом 2): 4\n",
            "введите длительность трека 2(альбом 2): 5\n",
            "введите новый трек(альбом 1): сан\n",
            "введите длительность добавленного трека(альбом 1): 5\n",
            "введите новый трек(альбом 2): райли\n",
            "введите длительность добавленного трека(альбом 2): 3\n",
            "длительность альбомов:  (10, 12)\n"
          ]
        }
      ],
      "source": [
        "class Album:\n",
        "  def __init__(self, name1, name2, group1, group2,dur,durr):\n",
        "    self.n1 = name1\n",
        "    self.n2 = name2\n",
        "    self.g1 = group1\n",
        "    self.g2 = group2\n",
        "    self.d = dur\n",
        "    self.dd = durr\n",
        "  def get_tracks(self):\n",
        "    self.n1 = [self.t1, self.dur1, self.t2, self.dur2,self.new,self.nw]\n",
        "    self.n2 = [self.t11, self.d11, self.t22, self.d22, self.new2,self.nw2]\n",
        "    print('название трека 1 -',self.t1,'длительность трека 1 -', self.dur1, 'название трека 2 -',self.t2,'длительность трека 2 -', self.dur2,'название трека 3 -',self.new,'длительность трека 3 -', self.nw)\n",
        "    print('название трека 1 -',self.t11,'длительность трека 1 -', self.dur11,'название трека 2 -',self.t22,'длительность трека 2 -', self.dur22,'название трека 3 -',self.new2,'длительность трека 3 -', self.nw2)\n",
        "    return self.n1, self.n2\n",
        "  def add_tracks(self, newtrack,newd,newtrack2,newd2):\n",
        "    self.new = newtrack\n",
        "    self.nw = newd\n",
        "    self.new2 = newtrack2\n",
        "    self.nw2 = newd2\n",
        "    self.n2_new = self.n2.append(self.new2,self.nw2)\n",
        "    self.n1_new = self.n1.append(self.new,self.nw)\n",
        "    return self.n1_new\n",
        "  def get_duration(self,dur1,dur2,dur11,dur22,newd,newd2):\n",
        "    self.d11 = dur11\n",
        "    self.d22 = dur22\n",
        "    self.d1 = dur1\n",
        "    self.d2 = dur2\n",
        "    self.nw = newd\n",
        "    self.nw2 = newd2\n",
        "    self.d = self.d1+self.d2+self.nw \n",
        "    self.dd = self.d11+self.d22+self.nw2\n",
        "    return self.d, self.dd\n",
        "    print('длительность альбома 1 -',self.d, 'длительность альбома 2 -',self.dd)\n",
        "class Tracks(Album):\n",
        "  def track_name(self,track1, track2, track11, track22):\n",
        "    self.t1 = track1\n",
        "    self.t2 = track2\n",
        "    self.t11 = track11\n",
        "    self.t22 = track22\n",
        "  def duration_t(self, dur1, dur2, dur11, dur22):\n",
        "    self.d11 = dur11\n",
        "    self.d22 = dur22\n",
        "    self.d1 = dur1\n",
        "    self.d2 = dur2\n",
        "    print('название трека 1 -',self.t1,'длительность трека 1 -', self.dur1, 'название трека 2 -',self.t2,'длительность трека 2 -', self.dur2,'название трека 3 -',self.new,'длительность трека 3 -', self.nw)\n",
        "    print('название трека 1 -',self.t11,'длительность трека 1 -', self.dur11,'название трека 2 -',self.t22,'длительность трека 2 -', self.dur22,'название трека 3 -',self.new2,'длительность трека 3 -', self.nw2)\n",
        "name1 = str(input('введите название альбома 1: '))\n",
        "name2 = str(input('введите название альбома 2: '))\n",
        "group1 = str(input('введите название группы 1: '))\n",
        "group2 = str(input('введите название группы 2: '))\n",
        "track1 = str(input('введите название трека 1(альбом 1): '))\n",
        "track2 = str(input('введите название трека 2(альбом 1): '))\n",
        "dur1 = int(input('введите длительность трека 1(альбом 1): '))\n",
        "dur2 = int(input('введите длительность трека 2(альбом 1): '))\n",
        "track11 = str(input('введите название трека 1(альбом 2): '))\n",
        "track22 = str(input('введите название трека 2(альбом 2): '))\n",
        "dur11 = int(input('введите длительность трека 1(альбом 2): '))\n",
        "dur22 = int(input('введите длительность трека 2(альбом 2): '))\n",
        "newtrack = input('введите новый трек(альбом 1): ')\n",
        "newd = int(input('введите длительность добавленного трека(альбом 1): '))\n",
        "newtrack2 = input('введите новый трек(альбом 2): ')\n",
        "newd2 = int(input('введите длительность добавленного трека(альбом 2): '))\n",
        "dur = dur1+dur2+newd\n",
        "durr=dur11+dur22+newd2\n",
        "a = Album(name1, name2, group1, group2, dur,durr)\n",
        "print('длительность альбомов: ', a.get_duration(dur1, dur2, dur11, dur22,newd,newd2))\n",
        "del a"
      ]
    },
    {
      "cell_type": "code",
      "source": [
        "if __name__ == \"__main__\":\n",
        "    a = Album(name1, name2, group1, group2, dur,durr)\n",
        "    a.get_duration(dur1, dur2, dur11, dur22,newd,newd2)\n",
        "    del a"
      ],
      "metadata": {
        "id": "UbiiMdE4K7Xn"
      },
      "execution_count": 27,
      "outputs": []
    },
    {
      "cell_type": "markdown",
      "source": [
        "#Второй вариант(третий трек уже есть, происходит тестовое добавление трека в альбом)"
      ],
      "metadata": {
        "id": "jRdDszIsSQqS"
      }
    },
    {
      "cell_type": "code",
      "source": [
        "class Album:\n",
        "  def __init__(self, name1, name2, group1, group2,dur,durr):\n",
        "    self.n1 = name1\n",
        "    self.n2 = name2\n",
        "    self.g1 = group1\n",
        "    self.g2 = group2\n",
        "    self.d = dur\n",
        "    self.dd = durr\n",
        "  def get_tracks(self):\n",
        "    self.n1 = [self.t1,self.dur1, self.t2,self.dur2, self.t3,self.dur3]\n",
        "    print('название трека 1 -',self.t1,'длительность трека 1 -', self.dur1, 'название трека 2 -',self.t2,'длительность трека 2 -', self.dur2, 'название трека 3 -',self.t3,'длительность трека 3 -', self.dur3)\n",
        "    self.n2 = [self.t11,self.d11,self.t22,self.d22,self.t33,self.d33]\n",
        "    print('название трека 1 -',self.t11,'длительность трека 1 -', self.dur11, 'название трека 2 -',self.t22,'длительность трека 2 -', self.dur22, 'название трека 3 -',self.t33,'длительность трека 3 -', self.dur33)\n",
        "    return self.n1, self.n2\n",
        "  def add_tracks(self, new,newd):\n",
        "    self.new = newtrack\n",
        "    self.nw = newd\n",
        "    self.n1_new = self.n1.append(self.new,self.nw)\n",
        "    return self.n1_new\n",
        "  def get_duration(self,dur1,dur2,dur3,dur11,dur22,dur33,newd):\n",
        "    self.d11 = dur11\n",
        "    self.d22 = dur22\n",
        "    self.d33 = dur33\n",
        "    self.d1 = dur1\n",
        "    self.d2 = dur2\n",
        "    self.d3 = dur3\n",
        "    self.nw = newd\n",
        "    self.d = self.d1+self.d2+self.d3+self.nw\n",
        "    self.dd = self.d11+self.d22+self.d33\n",
        "    return self.d, self.dd\n",
        "    print('длительность альбома 1 -',self.d, 'длительность альбома 2 -',self.dd)\n",
        "class Tracks(Album):\n",
        "  def track_name(self,track1, track2, track3, track11, track22, track33):\n",
        "    self.t1 = track1\n",
        "    self.t2 = track2\n",
        "    self.t3 = track3\n",
        "    self.t11 = track11\n",
        "    self.t22 = track22\n",
        "    self.t33 = track33\n",
        "  def duration_t(self, dur1, dur2, dur3, dur11, dur22, dur33):\n",
        "    self.d11 = dur11\n",
        "    self.d22 = dur22\n",
        "    self.d33 = dur33\n",
        "    self.d1 = dur1\n",
        "    self.d2 = dur2\n",
        "    self.d3 = dur3\n",
        "    print('название трека 1 -',self.t1,'длительность трека 1 -', self.dur1)\n",
        "    print('название трека 2 -',self.t2,'длительность трека 2 -', self.dur2)\n",
        "    print('название трека 3 -',self.t3,'длительность трека 3 -', self.dur3)\n",
        "    print('название трека 1 -',self.t11,'длительность трека 1 -', self.dur11)\n",
        "    print('название трека 2 -',self.t22,'длительность трека 2 -', self.dur22)\n",
        "    print('название трека 3 -',self.t33,'длительность трека 3 -', self.dur33)\n",
        "name1 = str(input('введите название альбома 1: '))\n",
        "name2 = str(input('введите название альбома 2: '))\n",
        "group1 = str(input('введите название группы 1: '))\n",
        "group2 = str(input('введите название группы 2: '))\n",
        "track1 = str(input('введите название трека 1(альбом 1): '))\n",
        "track2 = str(input('введите название трека 2(альбом 1): '))\n",
        "track3 = str(input('введите название трека 3(альбом 1): '))\n",
        "dur1 = int(input('введите длительность трека 1(альбом 1): '))\n",
        "dur2 = int(input('введите длительность трека 2(альбом 1): '))\n",
        "dur3 = int(input('введите длительность трека 3(альбом 1): '))\n",
        "track11 = str(input('введите название трека 1(альбом 2): '))\n",
        "track22 = str(input('введите название трека 2(альбом 2): '))\n",
        "track33 = str(input('введите название трека 3(альбом 2): '))\n",
        "dur11 = int(input('введите длительность трека 1(альбом 2): '))\n",
        "dur22 = int(input('введите длительность трека 2(альбом 2): '))\n",
        "dur33 = int(input('введите длительность трека 3(альбом 2): '))\n",
        "durr=dur11+dur22+dur33\n",
        "newtrack = input('введите новый трек: ')\n",
        "newd = int(input('введите длительность добавленного трека: '))\n",
        "dur = dur1+dur2+dur3+newd\n",
        "a = Album(name1, name2, group1, group2, dur,durr)\n",
        "print('длительность альбомов: ', a.get_duration(dur1, dur2, dur3, dur11, dur22, dur33,newd))\n",
        "del a"
      ],
      "metadata": {
        "colab": {
          "base_uri": "https://localhost:8080/"
        },
        "id": "LFMMqHyGSGbB",
        "outputId": "5c80baf8-3a18-488a-e5a7-12015109edcf"
      },
      "execution_count": 28,
      "outputs": [
        {
          "output_type": "stream",
          "name": "stdout",
          "text": [
            "введите название альбома 1: мама\n",
            "введите название альбома 2: папа\n",
            "введите название группы 1: поп\n",
            "введите название группы 2: рок\n",
            "введите название трека 1(альбом 1): мэсс\n",
            "введите название трека 2(альбом 1): мари\n",
            "введите название трека 3(альбом 1): герл\n",
            "введите длительность трека 1(альбом 1): 2\n",
            "введите длительность трека 2(альбом 1): 2\n",
            "введите длительность трека 3(альбом 1): 3\n",
            "введите название трека 1(альбом 2): бэд\n",
            "введите название трека 2(альбом 2): босс\n",
            "введите название трека 3(альбом 2): майк\n",
            "введите длительность трека 1(альбом 2): 3\n",
            "введите длительность трека 2(альбом 2): 4\n",
            "введите длительность трека 3(альбом 2): 5\n",
            "введите новый трек: марс\n",
            "введите длительность добавленного трека: 6\n",
            "длительность альбомов:  (13, 12)\n"
          ]
        }
      ]
    },
    {
      "cell_type": "code",
      "source": [
        "if __name__ == \"__main__\":\n",
        "    a = Album(name1, name2, group1, group2, dur,durr)\n",
        "    a.get_duration(dur1, dur2, dur3, dur11, dur22, dur33,newd)\n",
        "    del a"
      ],
      "metadata": {
        "id": "xW_AVwkTSGjP"
      },
      "execution_count": 29,
      "outputs": []
    }
  ]
}