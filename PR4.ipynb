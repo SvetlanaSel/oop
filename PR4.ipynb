{
  "nbformat": 4,
  "nbformat_minor": 0,
  "metadata": {
    "colab": {
      "provenance": [],
      "authorship_tag": "ABX9TyNk7SPwFu7oxR/FN4eGvyWL",
      "include_colab_link": true
    },
    "kernelspec": {
      "name": "python3",
      "display_name": "Python 3"
    },
    "language_info": {
      "name": "python"
    }
  },
  "cells": [
    {
      "cell_type": "markdown",
      "metadata": {
        "id": "view-in-github",
        "colab_type": "text"
      },
      "source": [
        "<a href=\"https://colab.research.google.com/github/SvetlanaSel/oop/blob/main/PR4.ipynb\" target=\"_parent\"><img src=\"https://colab.research.google.com/assets/colab-badge.svg\" alt=\"Open In Colab\"/></a>"
      ]
    },
    {
      "cell_type": "markdown",
      "source": [
        "Построить класс 1-го уровня с указанными в задании полями и методами: \n",
        "- конструктор, \n",
        "- функция, которая определяет “качество” (Q ) по заданной формуле, \n",
        "- вывод информации об объекте. \n",
        "\n",
        "Построить класс-потомок, который содержит дополнительное поле P и \n",
        "перекрывает функцию качества (Q ), выполняя вычисление по новой формуле \n",
        "(Qp). Варианты заданий представлены в таблице 4.1. \n",
        "\n",
        "Высшее учебное заведение: \n",
        "- название заведения, \n",
        "- количество студентов, зачисленных на 1-\n",
        "й курс, \n",
        "- количество выпускников. \n",
        "\n",
        "Q = количество выпускников / количество \n",
        "зачисленных\n",
        "\n",
        "P: процент выпускников, которые работают по специальности\n",
        "\n",
        "Qp = Р*Q \n"
      ],
      "metadata": {
        "id": "VbK5-nL0BISi"
      }
    },
    {
      "cell_type": "code",
      "source": [
        "class Education_inst:\n",
        "  def __init__(self,name,q1,q2,q):\n",
        "    self.n = name\n",
        "    self.q1 = q1\n",
        "    self.q2 = q2\n",
        "    self.q = q\n",
        "  def qual(self,q):\n",
        "    self.q = self.q1/self.q2\n",
        "    return self.q\n",
        "  def info(self):\n",
        "    print('В учебном заведении \"{}\" из всех поступивших выпустилась только {} часть'.format(name, self.q))\n",
        "class Quality(Education_inst):\n",
        "  def __init__(self, name, q1,q2,q,p,Qp):\n",
        "    super().__init__(name,q1,q2,q)\n",
        "    self.p = p\n",
        "    self.Qp = Qp\n",
        "  def qual(self,Qp):\n",
        "    self.Qp = self.p*super().qual(q)\n",
        "    return self.Qp\n",
        "  def info(self):\n",
        "    print('Качество работающих по специальности относительно поступивших: {}'.format(self.Qp))\n",
        "try:\n",
        "  name = str( input('введите название учебного заведения: '))\n",
        "  q1 = int(input('введите количество выпускников учебного заведения: '))\n",
        "  q2 = int(input('введите количество зачисленных в это учебное заведение: '))\n",
        "  p = int(input('введите количество выпускников этого учебного заведения, работающих по специальности: '))\n",
        "  q = q1/q2\n",
        "  Qp = p*q\n",
        "  e = Education_inst(name,q1,q2,q)\n",
        "  e.info()\n",
        "  ql = Quality(name,q1,q2,q,p,Qp)\n",
        "  ql.info()\n",
        "except ValueError as err:\n",
        "  print('ОШИБКА, проверьте введенные данные')"
      ],
      "metadata": {
        "colab": {
          "base_uri": "https://localhost:8080/"
        },
        "id": "NLd2bETcHN-f",
        "outputId": "e39fd619-3ab3-4779-cd93-feeb13981983"
      },
      "execution_count": null,
      "outputs": [
        {
          "output_type": "stream",
          "name": "stdout",
          "text": [
            "введите название учебного заведения: мгпу\n",
            "введите количество выпускников учебного заведения: 100\n",
            "введите количество зачисленных в это учебное заведение: 200\n",
            "введите количество выпускников этого учебного заведения, работающих по специальности: 50\n",
            "В учебном заведении \"мгпу\" из всех поступивших выпустилась только 0.5 часть\n",
            "Качество работающих по специальности относительно поступивших: 25.0\n"
          ]
        }
      ]
    }
  ]
}